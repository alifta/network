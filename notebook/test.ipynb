{
 "metadata": {
  "language_info": {
   "codemirror_mode": {
    "name": "ipython",
    "version": 3
   },
   "file_extension": ".py",
   "mimetype": "text/x-python",
   "name": "python",
   "nbconvert_exporter": "python",
   "pygments_lexer": "ipython3",
   "version": "3.7.4-final"
  },
  "orig_nbformat": 2,
  "kernelspec": {
   "name": "python3",
   "display_name": "Python 3.7.4 64-bit ('venv': venv)",
   "metadata": {
    "interpreter": {
     "hash": "1fb7b506ebc3278d414a9cb99032ea74abe5bd5354639d5975aa94eabd1f0026"
    }
   }
  }
 },
 "nbformat": 4,
 "nbformat_minor": 2,
 "cells": [
  {
   "source": [
    "# Testing package inside a notebook"
   ],
   "cell_type": "markdown",
   "metadata": {}
  },
  {
   "cell_type": "code",
   "execution_count": 92,
   "metadata": {},
   "outputs": [],
   "source": [
    "# from graph.utils import *\n",
    "# from graph.spread import *"
   ]
  },
  {
   "cell_type": "code",
   "execution_count": 199,
   "metadata": {},
   "outputs": [],
   "source": [
    "def breakdown(x, num=0, full=False,return_rank=False):\n",
    "    \"\"\"\n",
    "    Breakdown a list into chunks of sublist of size N\n",
    "    \"\"\"\n",
    "    # Full -> size of chun is the entire list\n",
    "    if full:\n",
    "        num = len(x)\n",
    "    # Sort the list / dict using (high -> low) values\n",
    "    if isinstance(x, dict):\n",
    "        ranks = pd.Series(x, index=sorted(\n",
    "            x.keys()\n",
    "        )).rank(method='dense', ascending=False).astype(int).sort_values()\n",
    "    else:\n",
    "        ranks = pd.Series(x).rank(method='dense',\n",
    "                                  ascending=False).astype(int).sort_values()\n",
    "    # Divide the ranks into chunk of desired size\n",
    "    chunks = [list(ranks.iloc[i:i + num]) for i in range(0, len(ranks), num)]\n",
    "    # Dictionary of {rank : indices}\n",
    "    rank_idx = {i: set() for i in set(ranks)}\n",
    "    for idx, rank in ranks.items():\n",
    "        # print(f'{rank} : {idx}')\n",
    "        rank_idx[rank].add(idx)\n",
    "    # Create a new chunk, but index of high ranks to low ranks\n",
    "    bd = []\n",
    "    rs = []\n",
    "    for chunk in chunks:\n",
    "        x_temp = []\n",
    "        for rank in chunk:\n",
    "            # Picl a random index from the selected rank\n",
    "            idx = rn.sample(rank_idx[rank], 1)[0]\n",
    "            x_temp.append(idx)\n",
    "            rank_idx.get(rank).remove(idx)\n",
    "        bd.append(x_temp)\n",
    "    return bd"
   ]
  },
  {
   "cell_type": "code",
   "execution_count": 221,
   "metadata": {},
   "outputs": [],
   "source": [
    "import numpy as np\n",
    "import pandas as pd\n",
    "import random as rn\n",
    "import networkx as nx\n",
    "\n",
    "from collections import defaultdict\n",
    "\n",
    "import seaborn as sns\n",
    "import matplotlib.pyplot as plt\n",
    "\n",
    "\n",
    "class SIR:\n",
    "    def __init__(self, graph, beta=0.1, mu=1.0, gamma=0.0, seed=None):\n",
    "        \"\"\"\n",
    "        Parameters\n",
    "        ----------\n",
    "        beta : float\n",
    "            infection probability\n",
    "        mu : float\n",
    "            recovery probability\n",
    "        beta : float\n",
    "            immunization probability\n",
    "        \n",
    "        Instances\n",
    "        ---------\n",
    "        lambda_0 : float\n",
    "            spreading rate\n",
    "        lambda_c : float\n",
    "            epidemic threshold\n",
    "        tau : float\n",
    "            characteristic time\n",
    "        \n",
    "        Note\n",
    "        ----\n",
    "        we assume that network has high degree heterogeneity\n",
    "        i.e. k^2 > k(k+1) and in large networks both tau and\n",
    "        lambda_c would become zero due to existance of hubs\n",
    "        \"\"\"\n",
    "        self.graph = graph\n",
    "        self.beta = beta\n",
    "        self.mu = mu\n",
    "        self.gamma = gamma\n",
    "        np.random.seed(seed)\n",
    "        self.itr = 0\n",
    "        self.spread = 0.0\n",
    "        self.avg_k = 0.0\n",
    "        self.avg_k2 = 0.0\n",
    "        self.lambda_0 = self.beta / self.mu\n",
    "        self.lambda_c = 0.0\n",
    "        self.tau = 0.0\n",
    "        self.status = {n: 0 for n in self.graph.nodes()}\n",
    "        self.I_set = set()\n",
    "        self.S_set = set(self.graph.nodes())\n",
    "        self.R_set = set()\n",
    "        self.B_set = set()  # Blocked i.e. immunied\n",
    "        self.parameter = {\n",
    "            'beta': 'Infection rate',\n",
    "            'mu': 'Recovery rate',\n",
    "            'gamma': 'Immunization rate',\n",
    "            0: 'Susceptible',\n",
    "            1: 'Infected',\n",
    "            2: 'Recovered',\n",
    "            3: 'Immunized',\n",
    "        }\n",
    "        self.graph_properties()\n",
    "        self.epidemic_threshold()\n",
    "\n",
    "    def reset(self):\n",
    "        self.itr = 0\n",
    "        self.spread = 0.0\n",
    "        self.status = {n: 0 for n in self.graph.nodes()}\n",
    "        self.I_set = set()\n",
    "        self.S_set = set(self.graph.nodes())\n",
    "        self.R_set = set()\n",
    "        self.B_set = set()\n",
    "    \n",
    "    def graph_properties(self):\n",
    "        self.avg_k = np.mean([x for x in dict(self.graph.degree()).values()])\n",
    "        self.avg_k2 = np.mean([x**2 for x in dict(self.graph.degree()).values()])\n",
    "\n",
    "    def epidemic_threshold(self, output=False):\n",
    "        # Epidemic threshold i.e. lambda_c or beta_c\n",
    "        self.lambda_c = self.avg_k / (self.avg_k2 - self.avg_k)\n",
    "        if output: print(f'lambda_c = {self.lambda_c}')\n",
    "        return self.lambda_c\n",
    "    \n",
    "    def update_beta(self, ratio=1.5, output=False):\n",
    "        # Update infection probability based on epidemic threshold\n",
    "        self.beta = ratio * self.lambda_c\n",
    "        if output: print(f'beta = {ratio} * lambda_c = {self.beta}')\n",
    "        return self.beta\n",
    "\n",
    "    def characteristic_time(self, output=False):\n",
    "        # CT is the time that 1/e fraction (about 36%) of all susceptible individuals\n",
    "        # Become Infected based on average degree and other graph properties\n",
    "        self.tau = self.avg_k / ((self.beta * self.avg_k2)-((self.mu+self.beta)*self.avg_k))\n",
    "        if output: print(f'tau = {self.tau}')\n",
    "        return self.tau\n",
    "    \n",
    "    def reproductive_number(self, output=False):\n",
    "        # The higher is R_0, the faster is the spreading process\n",
    "        # Since beta and mu are constant we want to decrease <k> as much as possible\n",
    "        r_0 = self.beta * self.avg_k / self.mu\n",
    "        if putput: print(f'R_0 = {r_0}')\n",
    "        return r_0\n",
    "\n",
    "    def infect(self):\n",
    "        return True if np.random.uniform(0.0, 1.0) < self.beta else False\n",
    "\n",
    "    def recover(self):\n",
    "        return True if np.random.uniform(0.0, 1.0) < self.mu else False\n",
    "\n",
    "    def update_S(self):\n",
    "        # (1) Susceptible excludes recovered\n",
    "        # Recovered nodes won't get infected again = SIR\n",
    "        self.S_set = set(self.graph.nodes()).difference(self.I_set).difference(\n",
    "            self.R_set\n",
    "        ).difference(self.B_set)\n",
    "        # (2) Susceptible includes recovered\n",
    "        # Recovered nodes can get infected again = SIS\n",
    "        # self.S_set = set(self.graph.nodes()).difference(self.I_set).difference(self.B_set)\n",
    "\n",
    "    def update_I(self, I_new=None):\n",
    "        if I_new is not None:\n",
    "            # Add newly infected to infected set\n",
    "            self.I_set.update(I_new)\n",
    "\n",
    "    def update_R(self, R_new=None):\n",
    "        if R_new is not None:\n",
    "            # Remove recovered from infected set\n",
    "            self.I_set = self.I_set.difference(R_new)\n",
    "            # Add recovered nodes to recovered group\n",
    "            self.R_set.update(R_new)\n",
    "\n",
    "    def update_spread(self):\n",
    "        self.spread = len(self.R_set) / self.graph.number_of_nodes()\n",
    "\n",
    "    def start(self, infected=None, infected_num=1, output=False):\n",
    "        # At the beginning of simulation\n",
    "        # Infect first node(s) to infect, from the input list or randomly\n",
    "        if self.itr == 0:\n",
    "            if infected is None:\n",
    "                if infected_num < 1:\n",
    "                    # Infected ratio is set\n",
    "                    infected_num = int(\n",
    "                        infected_num * self.graph.number_of_nodes()\n",
    "                    )\n",
    "                infected = list(\n",
    "                    np.random.choice(\n",
    "                        self.graph.nodes(), size=infected_num, replace=False\n",
    "                    )\n",
    "                )\n",
    "            self.I_set.update(infected)\n",
    "            self.S_set.difference(infected)\n",
    "            for node in infected:\n",
    "                self.status[node] = 1\n",
    "            if output:\n",
    "                print('Iteration = 0')\n",
    "                # print('Number of Infected =', len(self.I_set))\n",
    "                print('Patient zero =', self.I_set)\n",
    "                print('---')\n",
    "\n",
    "    def run(\n",
    "        self,\n",
    "        steps=1,\n",
    "        infected=None,\n",
    "        recovered=None,\n",
    "        immunized=None,\n",
    "        output=False,\n",
    "    ):\n",
    "        # Manually add new infected nodes\n",
    "        if infected is not None:\n",
    "            self.I_set.update(infected)\n",
    "\n",
    "        # Manually recover some of infected nodes\n",
    "        if recovered is not None:\n",
    "            self.R_set.update(recovered)\n",
    "\n",
    "        # Manually immunie or heal some of nodes\n",
    "        if immunized is not None:\n",
    "            self.B_set.update(immunized)\n",
    "        else:\n",
    "            # Randomly immune node(s) based on gamma\n",
    "            immunized = list(\n",
    "                np.random.choice(\n",
    "                    self.graph.nodes(),\n",
    "                    size=int(self.gamma * self.graph.number_of_nodes()),\n",
    "                    replace=False\n",
    "                )\n",
    "            )\n",
    "\n",
    "        # Step counter of this run\n",
    "        t = 0\n",
    "        while len(self.I_set) > 0:\n",
    "            # Current infected nodes\n",
    "            I = self.I_set.copy()\n",
    "            # Nodes that may recover\n",
    "            R = set()\n",
    "            StoI = set()\n",
    "            ItoR = set()\n",
    "            # Start infecttion\n",
    "            for i in I:\n",
    "                # Look at neighbors of infected node\n",
    "                for n in set(self.graph.neighbors(i)).intersection(self.S_set):\n",
    "                    if self.infect():\n",
    "                        # Add to newly infected set\n",
    "                        StoI.add(n)\n",
    "                # Node may recover later based on mu parameter\n",
    "                R.add(i)\n",
    "            # Start recovery\n",
    "            for i in R:\n",
    "                if self.recover():\n",
    "                    ItoR.add(i)\n",
    "            # At this point, 1 time step is completed\n",
    "            # Update variables\n",
    "            self.update_I(StoI)\n",
    "            self.update_R(ItoR)\n",
    "            # It is important to update S after I and R\n",
    "            self.update_S()\n",
    "            self.update_spread()\n",
    "            t += 1\n",
    "            self.itr += 1\n",
    "            # Stop IF ... reach the number of steps\n",
    "            # Meet desired rocovered ratio or all node recoveres or no more infections\n",
    "            if t % steps == 0 or len(self.I_set) == 0:\n",
    "                # Output result\n",
    "                if output:\n",
    "                    print(f'Iteration = {self.itr}')\n",
    "                    print(f'Number of Susceptible = {len(self.S_set)}')\n",
    "                    print(f'Number of Infected = {len(self.I_set)}')\n",
    "                    print(f'Number of Recovered = {len(self.R_set)}')\n",
    "                    # print(f'Spread = {np.round(self.spread * 100,2)} %')\n",
    "                    print(f'Spread = {self.spread * 100} %')\n",
    "                    print('---')\n",
    "                    # Report back the measures\n",
    "                yield (\n",
    "                    {\n",
    "                        't': self.itr,\n",
    "                        's': self.spread,\n",
    "                        'S': self.S_set,\n",
    "                        'I': self.I_set,\n",
    "                        'R': self.R_set,\n",
    "                        'StoI': StoI,\n",
    "                        'ItoR': ItoR,\n",
    "                    }\n",
    "                )\n",
    "\n",
    "    def simulate(self, p_0=None, steps=1, repeat=10):\n",
    "        # Patient zero i.e. p_0 is initial infected node at the start\n",
    "        results = []\n",
    "        for i in range(0, repeat):\n",
    "            if p_0 is not None:\n",
    "                self.start(infected=p_0, output=True)\n",
    "            else:\n",
    "                self.start(output=True)  # Radnom patient zero\n",
    "            simulation_step = [\n",
    "                r['s'] for r in self.run(steps=steps, output=True)\n",
    "            ]\n",
    "            results.append(simulation_step[len(simulation_step) - 1])\n",
    "            self.reset()\n",
    "        return results\n",
    "\n",
    "    def simulate_r(self, steps=1, repeat=10, plot=True):\n",
    "        # Set every node as patient zero at every iteration\n",
    "        # Average the spread score over several simulation (e.g. 10)\n",
    "        scores = {}\n",
    "        for node in self.graph.nodes():\n",
    "            results = []\n",
    "            for i in range(0, repeat):\n",
    "                self.start(infected=[node])\n",
    "                simulation_step = [r['s'] for r in self.run(steps=steps)]\n",
    "                # Spread result from last time step\n",
    "                # Where there is no infected left\n",
    "                results.append(simulation_step[len(simulation_step) - 1])\n",
    "                self.reset()\n",
    "            scores[node] = np.mean(results)\n",
    "        # Return ranked node:score\n",
    "        bd = breakdown(scores,full=True)\n",
    "        # Plot the scores\n",
    "        if plot:\n",
    "            # Sort the scores\n",
    "            # (1)\n",
    "            # ss = sorted(scores.items(), key=lambda kv: kv[1])\n",
    "            # x, y = zip(*ss)\n",
    "            # (2)\n",
    "            y = bd[0][:]\n",
    "            x = np.arange(0,len(y))\n",
    "            fig = plt.figure(figsize=(8, 6), dpi=400)\n",
    "            ax = fig.add_axes([0,0,1,1])\n",
    "            ax.bar(x,y)\n",
    "            plt.show()\n",
    "        return scores\n",
    "\n",
    "    def simulate_sir(self, steps=1, repeat=10):\n",
    "        # Set every node as patient zero at every iteration\n",
    "        # Average the spread score over several simulation (e.g. 10)\n",
    "        # Set plot settings.\n",
    "        plt.figure(figsize=(12, 6), dpi=400)\n",
    "        N = self.graph.number_of_nodes()\n",
    "        resutls = {}\n",
    "        for node in self.graph.nodes():\n",
    "            # results = []\n",
    "            s_t = defaultdict(list)\n",
    "            i_t = defaultdict(list)\n",
    "            r_t = defaultdict(list)\n",
    "            for i in range(0, repeat):\n",
    "                self.start(infected=[node])\n",
    "                for r in self.run(steps=steps):\n",
    "                    s_t[r['t']].append(len(r['S']))\n",
    "                    i_t[r['t']].append(len(r['I']))\n",
    "                    r_t[r['t']].append(len(r['R']))\n",
    "                self.reset()\n",
    "            # Now time to average the results for each time step\n",
    "            s_t = {k: np.mean(v) / N for k, v in s_t.items()}\n",
    "            i_t = {k: np.mean(v) / N for k, v in i_t.items()}\n",
    "            r_t = {k: np.mean(v) / N for k, v in r_t.items()}\n",
    "            plt.plot(\n",
    "                s_t.keys(),\n",
    "                s_t.values(),\n",
    "                color='blue',\n",
    "                linewidth=0.5,\n",
    "                alpha=0.5\n",
    "            )\n",
    "            plt.plot(\n",
    "                i_t.keys(),\n",
    "                i_t.values(),\n",
    "                color='red',\n",
    "                linewidth=0.5,\n",
    "                alpha=0.5\n",
    "            )\n",
    "            plt.plot(\n",
    "                r_t.keys(),\n",
    "                r_t.values(),\n",
    "                color='green',\n",
    "                linewidth=0.5,\n",
    "                alpha=0.5\n",
    "            )\n",
    "            resutls[node] = {'st': s_t, 'it': i_t, 'rt': r_t}\n",
    "        plt.title(\"SIR Simulation\")\n",
    "        # plt.legend(['S', 'I', 'R'])\n",
    "        plt.xlabel(\"Time\")\n",
    "        plt.ylabel(\"Ratio of SIR nodes\")\n",
    "        plt.show()\n",
    "        return resutls\n"
   ]
  },
  {
   "cell_type": "code",
   "execution_count": 213,
   "metadata": {},
   "outputs": [],
   "source": [
    "G = nx.erdos_renyi_graph(1000,0.01)"
   ]
  },
  {
   "cell_type": "code",
   "execution_count": 214,
   "metadata": {},
   "outputs": [],
   "source": [
    "sir = SIR(G,beta=0.2)"
   ]
  },
  {
   "cell_type": "code",
   "execution_count": 215,
   "metadata": {},
   "outputs": [
    {
     "output_type": "execute_result",
     "data": {
      "text/plain": [
       "1.035117410619843"
      ]
     },
     "metadata": {},
     "execution_count": 215
    }
   ],
   "source": [
    "sir.characteristic_time()\n"
   ]
  },
  {
   "cell_type": "code",
   "execution_count": 216,
   "metadata": {},
   "outputs": [
    {
     "output_type": "execute_result",
     "data": {
      "text/plain": [
       "0.10172557172557171"
      ]
     },
     "metadata": {},
     "execution_count": 216
    }
   ],
   "source": [
    "sir.epidemic_threshold()"
   ]
  },
  {
   "cell_type": "code",
   "execution_count": 210,
   "metadata": {},
   "outputs": [],
   "source": [
    "# fr = sir.simulate()\n",
    "# fr = sir.simulate(p_0=[0])"
   ]
  },
  {
   "cell_type": "code",
   "execution_count": 222,
   "metadata": {},
   "outputs": [
    {
     "output_type": "error",
     "ename": "UnboundLocalError",
     "evalue": "local variable 'bd' referenced before assignment",
     "traceback": [
      "\u001b[0;31m---------------------------------------------------------------------------\u001b[0m",
      "\u001b[0;31mUnboundLocalError\u001b[0m                         Traceback (most recent call last)",
      "\u001b[0;32m<ipython-input-222-859975477f02>\u001b[0m in \u001b[0;36m<module>\u001b[0;34m\u001b[0m\n\u001b[0;32m----> 1\u001b[0;31m \u001b[0mfr\u001b[0m \u001b[0;34m=\u001b[0m \u001b[0msir\u001b[0m\u001b[0;34m.\u001b[0m\u001b[0msimulate_r\u001b[0m\u001b[0;34m(\u001b[0m\u001b[0;34m)\u001b[0m\u001b[0;34m\u001b[0m\u001b[0;34m\u001b[0m\u001b[0m\n\u001b[0m",
      "\u001b[0;32m<ipython-input-212-5317f80f9f16>\u001b[0m in \u001b[0;36msimulate_r\u001b[0;34m(self, steps, repeat, plot)\u001b[0m\n\u001b[1;32m    280\u001b[0m             \u001b[0;31m# ss = sorted(scores.items(), key=lambda kv: kv[1])\u001b[0m\u001b[0;34m\u001b[0m\u001b[0;34m\u001b[0m\u001b[0;34m\u001b[0m\u001b[0m\n\u001b[1;32m    281\u001b[0m             \u001b[0;31m# x, y = zip(*ss)\u001b[0m\u001b[0;34m\u001b[0m\u001b[0;34m\u001b[0m\u001b[0;34m\u001b[0m\u001b[0m\n\u001b[0;32m--> 282\u001b[0;31m             \u001b[0mx\u001b[0m \u001b[0;34m=\u001b[0m \u001b[0mbd\u001b[0m\u001b[0;34m[\u001b[0m\u001b[0;36m0\u001b[0m\u001b[0;34m]\u001b[0m\u001b[0;34m[\u001b[0m\u001b[0;34m:\u001b[0m\u001b[0;34m]\u001b[0m\u001b[0;34m\u001b[0m\u001b[0;34m\u001b[0m\u001b[0m\n\u001b[0m\u001b[1;32m    283\u001b[0m             \u001b[0;31m# y = [scores[i] for i in x]\u001b[0m\u001b[0;34m\u001b[0m\u001b[0;34m\u001b[0m\u001b[0;34m\u001b[0m\u001b[0m\n\u001b[1;32m    284\u001b[0m             \u001b[0my\u001b[0m \u001b[0;34m=\u001b[0m \u001b[0mnp\u001b[0m\u001b[0;34m.\u001b[0m\u001b[0marange\u001b[0m\u001b[0;34m(\u001b[0m\u001b[0;36m0\u001b[0m\u001b[0;34m,\u001b[0m\u001b[0mlen\u001b[0m\u001b[0;34m(\u001b[0m\u001b[0mx\u001b[0m\u001b[0;34m)\u001b[0m\u001b[0;34m)\u001b[0m\u001b[0;34m\u001b[0m\u001b[0;34m\u001b[0m\u001b[0m\n",
      "\u001b[0;31mUnboundLocalError\u001b[0m: local variable 'bd' referenced before assignment"
     ]
    }
   ],
   "source": [
    "fr = sir.simulate_r()"
   ]
  },
  {
   "cell_type": "code",
   "execution_count": null,
   "metadata": {
    "tags": []
   },
   "outputs": [],
   "source": [
    "# fr = sir.simulate_all()"
   ]
  },
  {
   "cell_type": "code",
   "execution_count": 106,
   "metadata": {},
   "outputs": [],
   "source": [
    "# fr"
   ]
  },
  {
   "cell_type": "code",
   "execution_count": 121,
   "metadata": {},
   "outputs": [
    {
     "output_type": "execute_result",
     "data": {
      "text/plain": [
       "(583, 0.0809)"
      ]
     },
     "metadata": {},
     "execution_count": 121
    }
   ],
   "source": [
    "sorted_scores = sorted(fr.items(), key=lambda kv: kv[1], reverse=True)\n",
    "# sorted_scores\n",
    "sorted_scores[-1]"
   ]
  },
  {
   "cell_type": "code",
   "execution_count": 122,
   "metadata": {},
   "outputs": [
    {
     "output_type": "execute_result",
     "data": {
      "text/plain": [
       "583"
      ]
     },
     "metadata": {},
     "execution_count": 122
    }
   ],
   "source": [
    "x,y = zip(*sorted_scores)\n",
    "x[-1]"
   ]
  },
  {
   "cell_type": "code",
   "execution_count": 144,
   "metadata": {},
   "outputs": [
    {
     "output_type": "stream",
     "name": "stderr",
     "text": [
      "/home/alif/venv/lib/python3.7/site-packages/seaborn/distributions.py:2551: FutureWarning: `distplot` is a deprecated function and will be removed in a future version. Please adapt your code to use either `displot` (a figure-level function with similar flexibility) or `histplot` (an axes-level function for histograms).\n  warnings.warn(msg, FutureWarning)\n"
     ]
    },
    {
     "output_type": "execute_result",
     "data": {
      "text/plain": [
       "<AxesSubplot:ylabel='Density'>"
      ]
     },
     "metadata": {},
     "execution_count": 144
    },
    {
     "output_type": "display_data",
     "data": {
      "text/plain": "<Figure size 432x288 with 1 Axes>",
      "image/svg+xml": "<?xml version=\"1.0\" encoding=\"utf-8\" standalone=\"no\"?>\n<!DOCTYPE svg PUBLIC \"-//W3C//DTD SVG 1.1//EN\"\n  \"http://www.w3.org/Graphics/SVG/1.1/DTD/svg11.dtd\">\n<!-- Created with matplotlib (https://matplotlib.org/) -->\n<svg height=\"250.379218pt\" version=\"1.1\" viewBox=\"0 0 376.240625 250.379218\" width=\"376.240625pt\" xmlns=\"http://www.w3.org/2000/svg\" xmlns:xlink=\"http://www.w3.org/1999/xlink\">\n <metadata>\n  <rdf:RDF xmlns:cc=\"http://creativecommons.org/ns#\" xmlns:dc=\"http://purl.org/dc/elements/1.1/\" xmlns:rdf=\"http://www.w3.org/1999/02/22-rdf-syntax-ns#\">\n   <cc:Work>\n    <dc:type rdf:resource=\"http://purl.org/dc/dcmitype/StillImage\"/>\n    <dc:date>2021-03-29T00:30:02.333007</dc:date>\n    <dc:format>image/svg+xml</dc:format>\n    <dc:creator>\n     <cc:Agent>\n      <dc:title>Matplotlib v3.3.3, https://matplotlib.org/</dc:title>\n     </cc:Agent>\n    </dc:creator>\n   </cc:Work>\n  </rdf:RDF>\n </metadata>\n <defs>\n  <style type=\"text/css\">*{stroke-linecap:butt;stroke-linejoin:round;}</style>\n </defs>\n <g id=\"figure_1\">\n  <g id=\"patch_1\">\n   <path d=\"M 0 250.379218 \nL 376.240625 250.379218 \nL 376.240625 0 \nL 0 0 \nz\n\" style=\"fill:none;\"/>\n  </g>\n  <g id=\"axes_1\">\n   <g id=\"patch_2\">\n    <path d=\"M 34.240625 226.501093 \nL 369.040625 226.501093 \nL 369.040625 9.061093 \nL 34.240625 9.061093 \nz\n\" style=\"fill:#ffffff;\"/>\n   </g>\n   <g id=\"patch_3\">\n    <path clip-path=\"url(#pbb0e829372)\" d=\"M 81.789727 226.501093 \nL 92.211545 226.501093 \nL 92.211545 225.528859 \nL 81.789727 225.528859 \nz\n\" style=\"fill:#1f77b4;opacity:0.4;\"/>\n   </g>\n   <g id=\"patch_4\">\n    <path clip-path=\"url(#pbb0e829372)\" d=\"M 92.211545 226.501093 \nL 102.633362 226.501093 \nL 102.633362 226.501093 \nL 92.211545 226.501093 \nz\n\" style=\"fill:#1f77b4;opacity:0.4;\"/>\n   </g>\n   <g id=\"patch_5\">\n    <path clip-path=\"url(#pbb0e829372)\" d=\"M 102.633362 226.501093 \nL 113.055179 226.501093 \nL 113.055179 223.584392 \nL 102.633362 223.584392 \nz\n\" style=\"fill:#1f77b4;opacity:0.4;\"/>\n   </g>\n   <g id=\"patch_6\">\n    <path clip-path=\"url(#pbb0e829372)\" d=\"M 113.055179 226.501093 \nL 123.476996 226.501093 \nL 123.476996 226.501093 \nL 113.055179 226.501093 \nz\n\" style=\"fill:#1f77b4;opacity:0.4;\"/>\n   </g>\n   <g id=\"patch_7\">\n    <path clip-path=\"url(#pbb0e829372)\" d=\"M 123.476996 226.501093 \nL 133.898813 226.501093 \nL 133.898813 217.750992 \nL 123.476996 217.750992 \nz\n\" style=\"fill:#1f77b4;opacity:0.4;\"/>\n   </g>\n   <g id=\"patch_8\">\n    <path clip-path=\"url(#pbb0e829372)\" d=\"M 133.898813 226.501093 \nL 144.32063 226.501093 \nL 144.32063 222.612159 \nL 133.898813 222.612159 \nz\n\" style=\"fill:#1f77b4;opacity:0.4;\"/>\n   </g>\n   <g id=\"patch_9\">\n    <path clip-path=\"url(#pbb0e829372)\" d=\"M 144.32063 226.501093 \nL 154.742448 226.501093 \nL 154.742448 226.501093 \nL 144.32063 226.501093 \nz\n\" style=\"fill:#1f77b4;opacity:0.4;\"/>\n   </g>\n   <g id=\"patch_10\">\n    <path clip-path=\"url(#pbb0e829372)\" d=\"M 154.742448 226.501093 \nL 165.164265 226.501093 \nL 165.164265 209.000891 \nL 154.742448 209.000891 \nz\n\" style=\"fill:#1f77b4;opacity:0.4;\"/>\n   </g>\n   <g id=\"patch_11\">\n    <path clip-path=\"url(#pbb0e829372)\" d=\"M 165.164265 226.501093 \nL 175.586082 226.501093 \nL 175.586082 226.501093 \nL 165.164265 226.501093 \nz\n\" style=\"fill:#1f77b4;opacity:0.4;\"/>\n   </g>\n   <g id=\"patch_12\">\n    <path clip-path=\"url(#pbb0e829372)\" d=\"M 175.586082 226.501093 \nL 186.007899 226.501093 \nL 186.007899 193.445157 \nL 175.586082 193.445157 \nz\n\" style=\"fill:#1f77b4;opacity:0.4;\"/>\n   </g>\n   <g id=\"patch_13\">\n    <path clip-path=\"url(#pbb0e829372)\" d=\"M 186.007899 226.501093 \nL 196.429716 226.501093 \nL 196.429716 208.028658 \nL 186.007899 208.028658 \nz\n\" style=\"fill:#1f77b4;opacity:0.4;\"/>\n   </g>\n   <g id=\"patch_14\">\n    <path clip-path=\"url(#pbb0e829372)\" d=\"M 196.429716 226.501093 \nL 206.851534 226.501093 \nL 206.851534 225.528859 \nL 196.429716 225.528859 \nz\n\" style=\"fill:#1f77b4;opacity:0.4;\"/>\n   </g>\n   <g id=\"patch_15\">\n    <path clip-path=\"url(#pbb0e829372)\" d=\"M 206.851534 226.501093 \nL 217.273351 226.501093 \nL 217.273351 134.13892 \nL 206.851534 134.13892 \nz\n\" style=\"fill:#1f77b4;opacity:0.4;\"/>\n   </g>\n   <g id=\"patch_16\">\n    <path clip-path=\"url(#pbb0e829372)\" d=\"M 217.273351 226.501093 \nL 227.695168 226.501093 \nL 227.695168 226.501093 \nL 217.273351 226.501093 \nz\n\" style=\"fill:#1f77b4;opacity:0.4;\"/>\n   </g>\n   <g id=\"patch_17\">\n    <path clip-path=\"url(#pbb0e829372)\" d=\"M 227.695168 226.501093 \nL 238.116985 226.501093 \nL 238.116985 122.472119 \nL 227.695168 122.472119 \nz\n\" style=\"fill:#1f77b4;opacity:0.4;\"/>\n   </g>\n   <g id=\"patch_18\">\n    <path clip-path=\"url(#pbb0e829372)\" d=\"M 238.116985 226.501093 \nL 248.538802 226.501093 \nL 248.538802 172.056022 \nL 238.116985 172.056022 \nz\n\" style=\"fill:#1f77b4;opacity:0.4;\"/>\n   </g>\n   <g id=\"patch_19\">\n    <path clip-path=\"url(#pbb0e829372)\" d=\"M 248.538802 226.501093 \nL 258.96062 226.501093 \nL 258.96062 223.584392 \nL 248.538802 223.584392 \nz\n\" style=\"fill:#1f77b4;opacity:0.4;\"/>\n   </g>\n   <g id=\"patch_20\">\n    <path clip-path=\"url(#pbb0e829372)\" d=\"M 258.96062 226.501093 \nL 269.382437 226.501093 \nL 269.382437 19.415378 \nL 258.96062 19.415378 \nz\n\" style=\"fill:#1f77b4;opacity:0.4;\"/>\n   </g>\n   <g id=\"patch_21\">\n    <path clip-path=\"url(#pbb0e829372)\" d=\"M 269.382437 226.501093 \nL 279.804254 226.501093 \nL 279.804254 226.501093 \nL 269.382437 226.501093 \nz\n\" style=\"fill:#1f77b4;opacity:0.4;\"/>\n   </g>\n   <g id=\"patch_22\">\n    <path clip-path=\"url(#pbb0e829372)\" d=\"M 279.804254 226.501093 \nL 290.226071 226.501093 \nL 290.226071 48.58238 \nL 279.804254 48.58238 \nz\n\" style=\"fill:#1f77b4;opacity:0.4;\"/>\n   </g>\n   <g id=\"patch_23\">\n    <path clip-path=\"url(#pbb0e829372)\" d=\"M 290.226071 226.501093 \nL 300.647888 226.501093 \nL 300.647888 138.027853 \nL 290.226071 138.027853 \nz\n\" style=\"fill:#1f77b4;opacity:0.4;\"/>\n   </g>\n   <g id=\"patch_24\">\n    <path clip-path=\"url(#pbb0e829372)\" d=\"M 300.647888 226.501093 \nL 311.069705 226.501093 \nL 311.069705 222.612159 \nL 300.647888 222.612159 \nz\n\" style=\"fill:#1f77b4;opacity:0.4;\"/>\n   </g>\n   <g id=\"patch_25\">\n    <path clip-path=\"url(#pbb0e829372)\" d=\"M 311.069705 226.501093 \nL 321.491523 226.501093 \nL 321.491523 71.915982 \nL 311.069705 71.915982 \nz\n\" style=\"fill:#1f77b4;opacity:0.4;\"/>\n   </g>\n   <g id=\"matplotlib.axis_1\">\n    <g id=\"xtick_1\">\n     <g id=\"line2d_1\">\n      <defs>\n       <path d=\"M 0 0 \nL 0 3.5 \n\" id=\"m17ccb4d9fb\" style=\"stroke:#000000;stroke-width:0.8;\"/>\n      </defs>\n      <g>\n       <use style=\"stroke:#000000;stroke-width:0.8;\" x=\"55.163508\" xlink:href=\"#m17ccb4d9fb\" y=\"226.501093\"/>\n      </g>\n     </g>\n     <g id=\"text_1\">\n      <!-- 0.0 -->\n      <g transform=\"translate(47.211946 241.09953)scale(0.1 -0.1)\">\n       <defs>\n        <path d=\"M 31.78125 66.40625 \nQ 24.171875 66.40625 20.328125 58.90625 \nQ 16.5 51.421875 16.5 36.375 \nQ 16.5 21.390625 20.328125 13.890625 \nQ 24.171875 6.390625 31.78125 6.390625 \nQ 39.453125 6.390625 43.28125 13.890625 \nQ 47.125 21.390625 47.125 36.375 \nQ 47.125 51.421875 43.28125 58.90625 \nQ 39.453125 66.40625 31.78125 66.40625 \nz\nM 31.78125 74.21875 \nQ 44.046875 74.21875 50.515625 64.515625 \nQ 56.984375 54.828125 56.984375 36.375 \nQ 56.984375 17.96875 50.515625 8.265625 \nQ 44.046875 -1.421875 31.78125 -1.421875 \nQ 19.53125 -1.421875 13.0625 8.265625 \nQ 6.59375 17.96875 6.59375 36.375 \nQ 6.59375 54.828125 13.0625 64.515625 \nQ 19.53125 74.21875 31.78125 74.21875 \nz\n\" id=\"DejaVuSans-48\"/>\n        <path d=\"M 10.6875 12.40625 \nL 21 12.40625 \nL 21 0 \nL 10.6875 0 \nz\n\" id=\"DejaVuSans-46\"/>\n       </defs>\n       <use xlink:href=\"#DejaVuSans-48\"/>\n       <use x=\"63.623047\" xlink:href=\"#DejaVuSans-46\"/>\n       <use x=\"95.410156\" xlink:href=\"#DejaVuSans-48\"/>\n      </g>\n     </g>\n    </g>\n    <g id=\"xtick_2\">\n     <g id=\"line2d_2\">\n      <g>\n       <use style=\"stroke:#000000;stroke-width:0.8;\" x=\"120.988524\" xlink:href=\"#m17ccb4d9fb\" y=\"226.501093\"/>\n      </g>\n     </g>\n     <g id=\"text_2\">\n      <!-- 0.2 -->\n      <g transform=\"translate(113.036962 241.09953)scale(0.1 -0.1)\">\n       <defs>\n        <path d=\"M 19.1875 8.296875 \nL 53.609375 8.296875 \nL 53.609375 0 \nL 7.328125 0 \nL 7.328125 8.296875 \nQ 12.9375 14.109375 22.625 23.890625 \nQ 32.328125 33.6875 34.8125 36.53125 \nQ 39.546875 41.84375 41.421875 45.53125 \nQ 43.3125 49.21875 43.3125 52.78125 \nQ 43.3125 58.59375 39.234375 62.25 \nQ 35.15625 65.921875 28.609375 65.921875 \nQ 23.96875 65.921875 18.8125 64.3125 \nQ 13.671875 62.703125 7.8125 59.421875 \nL 7.8125 69.390625 \nQ 13.765625 71.78125 18.9375 73 \nQ 24.125 74.21875 28.421875 74.21875 \nQ 39.75 74.21875 46.484375 68.546875 \nQ 53.21875 62.890625 53.21875 53.421875 \nQ 53.21875 48.921875 51.53125 44.890625 \nQ 49.859375 40.875 45.40625 35.40625 \nQ 44.1875 33.984375 37.640625 27.21875 \nQ 31.109375 20.453125 19.1875 8.296875 \nz\n\" id=\"DejaVuSans-50\"/>\n       </defs>\n       <use xlink:href=\"#DejaVuSans-48\"/>\n       <use x=\"63.623047\" xlink:href=\"#DejaVuSans-46\"/>\n       <use x=\"95.410156\" xlink:href=\"#DejaVuSans-50\"/>\n      </g>\n     </g>\n    </g>\n    <g id=\"xtick_3\">\n     <g id=\"line2d_3\">\n      <g>\n       <use style=\"stroke:#000000;stroke-width:0.8;\" x=\"186.81354\" xlink:href=\"#m17ccb4d9fb\" y=\"226.501093\"/>\n      </g>\n     </g>\n     <g id=\"text_3\">\n      <!-- 0.4 -->\n      <g transform=\"translate(178.861978 241.09953)scale(0.1 -0.1)\">\n       <defs>\n        <path d=\"M 37.796875 64.3125 \nL 12.890625 25.390625 \nL 37.796875 25.390625 \nz\nM 35.203125 72.90625 \nL 47.609375 72.90625 \nL 47.609375 25.390625 \nL 58.015625 25.390625 \nL 58.015625 17.1875 \nL 47.609375 17.1875 \nL 47.609375 0 \nL 37.796875 0 \nL 37.796875 17.1875 \nL 4.890625 17.1875 \nL 4.890625 26.703125 \nz\n\" id=\"DejaVuSans-52\"/>\n       </defs>\n       <use xlink:href=\"#DejaVuSans-48\"/>\n       <use x=\"63.623047\" xlink:href=\"#DejaVuSans-46\"/>\n       <use x=\"95.410156\" xlink:href=\"#DejaVuSans-52\"/>\n      </g>\n     </g>\n    </g>\n    <g id=\"xtick_4\">\n     <g id=\"line2d_4\">\n      <g>\n       <use style=\"stroke:#000000;stroke-width:0.8;\" x=\"252.638556\" xlink:href=\"#m17ccb4d9fb\" y=\"226.501093\"/>\n      </g>\n     </g>\n     <g id=\"text_4\">\n      <!-- 0.6 -->\n      <g transform=\"translate(244.686994 241.09953)scale(0.1 -0.1)\">\n       <defs>\n        <path d=\"M 33.015625 40.375 \nQ 26.375 40.375 22.484375 35.828125 \nQ 18.609375 31.296875 18.609375 23.390625 \nQ 18.609375 15.53125 22.484375 10.953125 \nQ 26.375 6.390625 33.015625 6.390625 \nQ 39.65625 6.390625 43.53125 10.953125 \nQ 47.40625 15.53125 47.40625 23.390625 \nQ 47.40625 31.296875 43.53125 35.828125 \nQ 39.65625 40.375 33.015625 40.375 \nz\nM 52.59375 71.296875 \nL 52.59375 62.3125 \nQ 48.875 64.0625 45.09375 64.984375 \nQ 41.3125 65.921875 37.59375 65.921875 \nQ 27.828125 65.921875 22.671875 59.328125 \nQ 17.53125 52.734375 16.796875 39.40625 \nQ 19.671875 43.65625 24.015625 45.921875 \nQ 28.375 48.1875 33.59375 48.1875 \nQ 44.578125 48.1875 50.953125 41.515625 \nQ 57.328125 34.859375 57.328125 23.390625 \nQ 57.328125 12.15625 50.6875 5.359375 \nQ 44.046875 -1.421875 33.015625 -1.421875 \nQ 20.359375 -1.421875 13.671875 8.265625 \nQ 6.984375 17.96875 6.984375 36.375 \nQ 6.984375 53.65625 15.1875 63.9375 \nQ 23.390625 74.21875 37.203125 74.21875 \nQ 40.921875 74.21875 44.703125 73.484375 \nQ 48.484375 72.75 52.59375 71.296875 \nz\n\" id=\"DejaVuSans-54\"/>\n       </defs>\n       <use xlink:href=\"#DejaVuSans-48\"/>\n       <use x=\"63.623047\" xlink:href=\"#DejaVuSans-46\"/>\n       <use x=\"95.410156\" xlink:href=\"#DejaVuSans-54\"/>\n      </g>\n     </g>\n    </g>\n    <g id=\"xtick_5\">\n     <g id=\"line2d_5\">\n      <g>\n       <use style=\"stroke:#000000;stroke-width:0.8;\" x=\"318.463572\" xlink:href=\"#m17ccb4d9fb\" y=\"226.501093\"/>\n      </g>\n     </g>\n     <g id=\"text_5\">\n      <!-- 0.8 -->\n      <g transform=\"translate(310.512009 241.09953)scale(0.1 -0.1)\">\n       <defs>\n        <path d=\"M 31.78125 34.625 \nQ 24.75 34.625 20.71875 30.859375 \nQ 16.703125 27.09375 16.703125 20.515625 \nQ 16.703125 13.921875 20.71875 10.15625 \nQ 24.75 6.390625 31.78125 6.390625 \nQ 38.8125 6.390625 42.859375 10.171875 \nQ 46.921875 13.96875 46.921875 20.515625 \nQ 46.921875 27.09375 42.890625 30.859375 \nQ 38.875 34.625 31.78125 34.625 \nz\nM 21.921875 38.8125 \nQ 15.578125 40.375 12.03125 44.71875 \nQ 8.5 49.078125 8.5 55.328125 \nQ 8.5 64.0625 14.71875 69.140625 \nQ 20.953125 74.21875 31.78125 74.21875 \nQ 42.671875 74.21875 48.875 69.140625 \nQ 55.078125 64.0625 55.078125 55.328125 \nQ 55.078125 49.078125 51.53125 44.71875 \nQ 48 40.375 41.703125 38.8125 \nQ 48.828125 37.15625 52.796875 32.3125 \nQ 56.78125 27.484375 56.78125 20.515625 \nQ 56.78125 9.90625 50.3125 4.234375 \nQ 43.84375 -1.421875 31.78125 -1.421875 \nQ 19.734375 -1.421875 13.25 4.234375 \nQ 6.78125 9.90625 6.78125 20.515625 \nQ 6.78125 27.484375 10.78125 32.3125 \nQ 14.796875 37.15625 21.921875 38.8125 \nz\nM 18.3125 54.390625 \nQ 18.3125 48.734375 21.84375 45.5625 \nQ 25.390625 42.390625 31.78125 42.390625 \nQ 38.140625 42.390625 41.71875 45.5625 \nQ 45.3125 48.734375 45.3125 54.390625 \nQ 45.3125 60.0625 41.71875 63.234375 \nQ 38.140625 66.40625 31.78125 66.40625 \nQ 25.390625 66.40625 21.84375 63.234375 \nQ 18.3125 60.0625 18.3125 54.390625 \nz\n\" id=\"DejaVuSans-56\"/>\n       </defs>\n       <use xlink:href=\"#DejaVuSans-48\"/>\n       <use x=\"63.623047\" xlink:href=\"#DejaVuSans-46\"/>\n       <use x=\"95.410156\" xlink:href=\"#DejaVuSans-56\"/>\n      </g>\n     </g>\n    </g>\n   </g>\n   <g id=\"matplotlib.axis_2\">\n    <g id=\"ytick_1\">\n     <g id=\"line2d_6\">\n      <defs>\n       <path d=\"M 0 0 \nL -3.5 0 \n\" id=\"m0cf33f16df\" style=\"stroke:#000000;stroke-width:0.8;\"/>\n      </defs>\n      <g>\n       <use style=\"stroke:#000000;stroke-width:0.8;\" x=\"34.240625\" xlink:href=\"#m0cf33f16df\" y=\"226.501093\"/>\n      </g>\n     </g>\n     <g id=\"text_6\">\n      <!-- 0 -->\n      <g transform=\"translate(20.878125 230.300311)scale(0.1 -0.1)\">\n       <use xlink:href=\"#DejaVuSans-48\"/>\n      </g>\n     </g>\n    </g>\n    <g id=\"ytick_2\">\n     <g id=\"line2d_7\">\n      <g>\n       <use style=\"stroke:#000000;stroke-width:0.8;\" x=\"34.240625\" xlink:href=\"#m0cf33f16df\" y=\"195.715111\"/>\n      </g>\n     </g>\n     <g id=\"text_7\">\n      <!-- 1 -->\n      <g transform=\"translate(20.878125 199.514329)scale(0.1 -0.1)\">\n       <defs>\n        <path d=\"M 12.40625 8.296875 \nL 28.515625 8.296875 \nL 28.515625 63.921875 \nL 10.984375 60.40625 \nL 10.984375 69.390625 \nL 28.421875 72.90625 \nL 38.28125 72.90625 \nL 38.28125 8.296875 \nL 54.390625 8.296875 \nL 54.390625 0 \nL 12.40625 0 \nz\n\" id=\"DejaVuSans-49\"/>\n       </defs>\n       <use xlink:href=\"#DejaVuSans-49\"/>\n      </g>\n     </g>\n    </g>\n    <g id=\"ytick_3\">\n     <g id=\"line2d_8\">\n      <g>\n       <use style=\"stroke:#000000;stroke-width:0.8;\" x=\"34.240625\" xlink:href=\"#m0cf33f16df\" y=\"164.929129\"/>\n      </g>\n     </g>\n     <g id=\"text_8\">\n      <!-- 2 -->\n      <g transform=\"translate(20.878125 168.728347)scale(0.1 -0.1)\">\n       <use xlink:href=\"#DejaVuSans-50\"/>\n      </g>\n     </g>\n    </g>\n    <g id=\"ytick_4\">\n     <g id=\"line2d_9\">\n      <g>\n       <use style=\"stroke:#000000;stroke-width:0.8;\" x=\"34.240625\" xlink:href=\"#m0cf33f16df\" y=\"134.143147\"/>\n      </g>\n     </g>\n     <g id=\"text_9\">\n      <!-- 3 -->\n      <g transform=\"translate(20.878125 137.942365)scale(0.1 -0.1)\">\n       <defs>\n        <path d=\"M 40.578125 39.3125 \nQ 47.65625 37.796875 51.625 33 \nQ 55.609375 28.21875 55.609375 21.1875 \nQ 55.609375 10.40625 48.1875 4.484375 \nQ 40.765625 -1.421875 27.09375 -1.421875 \nQ 22.515625 -1.421875 17.65625 -0.515625 \nQ 12.796875 0.390625 7.625 2.203125 \nL 7.625 11.71875 \nQ 11.71875 9.328125 16.59375 8.109375 \nQ 21.484375 6.890625 26.8125 6.890625 \nQ 36.078125 6.890625 40.9375 10.546875 \nQ 45.796875 14.203125 45.796875 21.1875 \nQ 45.796875 27.640625 41.28125 31.265625 \nQ 36.765625 34.90625 28.71875 34.90625 \nL 20.21875 34.90625 \nL 20.21875 43.015625 \nL 29.109375 43.015625 \nQ 36.375 43.015625 40.234375 45.921875 \nQ 44.09375 48.828125 44.09375 54.296875 \nQ 44.09375 59.90625 40.109375 62.90625 \nQ 36.140625 65.921875 28.71875 65.921875 \nQ 24.65625 65.921875 20.015625 65.03125 \nQ 15.375 64.15625 9.8125 62.3125 \nL 9.8125 71.09375 \nQ 15.4375 72.65625 20.34375 73.4375 \nQ 25.25 74.21875 29.59375 74.21875 \nQ 40.828125 74.21875 47.359375 69.109375 \nQ 53.90625 64.015625 53.90625 55.328125 \nQ 53.90625 49.265625 50.4375 45.09375 \nQ 46.96875 40.921875 40.578125 39.3125 \nz\n\" id=\"DejaVuSans-51\"/>\n       </defs>\n       <use xlink:href=\"#DejaVuSans-51\"/>\n      </g>\n     </g>\n    </g>\n    <g id=\"ytick_5\">\n     <g id=\"line2d_10\">\n      <g>\n       <use style=\"stroke:#000000;stroke-width:0.8;\" x=\"34.240625\" xlink:href=\"#m0cf33f16df\" y=\"103.357165\"/>\n      </g>\n     </g>\n     <g id=\"text_10\">\n      <!-- 4 -->\n      <g transform=\"translate(20.878125 107.156383)scale(0.1 -0.1)\">\n       <use xlink:href=\"#DejaVuSans-52\"/>\n      </g>\n     </g>\n    </g>\n    <g id=\"ytick_6\">\n     <g id=\"line2d_11\">\n      <g>\n       <use style=\"stroke:#000000;stroke-width:0.8;\" x=\"34.240625\" xlink:href=\"#m0cf33f16df\" y=\"72.571183\"/>\n      </g>\n     </g>\n     <g id=\"text_11\">\n      <!-- 5 -->\n      <g transform=\"translate(20.878125 76.370401)scale(0.1 -0.1)\">\n       <defs>\n        <path d=\"M 10.796875 72.90625 \nL 49.515625 72.90625 \nL 49.515625 64.59375 \nL 19.828125 64.59375 \nL 19.828125 46.734375 \nQ 21.96875 47.46875 24.109375 47.828125 \nQ 26.265625 48.1875 28.421875 48.1875 \nQ 40.625 48.1875 47.75 41.5 \nQ 54.890625 34.8125 54.890625 23.390625 \nQ 54.890625 11.625 47.5625 5.09375 \nQ 40.234375 -1.421875 26.90625 -1.421875 \nQ 22.3125 -1.421875 17.546875 -0.640625 \nQ 12.796875 0.140625 7.71875 1.703125 \nL 7.71875 11.625 \nQ 12.109375 9.234375 16.796875 8.0625 \nQ 21.484375 6.890625 26.703125 6.890625 \nQ 35.15625 6.890625 40.078125 11.328125 \nQ 45.015625 15.765625 45.015625 23.390625 \nQ 45.015625 31 40.078125 35.4375 \nQ 35.15625 39.890625 26.703125 39.890625 \nQ 22.75 39.890625 18.8125 39.015625 \nQ 14.890625 38.140625 10.796875 36.28125 \nz\n\" id=\"DejaVuSans-53\"/>\n       </defs>\n       <use xlink:href=\"#DejaVuSans-53\"/>\n      </g>\n     </g>\n    </g>\n    <g id=\"ytick_7\">\n     <g id=\"line2d_12\">\n      <g>\n       <use style=\"stroke:#000000;stroke-width:0.8;\" x=\"34.240625\" xlink:href=\"#m0cf33f16df\" y=\"41.785201\"/>\n      </g>\n     </g>\n     <g id=\"text_12\">\n      <!-- 6 -->\n      <g transform=\"translate(20.878125 45.584419)scale(0.1 -0.1)\">\n       <use xlink:href=\"#DejaVuSans-54\"/>\n      </g>\n     </g>\n    </g>\n    <g id=\"ytick_8\">\n     <g id=\"line2d_13\">\n      <g>\n       <use style=\"stroke:#000000;stroke-width:0.8;\" x=\"34.240625\" xlink:href=\"#m0cf33f16df\" y=\"10.999219\"/>\n      </g>\n     </g>\n     <g id=\"text_13\">\n      <!-- 7 -->\n      <g transform=\"translate(20.878125 14.798437)scale(0.1 -0.1)\">\n       <defs>\n        <path d=\"M 8.203125 72.90625 \nL 55.078125 72.90625 \nL 55.078125 68.703125 \nL 28.609375 0 \nL 18.3125 0 \nL 43.21875 64.59375 \nL 8.203125 64.59375 \nz\n\" id=\"DejaVuSans-55\"/>\n       </defs>\n       <use xlink:href=\"#DejaVuSans-55\"/>\n      </g>\n     </g>\n    </g>\n    <g id=\"text_14\">\n     <!-- Density -->\n     <g transform=\"translate(14.798437 136.789686)rotate(-90)scale(0.1 -0.1)\">\n      <defs>\n       <path d=\"M 19.671875 64.796875 \nL 19.671875 8.109375 \nL 31.59375 8.109375 \nQ 46.6875 8.109375 53.6875 14.9375 \nQ 60.6875 21.78125 60.6875 36.53125 \nQ 60.6875 51.171875 53.6875 57.984375 \nQ 46.6875 64.796875 31.59375 64.796875 \nz\nM 9.8125 72.90625 \nL 30.078125 72.90625 \nQ 51.265625 72.90625 61.171875 64.09375 \nQ 71.09375 55.28125 71.09375 36.53125 \nQ 71.09375 17.671875 61.125 8.828125 \nQ 51.171875 0 30.078125 0 \nL 9.8125 0 \nz\n\" id=\"DejaVuSans-68\"/>\n       <path d=\"M 56.203125 29.59375 \nL 56.203125 25.203125 \nL 14.890625 25.203125 \nQ 15.484375 15.921875 20.484375 11.0625 \nQ 25.484375 6.203125 34.421875 6.203125 \nQ 39.59375 6.203125 44.453125 7.46875 \nQ 49.3125 8.734375 54.109375 11.28125 \nL 54.109375 2.78125 \nQ 49.265625 0.734375 44.1875 -0.34375 \nQ 39.109375 -1.421875 33.890625 -1.421875 \nQ 20.796875 -1.421875 13.15625 6.1875 \nQ 5.515625 13.8125 5.515625 26.8125 \nQ 5.515625 40.234375 12.765625 48.109375 \nQ 20.015625 56 32.328125 56 \nQ 43.359375 56 49.78125 48.890625 \nQ 56.203125 41.796875 56.203125 29.59375 \nz\nM 47.21875 32.234375 \nQ 47.125 39.59375 43.09375 43.984375 \nQ 39.0625 48.390625 32.421875 48.390625 \nQ 24.90625 48.390625 20.390625 44.140625 \nQ 15.875 39.890625 15.1875 32.171875 \nz\n\" id=\"DejaVuSans-101\"/>\n       <path d=\"M 54.890625 33.015625 \nL 54.890625 0 \nL 45.90625 0 \nL 45.90625 32.71875 \nQ 45.90625 40.484375 42.875 44.328125 \nQ 39.84375 48.1875 33.796875 48.1875 \nQ 26.515625 48.1875 22.3125 43.546875 \nQ 18.109375 38.921875 18.109375 30.90625 \nL 18.109375 0 \nL 9.078125 0 \nL 9.078125 54.6875 \nL 18.109375 54.6875 \nL 18.109375 46.1875 \nQ 21.34375 51.125 25.703125 53.5625 \nQ 30.078125 56 35.796875 56 \nQ 45.21875 56 50.046875 50.171875 \nQ 54.890625 44.34375 54.890625 33.015625 \nz\n\" id=\"DejaVuSans-110\"/>\n       <path d=\"M 44.28125 53.078125 \nL 44.28125 44.578125 \nQ 40.484375 46.53125 36.375 47.5 \nQ 32.28125 48.484375 27.875 48.484375 \nQ 21.1875 48.484375 17.84375 46.4375 \nQ 14.5 44.390625 14.5 40.28125 \nQ 14.5 37.15625 16.890625 35.375 \nQ 19.28125 33.59375 26.515625 31.984375 \nL 29.59375 31.296875 \nQ 39.15625 29.25 43.1875 25.515625 \nQ 47.21875 21.78125 47.21875 15.09375 \nQ 47.21875 7.46875 41.1875 3.015625 \nQ 35.15625 -1.421875 24.609375 -1.421875 \nQ 20.21875 -1.421875 15.453125 -0.5625 \nQ 10.6875 0.296875 5.421875 2 \nL 5.421875 11.28125 \nQ 10.40625 8.6875 15.234375 7.390625 \nQ 20.0625 6.109375 24.8125 6.109375 \nQ 31.15625 6.109375 34.5625 8.28125 \nQ 37.984375 10.453125 37.984375 14.40625 \nQ 37.984375 18.0625 35.515625 20.015625 \nQ 33.0625 21.96875 24.703125 23.78125 \nL 21.578125 24.515625 \nQ 13.234375 26.265625 9.515625 29.90625 \nQ 5.8125 33.546875 5.8125 39.890625 \nQ 5.8125 47.609375 11.28125 51.796875 \nQ 16.75 56 26.8125 56 \nQ 31.78125 56 36.171875 55.265625 \nQ 40.578125 54.546875 44.28125 53.078125 \nz\n\" id=\"DejaVuSans-115\"/>\n       <path d=\"M 9.421875 54.6875 \nL 18.40625 54.6875 \nL 18.40625 0 \nL 9.421875 0 \nz\nM 9.421875 75.984375 \nL 18.40625 75.984375 \nL 18.40625 64.59375 \nL 9.421875 64.59375 \nz\n\" id=\"DejaVuSans-105\"/>\n       <path d=\"M 18.3125 70.21875 \nL 18.3125 54.6875 \nL 36.8125 54.6875 \nL 36.8125 47.703125 \nL 18.3125 47.703125 \nL 18.3125 18.015625 \nQ 18.3125 11.328125 20.140625 9.421875 \nQ 21.96875 7.515625 27.59375 7.515625 \nL 36.8125 7.515625 \nL 36.8125 0 \nL 27.59375 0 \nQ 17.1875 0 13.234375 3.875 \nQ 9.28125 7.765625 9.28125 18.015625 \nL 9.28125 47.703125 \nL 2.6875 47.703125 \nL 2.6875 54.6875 \nL 9.28125 54.6875 \nL 9.28125 70.21875 \nz\n\" id=\"DejaVuSans-116\"/>\n       <path d=\"M 32.171875 -5.078125 \nQ 28.375 -14.84375 24.75 -17.8125 \nQ 21.140625 -20.796875 15.09375 -20.796875 \nL 7.90625 -20.796875 \nL 7.90625 -13.28125 \nL 13.1875 -13.28125 \nQ 16.890625 -13.28125 18.9375 -11.515625 \nQ 21 -9.765625 23.484375 -3.21875 \nL 25.09375 0.875 \nL 2.984375 54.6875 \nL 12.5 54.6875 \nL 29.59375 11.921875 \nL 46.6875 54.6875 \nL 56.203125 54.6875 \nz\n\" id=\"DejaVuSans-121\"/>\n      </defs>\n      <use xlink:href=\"#DejaVuSans-68\"/>\n      <use x=\"77.001953\" xlink:href=\"#DejaVuSans-101\"/>\n      <use x=\"138.525391\" xlink:href=\"#DejaVuSans-110\"/>\n      <use x=\"201.904297\" xlink:href=\"#DejaVuSans-115\"/>\n      <use x=\"254.003906\" xlink:href=\"#DejaVuSans-105\"/>\n      <use x=\"281.787109\" xlink:href=\"#DejaVuSans-116\"/>\n      <use x=\"320.996094\" xlink:href=\"#DejaVuSans-121\"/>\n     </g>\n    </g>\n   </g>\n   <g id=\"line2d_14\">\n    <path clip-path=\"url(#pbb0e829372)\" d=\"M 49.458807 226.496925 \nL 66.282927 226.367227 \nL 96.872238 225.679226 \nL 110.637427 224.894093 \nL 115.225824 224.46101 \nL 119.81422 223.731682 \nL 132.049944 221.302101 \nL 135.108875 221.056717 \nL 139.697272 220.972393 \nL 144.285668 220.845687 \nL 147.344599 220.549685 \nL 151.932996 219.7798 \nL 159.580323 218.389902 \nL 164.16872 217.544011 \nL 167.227651 216.623957 \nL 168.757117 215.970541 \nL 170.286582 215.164335 \nL 171.816048 214.203262 \nL 174.874979 211.886166 \nL 180.992841 206.885687 \nL 182.522306 205.866526 \nL 184.051772 205.016987 \nL 185.581237 204.343618 \nL 187.110703 203.828819 \nL 193.228565 202.275572 \nL 194.75803 201.651666 \nL 196.287496 200.803287 \nL 197.816961 199.699182 \nL 199.346427 198.338545 \nL 200.875892 196.752873 \nL 208.52322 188.161664 \nL 210.052685 186.909771 \nL 211.582151 185.92788 \nL 213.111616 185.193762 \nL 216.170547 184.182241 \nL 217.700013 183.687075 \nL 219.229478 183.031513 \nL 220.758944 182.098798 \nL 222.288409 180.800185 \nL 223.817875 179.089536 \nL 225.34734 176.97291 \nL 226.876806 174.511506 \nL 232.994668 163.926483 \nL 234.524133 161.907561 \nL 236.053599 160.399559 \nL 237.583064 159.445166 \nL 239.11253 159.018165 \nL 240.641995 159.023751 \nL 245.230392 159.916388 \nL 246.759858 159.826908 \nL 248.289323 159.243757 \nL 249.818789 158.063244 \nL 251.348254 156.257764 \nL 252.87772 153.88181 \nL 254.407185 151.067131 \nL 258.995582 142.084469 \nL 260.525047 139.674093 \nL 262.054513 137.8622 \nL 263.583978 136.731158 \nL 265.113444 136.272724 \nL 266.642909 136.386881 \nL 268.172375 136.893255 \nL 271.231306 138.104877 \nL 272.760771 138.29194 \nL 274.290237 137.906659 \nL 275.819702 136.817065 \nL 277.349168 134.9892 \nL 278.878633 132.496283 \nL 281.937564 126.302605 \nL 283.46703 123.177029 \nL 284.996495 120.470344 \nL 286.525961 118.493699 \nL 288.055426 117.498868 \nL 289.584892 117.647951 \nL 291.114357 118.994146 \nL 292.643823 121.476003 \nL 294.173288 124.925723 \nL 295.702754 129.090231 \nL 300.29115 142.746917 \nL 301.820616 146.702823 \nL 303.350081 150.011842 \nL 304.879547 152.597157 \nL 306.409012 154.480553 \nL 307.938478 155.774047 \nL 309.467943 156.661395 \nL 312.526874 158.152911 \nL 314.05634 159.236352 \nL 315.585805 160.816904 \nL 317.115271 163.030547 \nL 318.644736 165.943703 \nL 320.174202 169.550765 \nL 321.703667 173.779847 \nL 324.762599 183.564239 \nL 329.350995 198.952515 \nL 330.880461 203.615968 \nL 332.409926 207.849203 \nL 333.939392 211.588292 \nL 335.468857 214.805373 \nL 336.998323 217.504045 \nL 338.527788 219.712821 \nL 340.057254 221.477779 \nL 341.586719 222.855379 \nL 343.116185 223.906148 \nL 344.64565 224.689667 \nL 346.175116 225.260997 \nL 347.704581 225.668509 \nL 350.763512 226.147113 \nL 353.822443 226.361888 \nL 353.822443 226.361888 \n\" style=\"fill:none;stroke:#1f77b4;stroke-linecap:square;stroke-width:1.5;\"/>\n   </g>\n   <g id=\"patch_26\">\n    <path d=\"M 34.240625 226.501093 \nL 34.240625 9.061093 \n\" style=\"fill:none;stroke:#000000;stroke-linecap:square;stroke-linejoin:miter;stroke-width:0.8;\"/>\n   </g>\n   <g id=\"patch_27\">\n    <path d=\"M 369.040625 226.501093 \nL 369.040625 9.061093 \n\" style=\"fill:none;stroke:#000000;stroke-linecap:square;stroke-linejoin:miter;stroke-width:0.8;\"/>\n   </g>\n   <g id=\"patch_28\">\n    <path d=\"M 34.240625 226.501093 \nL 369.040625 226.501093 \n\" style=\"fill:none;stroke:#000000;stroke-linecap:square;stroke-linejoin:miter;stroke-width:0.8;\"/>\n   </g>\n   <g id=\"patch_29\">\n    <path d=\"M 34.240625 9.061093 \nL 369.040625 9.061093 \n\" style=\"fill:none;stroke:#000000;stroke-linecap:square;stroke-linejoin:miter;stroke-width:0.8;\"/>\n   </g>\n  </g>\n </g>\n <defs>\n  <clipPath id=\"pbb0e829372\">\n   <rect height=\"217.44\" width=\"334.8\" x=\"34.240625\" y=\"9.061093\"/>\n  </clipPath>\n </defs>\n</svg>\n",
      "image/png": "[encoded data removed]"
     },
     "metadata": {
      "needs_background": "light"
     }
    }
   ],
   "source": [
    "# plt.figure(figsize=(12,6),dpi=400)\n",
    "# plt.hist(y,alpha=0.5,rwidth=0.95)\n",
    "# plt.hist(y,bins=np.arange(0,1,0.1),alpha=0.5)\n",
    "# plt.show()\n",
    "\n",
    "sns.distplot(y)"
   ]
  },
  {
   "cell_type": "code",
   "execution_count": 56,
   "metadata": {},
   "outputs": [
    {
     "output_type": "execute_result",
     "data": {
      "text/plain": [
       "{'st': {1: 0.9987999999999999,\n",
       "  2: 0.9965,\n",
       "  3: 0.994,\n",
       "  4: 0.992,\n",
       "  5: 0.988,\n",
       "  6: 0.988},\n",
       " 'it': {1: 0.0002, 2: 0.0015, 3: 0.0025, 4: 0.002, 5: 0.001, 6: 0.0},\n",
       " 'rt': {1: 0.001, 2: 0.002, 3: 0.0035, 4: 0.006, 5: 0.011, 6: 0.012}}"
      ]
     },
     "metadata": {},
     "execution_count": 56
    }
   ],
   "source": [
    "node0 = fr[0]\n",
    "node0"
   ]
  },
  {
   "cell_type": "code",
   "execution_count": 74,
   "metadata": {},
   "outputs": [
    {
     "output_type": "display_data",
     "data": {
      "text/plain": "<Figure size 432x288 with 1 Axes>",
      "image/svg+xml": "<?xml version=\"1.0\" encoding=\"utf-8\" standalone=\"no\"?>\n<!DOCTYPE svg PUBLIC \"-//W3C//DTD SVG 1.1//EN\"\n  \"http://www.w3.org/Graphics/SVG/1.1/DTD/svg11.dtd\">\n<!-- Created with matplotlib (https://matplotlib.org/) -->\n<svg height=\"248.518125pt\" version=\"1.1\" viewBox=\"0 0 384.828125 248.518125\" width=\"384.828125pt\" xmlns=\"http://www.w3.org/2000/svg\" xmlns:xlink=\"http://www.w3.org/1999/xlink\">\n <metadata>\n  <rdf:RDF xmlns:cc=\"http://creativecommons.org/ns#\" xmlns:dc=\"http://purl.org/dc/elements/1.1/\" xmlns:rdf=\"http://www.w3.org/1999/02/22-rdf-syntax-ns#\">\n   <cc:Work>\n    <dc:type rdf:resource=\"http://purl.org/dc/dcmitype/StillImage\"/>\n    <dc:date>2021-03-28T23:26:57.664185</dc:date>\n    <dc:format>image/svg+xml</dc:format>\n    <dc:creator>\n     <cc:Agent>\n      <dc:title>Matplotlib v3.3.3, https://matplotlib.org/</dc:title>\n     </cc:Agent>\n    </dc:creator>\n   </cc:Work>\n  </rdf:RDF>\n </metadata>\n <defs>\n  <style type=\"text/css\">*{stroke-linecap:butt;stroke-linejoin:round;}</style>\n </defs>\n <g id=\"figure_1\">\n  <g id=\"patch_1\">\n   <path d=\"M 0 248.518125 \nL 384.828125 248.518125 \nL 384.828125 0 \nL 0 0 \nz\n\" style=\"fill:none;\"/>\n  </g>\n  <g id=\"axes_1\">\n   <g id=\"patch_2\">\n    <path d=\"M 42.828125 224.64 \nL 377.628125 224.64 \nL 377.628125 7.2 \nL 42.828125 7.2 \nz\n\" style=\"fill:#ffffff;\"/>\n   </g>\n   <g id=\"matplotlib.axis_1\">\n    <g id=\"xtick_1\">\n     <g id=\"line2d_1\">\n      <defs>\n       <path d=\"M 0 0 \nL 0 3.5 \n\" id=\"m8ba54fc634\" style=\"stroke:#000000;stroke-width:0.8;\"/>\n      </defs>\n      <g>\n       <use style=\"stroke:#000000;stroke-width:0.8;\" x=\"58.046307\" xlink:href=\"#m8ba54fc634\" y=\"224.64\"/>\n      </g>\n     </g>\n     <g id=\"text_1\">\n      <!-- 1 -->\n      <g transform=\"translate(54.865057 239.238438)scale(0.1 -0.1)\">\n       <defs>\n        <path d=\"M 12.40625 8.296875 \nL 28.515625 8.296875 \nL 28.515625 63.921875 \nL 10.984375 60.40625 \nL 10.984375 69.390625 \nL 28.421875 72.90625 \nL 38.28125 72.90625 \nL 38.28125 8.296875 \nL 54.390625 8.296875 \nL 54.390625 0 \nL 12.40625 0 \nz\n\" id=\"DejaVuSans-49\"/>\n       </defs>\n       <use xlink:href=\"#DejaVuSans-49\"/>\n      </g>\n     </g>\n    </g>\n    <g id=\"xtick_2\">\n     <g id=\"line2d_2\">\n      <g>\n       <use style=\"stroke:#000000;stroke-width:0.8;\" x=\"118.919034\" xlink:href=\"#m8ba54fc634\" y=\"224.64\"/>\n      </g>\n     </g>\n     <g id=\"text_2\">\n      <!-- 2 -->\n      <g transform=\"translate(115.737784 239.238438)scale(0.1 -0.1)\">\n       <defs>\n        <path d=\"M 19.1875 8.296875 \nL 53.609375 8.296875 \nL 53.609375 0 \nL 7.328125 0 \nL 7.328125 8.296875 \nQ 12.9375 14.109375 22.625 23.890625 \nQ 32.328125 33.6875 34.8125 36.53125 \nQ 39.546875 41.84375 41.421875 45.53125 \nQ 43.3125 49.21875 43.3125 52.78125 \nQ 43.3125 58.59375 39.234375 62.25 \nQ 35.15625 65.921875 28.609375 65.921875 \nQ 23.96875 65.921875 18.8125 64.3125 \nQ 13.671875 62.703125 7.8125 59.421875 \nL 7.8125 69.390625 \nQ 13.765625 71.78125 18.9375 73 \nQ 24.125 74.21875 28.421875 74.21875 \nQ 39.75 74.21875 46.484375 68.546875 \nQ 53.21875 62.890625 53.21875 53.421875 \nQ 53.21875 48.921875 51.53125 44.890625 \nQ 49.859375 40.875 45.40625 35.40625 \nQ 44.1875 33.984375 37.640625 27.21875 \nQ 31.109375 20.453125 19.1875 8.296875 \nz\n\" id=\"DejaVuSans-50\"/>\n       </defs>\n       <use xlink:href=\"#DejaVuSans-50\"/>\n      </g>\n     </g>\n    </g>\n    <g id=\"xtick_3\">\n     <g id=\"line2d_3\">\n      <g>\n       <use style=\"stroke:#000000;stroke-width:0.8;\" x=\"179.791761\" xlink:href=\"#m8ba54fc634\" y=\"224.64\"/>\n      </g>\n     </g>\n     <g id=\"text_3\">\n      <!-- 3 -->\n      <g transform=\"translate(176.610511 239.238438)scale(0.1 -0.1)\">\n       <defs>\n        <path d=\"M 40.578125 39.3125 \nQ 47.65625 37.796875 51.625 33 \nQ 55.609375 28.21875 55.609375 21.1875 \nQ 55.609375 10.40625 48.1875 4.484375 \nQ 40.765625 -1.421875 27.09375 -1.421875 \nQ 22.515625 -1.421875 17.65625 -0.515625 \nQ 12.796875 0.390625 7.625 2.203125 \nL 7.625 11.71875 \nQ 11.71875 9.328125 16.59375 8.109375 \nQ 21.484375 6.890625 26.8125 6.890625 \nQ 36.078125 6.890625 40.9375 10.546875 \nQ 45.796875 14.203125 45.796875 21.1875 \nQ 45.796875 27.640625 41.28125 31.265625 \nQ 36.765625 34.90625 28.71875 34.90625 \nL 20.21875 34.90625 \nL 20.21875 43.015625 \nL 29.109375 43.015625 \nQ 36.375 43.015625 40.234375 45.921875 \nQ 44.09375 48.828125 44.09375 54.296875 \nQ 44.09375 59.90625 40.109375 62.90625 \nQ 36.140625 65.921875 28.71875 65.921875 \nQ 24.65625 65.921875 20.015625 65.03125 \nQ 15.375 64.15625 9.8125 62.3125 \nL 9.8125 71.09375 \nQ 15.4375 72.65625 20.34375 73.4375 \nQ 25.25 74.21875 29.59375 74.21875 \nQ 40.828125 74.21875 47.359375 69.109375 \nQ 53.90625 64.015625 53.90625 55.328125 \nQ 53.90625 49.265625 50.4375 45.09375 \nQ 46.96875 40.921875 40.578125 39.3125 \nz\n\" id=\"DejaVuSans-51\"/>\n       </defs>\n       <use xlink:href=\"#DejaVuSans-51\"/>\n      </g>\n     </g>\n    </g>\n    <g id=\"xtick_4\">\n     <g id=\"line2d_4\">\n      <g>\n       <use style=\"stroke:#000000;stroke-width:0.8;\" x=\"240.664489\" xlink:href=\"#m8ba54fc634\" y=\"224.64\"/>\n      </g>\n     </g>\n     <g id=\"text_4\">\n      <!-- 4 -->\n      <g transform=\"translate(237.483239 239.238438)scale(0.1 -0.1)\">\n       <defs>\n        <path d=\"M 37.796875 64.3125 \nL 12.890625 25.390625 \nL 37.796875 25.390625 \nz\nM 35.203125 72.90625 \nL 47.609375 72.90625 \nL 47.609375 25.390625 \nL 58.015625 25.390625 \nL 58.015625 17.1875 \nL 47.609375 17.1875 \nL 47.609375 0 \nL 37.796875 0 \nL 37.796875 17.1875 \nL 4.890625 17.1875 \nL 4.890625 26.703125 \nz\n\" id=\"DejaVuSans-52\"/>\n       </defs>\n       <use xlink:href=\"#DejaVuSans-52\"/>\n      </g>\n     </g>\n    </g>\n    <g id=\"xtick_5\">\n     <g id=\"line2d_5\">\n      <g>\n       <use style=\"stroke:#000000;stroke-width:0.8;\" x=\"301.537216\" xlink:href=\"#m8ba54fc634\" y=\"224.64\"/>\n      </g>\n     </g>\n     <g id=\"text_5\">\n      <!-- 5 -->\n      <g transform=\"translate(298.355966 239.238438)scale(0.1 -0.1)\">\n       <defs>\n        <path d=\"M 10.796875 72.90625 \nL 49.515625 72.90625 \nL 49.515625 64.59375 \nL 19.828125 64.59375 \nL 19.828125 46.734375 \nQ 21.96875 47.46875 24.109375 47.828125 \nQ 26.265625 48.1875 28.421875 48.1875 \nQ 40.625 48.1875 47.75 41.5 \nQ 54.890625 34.8125 54.890625 23.390625 \nQ 54.890625 11.625 47.5625 5.09375 \nQ 40.234375 -1.421875 26.90625 -1.421875 \nQ 22.3125 -1.421875 17.546875 -0.640625 \nQ 12.796875 0.140625 7.71875 1.703125 \nL 7.71875 11.625 \nQ 12.109375 9.234375 16.796875 8.0625 \nQ 21.484375 6.890625 26.703125 6.890625 \nQ 35.15625 6.890625 40.078125 11.328125 \nQ 45.015625 15.765625 45.015625 23.390625 \nQ 45.015625 31 40.078125 35.4375 \nQ 35.15625 39.890625 26.703125 39.890625 \nQ 22.75 39.890625 18.8125 39.015625 \nQ 14.890625 38.140625 10.796875 36.28125 \nz\n\" id=\"DejaVuSans-53\"/>\n       </defs>\n       <use xlink:href=\"#DejaVuSans-53\"/>\n      </g>\n     </g>\n    </g>\n    <g id=\"xtick_6\">\n     <g id=\"line2d_6\">\n      <g>\n       <use style=\"stroke:#000000;stroke-width:0.8;\" x=\"362.409943\" xlink:href=\"#m8ba54fc634\" y=\"224.64\"/>\n      </g>\n     </g>\n     <g id=\"text_6\">\n      <!-- 6 -->\n      <g transform=\"translate(359.228693 239.238438)scale(0.1 -0.1)\">\n       <defs>\n        <path d=\"M 33.015625 40.375 \nQ 26.375 40.375 22.484375 35.828125 \nQ 18.609375 31.296875 18.609375 23.390625 \nQ 18.609375 15.53125 22.484375 10.953125 \nQ 26.375 6.390625 33.015625 6.390625 \nQ 39.65625 6.390625 43.53125 10.953125 \nQ 47.40625 15.53125 47.40625 23.390625 \nQ 47.40625 31.296875 43.53125 35.828125 \nQ 39.65625 40.375 33.015625 40.375 \nz\nM 52.59375 71.296875 \nL 52.59375 62.3125 \nQ 48.875 64.0625 45.09375 64.984375 \nQ 41.3125 65.921875 37.59375 65.921875 \nQ 27.828125 65.921875 22.671875 59.328125 \nQ 17.53125 52.734375 16.796875 39.40625 \nQ 19.671875 43.65625 24.015625 45.921875 \nQ 28.375 48.1875 33.59375 48.1875 \nQ 44.578125 48.1875 50.953125 41.515625 \nQ 57.328125 34.859375 57.328125 23.390625 \nQ 57.328125 12.15625 50.6875 5.359375 \nQ 44.046875 -1.421875 33.015625 -1.421875 \nQ 20.359375 -1.421875 13.671875 8.265625 \nQ 6.984375 17.96875 6.984375 36.375 \nQ 6.984375 53.65625 15.1875 63.9375 \nQ 23.390625 74.21875 37.203125 74.21875 \nQ 40.921875 74.21875 44.703125 73.484375 \nQ 48.484375 72.75 52.59375 71.296875 \nz\n\" id=\"DejaVuSans-54\"/>\n       </defs>\n       <use xlink:href=\"#DejaVuSans-54\"/>\n      </g>\n     </g>\n    </g>\n   </g>\n   <g id=\"matplotlib.axis_2\">\n    <g id=\"ytick_1\">\n     <g id=\"line2d_7\">\n      <defs>\n       <path d=\"M 0 0 \nL -3.5 0 \n\" id=\"m0f0cc745d4\" style=\"stroke:#000000;stroke-width:0.8;\"/>\n      </defs>\n      <g>\n       <use style=\"stroke:#000000;stroke-width:0.8;\" x=\"42.828125\" xlink:href=\"#m0f0cc745d4\" y=\"214.756364\"/>\n      </g>\n     </g>\n     <g id=\"text_7\">\n      <!-- 0.000 -->\n      <g transform=\"translate(7.2 218.555582)scale(0.1 -0.1)\">\n       <defs>\n        <path d=\"M 31.78125 66.40625 \nQ 24.171875 66.40625 20.328125 58.90625 \nQ 16.5 51.421875 16.5 36.375 \nQ 16.5 21.390625 20.328125 13.890625 \nQ 24.171875 6.390625 31.78125 6.390625 \nQ 39.453125 6.390625 43.28125 13.890625 \nQ 47.125 21.390625 47.125 36.375 \nQ 47.125 51.421875 43.28125 58.90625 \nQ 39.453125 66.40625 31.78125 66.40625 \nz\nM 31.78125 74.21875 \nQ 44.046875 74.21875 50.515625 64.515625 \nQ 56.984375 54.828125 56.984375 36.375 \nQ 56.984375 17.96875 50.515625 8.265625 \nQ 44.046875 -1.421875 31.78125 -1.421875 \nQ 19.53125 -1.421875 13.0625 8.265625 \nQ 6.59375 17.96875 6.59375 36.375 \nQ 6.59375 54.828125 13.0625 64.515625 \nQ 19.53125 74.21875 31.78125 74.21875 \nz\n\" id=\"DejaVuSans-48\"/>\n        <path d=\"M 10.6875 12.40625 \nL 21 12.40625 \nL 21 0 \nL 10.6875 0 \nz\n\" id=\"DejaVuSans-46\"/>\n       </defs>\n       <use xlink:href=\"#DejaVuSans-48\"/>\n       <use x=\"63.623047\" xlink:href=\"#DejaVuSans-46\"/>\n       <use x=\"95.410156\" xlink:href=\"#DejaVuSans-48\"/>\n       <use x=\"159.033203\" xlink:href=\"#DejaVuSans-48\"/>\n       <use x=\"222.65625\" xlink:href=\"#DejaVuSans-48\"/>\n      </g>\n     </g>\n    </g>\n    <g id=\"ytick_2\">\n     <g id=\"line2d_8\">\n      <g>\n       <use style=\"stroke:#000000;stroke-width:0.8;\" x=\"42.828125\" xlink:href=\"#m0f0cc745d4\" y=\"181.810909\"/>\n      </g>\n     </g>\n     <g id=\"text_8\">\n      <!-- 0.002 -->\n      <g transform=\"translate(7.2 185.610128)scale(0.1 -0.1)\">\n       <use xlink:href=\"#DejaVuSans-48\"/>\n       <use x=\"63.623047\" xlink:href=\"#DejaVuSans-46\"/>\n       <use x=\"95.410156\" xlink:href=\"#DejaVuSans-48\"/>\n       <use x=\"159.033203\" xlink:href=\"#DejaVuSans-48\"/>\n       <use x=\"222.65625\" xlink:href=\"#DejaVuSans-50\"/>\n      </g>\n     </g>\n    </g>\n    <g id=\"ytick_3\">\n     <g id=\"line2d_9\">\n      <g>\n       <use style=\"stroke:#000000;stroke-width:0.8;\" x=\"42.828125\" xlink:href=\"#m0f0cc745d4\" y=\"148.865455\"/>\n      </g>\n     </g>\n     <g id=\"text_9\">\n      <!-- 0.004 -->\n      <g transform=\"translate(7.2 152.664673)scale(0.1 -0.1)\">\n       <use xlink:href=\"#DejaVuSans-48\"/>\n       <use x=\"63.623047\" xlink:href=\"#DejaVuSans-46\"/>\n       <use x=\"95.410156\" xlink:href=\"#DejaVuSans-48\"/>\n       <use x=\"159.033203\" xlink:href=\"#DejaVuSans-48\"/>\n       <use x=\"222.65625\" xlink:href=\"#DejaVuSans-52\"/>\n      </g>\n     </g>\n    </g>\n    <g id=\"ytick_4\">\n     <g id=\"line2d_10\">\n      <g>\n       <use style=\"stroke:#000000;stroke-width:0.8;\" x=\"42.828125\" xlink:href=\"#m0f0cc745d4\" y=\"115.92\"/>\n      </g>\n     </g>\n     <g id=\"text_10\">\n      <!-- 0.006 -->\n      <g transform=\"translate(7.2 119.719219)scale(0.1 -0.1)\">\n       <use xlink:href=\"#DejaVuSans-48\"/>\n       <use x=\"63.623047\" xlink:href=\"#DejaVuSans-46\"/>\n       <use x=\"95.410156\" xlink:href=\"#DejaVuSans-48\"/>\n       <use x=\"159.033203\" xlink:href=\"#DejaVuSans-48\"/>\n       <use x=\"222.65625\" xlink:href=\"#DejaVuSans-54\"/>\n      </g>\n     </g>\n    </g>\n    <g id=\"ytick_5\">\n     <g id=\"line2d_11\">\n      <g>\n       <use style=\"stroke:#000000;stroke-width:0.8;\" x=\"42.828125\" xlink:href=\"#m0f0cc745d4\" y=\"82.974545\"/>\n      </g>\n     </g>\n     <g id=\"text_11\">\n      <!-- 0.008 -->\n      <g transform=\"translate(7.2 86.773764)scale(0.1 -0.1)\">\n       <defs>\n        <path d=\"M 31.78125 34.625 \nQ 24.75 34.625 20.71875 30.859375 \nQ 16.703125 27.09375 16.703125 20.515625 \nQ 16.703125 13.921875 20.71875 10.15625 \nQ 24.75 6.390625 31.78125 6.390625 \nQ 38.8125 6.390625 42.859375 10.171875 \nQ 46.921875 13.96875 46.921875 20.515625 \nQ 46.921875 27.09375 42.890625 30.859375 \nQ 38.875 34.625 31.78125 34.625 \nz\nM 21.921875 38.8125 \nQ 15.578125 40.375 12.03125 44.71875 \nQ 8.5 49.078125 8.5 55.328125 \nQ 8.5 64.0625 14.71875 69.140625 \nQ 20.953125 74.21875 31.78125 74.21875 \nQ 42.671875 74.21875 48.875 69.140625 \nQ 55.078125 64.0625 55.078125 55.328125 \nQ 55.078125 49.078125 51.53125 44.71875 \nQ 48 40.375 41.703125 38.8125 \nQ 48.828125 37.15625 52.796875 32.3125 \nQ 56.78125 27.484375 56.78125 20.515625 \nQ 56.78125 9.90625 50.3125 4.234375 \nQ 43.84375 -1.421875 31.78125 -1.421875 \nQ 19.734375 -1.421875 13.25 4.234375 \nQ 6.78125 9.90625 6.78125 20.515625 \nQ 6.78125 27.484375 10.78125 32.3125 \nQ 14.796875 37.15625 21.921875 38.8125 \nz\nM 18.3125 54.390625 \nQ 18.3125 48.734375 21.84375 45.5625 \nQ 25.390625 42.390625 31.78125 42.390625 \nQ 38.140625 42.390625 41.71875 45.5625 \nQ 45.3125 48.734375 45.3125 54.390625 \nQ 45.3125 60.0625 41.71875 63.234375 \nQ 38.140625 66.40625 31.78125 66.40625 \nQ 25.390625 66.40625 21.84375 63.234375 \nQ 18.3125 60.0625 18.3125 54.390625 \nz\n\" id=\"DejaVuSans-56\"/>\n       </defs>\n       <use xlink:href=\"#DejaVuSans-48\"/>\n       <use x=\"63.623047\" xlink:href=\"#DejaVuSans-46\"/>\n       <use x=\"95.410156\" xlink:href=\"#DejaVuSans-48\"/>\n       <use x=\"159.033203\" xlink:href=\"#DejaVuSans-48\"/>\n       <use x=\"222.65625\" xlink:href=\"#DejaVuSans-56\"/>\n      </g>\n     </g>\n    </g>\n    <g id=\"ytick_6\">\n     <g id=\"line2d_12\">\n      <g>\n       <use style=\"stroke:#000000;stroke-width:0.8;\" x=\"42.828125\" xlink:href=\"#m0f0cc745d4\" y=\"50.029091\"/>\n      </g>\n     </g>\n     <g id=\"text_12\">\n      <!-- 0.010 -->\n      <g transform=\"translate(7.2 53.82831)scale(0.1 -0.1)\">\n       <use xlink:href=\"#DejaVuSans-48\"/>\n       <use x=\"63.623047\" xlink:href=\"#DejaVuSans-46\"/>\n       <use x=\"95.410156\" xlink:href=\"#DejaVuSans-48\"/>\n       <use x=\"159.033203\" xlink:href=\"#DejaVuSans-49\"/>\n       <use x=\"222.65625\" xlink:href=\"#DejaVuSans-48\"/>\n      </g>\n     </g>\n    </g>\n    <g id=\"ytick_7\">\n     <g id=\"line2d_13\">\n      <g>\n       <use style=\"stroke:#000000;stroke-width:0.8;\" x=\"42.828125\" xlink:href=\"#m0f0cc745d4\" y=\"17.083636\"/>\n      </g>\n     </g>\n     <g id=\"text_13\">\n      <!-- 0.012 -->\n      <g transform=\"translate(7.2 20.882855)scale(0.1 -0.1)\">\n       <use xlink:href=\"#DejaVuSans-48\"/>\n       <use x=\"63.623047\" xlink:href=\"#DejaVuSans-46\"/>\n       <use x=\"95.410156\" xlink:href=\"#DejaVuSans-48\"/>\n       <use x=\"159.033203\" xlink:href=\"#DejaVuSans-49\"/>\n       <use x=\"222.65625\" xlink:href=\"#DejaVuSans-50\"/>\n      </g>\n     </g>\n    </g>\n   </g>\n   <g id=\"line2d_14\">\n    <path clip-path=\"url(#p353b32df28)\" d=\"M 58.046307 211.461818 \nL 118.919034 190.047273 \nL 179.791761 173.574545 \nL 240.664489 181.810909 \nL 301.537216 198.283636 \nL 362.409943 214.756364 \n\" style=\"fill:none;stroke:#1f77b4;stroke-linecap:square;stroke-width:1.5;\"/>\n   </g>\n   <g id=\"line2d_15\">\n    <path clip-path=\"url(#p353b32df28)\" d=\"M 58.046307 198.283636 \nL 118.919034 181.810909 \nL 179.791761 157.101818 \nL 240.664489 115.92 \nL 301.537216 33.556364 \nL 362.409943 17.083636 \n\" style=\"fill:none;stroke:#ff7f0e;stroke-linecap:square;stroke-width:1.5;\"/>\n   </g>\n   <g id=\"patch_3\">\n    <path d=\"M 42.828125 224.64 \nL 42.828125 7.2 \n\" style=\"fill:none;stroke:#000000;stroke-linecap:square;stroke-linejoin:miter;stroke-width:0.8;\"/>\n   </g>\n   <g id=\"patch_4\">\n    <path d=\"M 377.628125 224.64 \nL 377.628125 7.2 \n\" style=\"fill:none;stroke:#000000;stroke-linecap:square;stroke-linejoin:miter;stroke-width:0.8;\"/>\n   </g>\n   <g id=\"patch_5\">\n    <path d=\"M 42.828125 224.64 \nL 377.628125 224.64 \n\" style=\"fill:none;stroke:#000000;stroke-linecap:square;stroke-linejoin:miter;stroke-width:0.8;\"/>\n   </g>\n   <g id=\"patch_6\">\n    <path d=\"M 42.828125 7.2 \nL 377.628125 7.2 \n\" style=\"fill:none;stroke:#000000;stroke-linecap:square;stroke-linejoin:miter;stroke-width:0.8;\"/>\n   </g>\n  </g>\n </g>\n <defs>\n  <clipPath id=\"p353b32df28\">\n   <rect height=\"217.44\" width=\"334.8\" x=\"42.828125\" y=\"7.2\"/>\n  </clipPath>\n </defs>\n</svg>\n",
      "image/png": "[encoded data removed]"
     },
     "metadata": {
      "needs_background": "light"
     }
    }
   ],
   "source": [
    "plt.figure()\n",
    "s_t = node0['st']\n",
    "i_t = node0['it']\n",
    "r_t = node0['rt']\n",
    "# temp = sorted(s_t.items())\n",
    "# x,y = zip(*temp)\n",
    "# plt.plot(x,y)\n",
    "# plt.plot(s_t.keys(),s_t.values())\n",
    "plt.plot(i_t.keys(),i_t.values())\n",
    "plt.plot(r_t.keys(),r_t.values())\n",
    "plt.show()"
   ]
  }
 ]
}