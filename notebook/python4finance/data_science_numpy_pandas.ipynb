{
 "cells": [
  {
   "cell_type": "markdown",
   "metadata": {},
   "source": [
    "# Data Science\n"
   ]
  },
  {
   "cell_type": "code",
   "execution_count": null,
   "metadata": {},
   "outputs": [],
   "source": [
    "# Clear all variable values previously set\n",
    "# from IPython import get_ipython\n",
    "# get_ipython().magic('reset -sf')"
   ]
  },
  {
   "cell_type": "markdown",
   "metadata": {},
   "source": [
    "## Imports\n"
   ]
  },
  {
   "cell_type": "code",
   "execution_count": null,
   "metadata": {},
   "outputs": [],
   "source": [
    "# Provides ways to work with large multidimensional arrays\n",
    "import numpy as np\n",
    "\n",
    "# Allows for further data manipulation and analysis\n",
    "import pandas as pd\n",
    "\n",
    "# In Anaconda -> Environments -> Not Installed -> pandas-datareader -> Apply\n",
    "from pandas_datareader import data as web # Reads stock data \n",
    "import matplotlib.pyplot as plt # Plotting\n",
    "import matplotlib.dates as mdates # Styling dates\n",
    "%matplotlib inline\n",
    "\n",
    "import warnings\n",
    "warnings.simplefilter('ignore')"
   ]
  },
  {
   "cell_type": "markdown",
   "metadata": {},
   "source": [
    "## Constants\n"
   ]
  },
  {
   "cell_type": "code",
   "execution_count": null,
   "metadata": {},
   "outputs": [],
   "source": [
    "# Define path to files\n",
    "\n",
    "# For MacOS or Linux\n",
    "PATH = '/home/ali/Projects/Network/notebook/python4finance/data/'\n",
    "\n",
    "# For Windows\n",
    "# PATH = 'D:/python4finance/'"
   ]
  },
  {
   "cell_type": "code",
   "execution_count": null,
   "metadata": {},
   "outputs": [],
   "source": [
    "# Make an Numpy array\n",
    "l1 = [1, 2, 3, 4, 5]\n",
    "npa1 = np.array(l1)\n",
    "npa1"
   ]
  },
  {
   "cell_type": "markdown",
   "metadata": {},
   "source": [
    "## Numpy Crash Course\n"
   ]
  },
  {
   "cell_type": "markdown",
   "metadata": {},
   "source": [
    "NumPy is an amazing scientific computing library that is used by numerous other Python Data Science libraries. It contains many mathematical, array and string functions that are extremely useful. Along with all the basic math functions you'll also find them for Linear Algebra, Statistics, Simulation, etc.\n",
    "\n",
    "NumPy utilizes vector (1D Arrays) and matrice arrays (2D Arrays).\n"
   ]
  },
  {
   "cell_type": "markdown",
   "metadata": {},
   "source": [
    "## Create Array in Range\n"
   ]
  },
  {
   "cell_type": "code",
   "execution_count": null,
   "metadata": {},
   "outputs": [],
   "source": [
    "# Creates array from 0 to 4\n",
    "npa2 = np.arange(0, 5)\n",
    "npa2"
   ]
  },
  {
   "cell_type": "code",
   "execution_count": null,
   "metadata": {},
   "outputs": [],
   "source": [
    "# Define a step\n",
    "npa3 = np.arange(0, 10, 2)\n",
    "npa3"
   ]
  },
  {
   "cell_type": "markdown",
   "metadata": {},
   "source": [
    "## Matrices\n"
   ]
  },
  {
   "cell_type": "code",
   "execution_count": null,
   "metadata": {},
   "outputs": [],
   "source": [
    "# Create a 4 row matrix with 3 columns with all having a value of 1\n",
    "mat1 = np.ones((4, 3))\n",
    "mat1"
   ]
  },
  {
   "cell_type": "code",
   "execution_count": null,
   "metadata": {},
   "outputs": [],
   "source": [
    "# Create a 4 row matrix with 3 columns with all having a value of 0\n",
    "mat2 = np.zeros((4, 3))\n",
    "mat2"
   ]
  },
  {
   "cell_type": "markdown",
   "metadata": {},
   "source": [
    "## Random Matrices\n"
   ]
  },
  {
   "cell_type": "code",
   "execution_count": null,
   "metadata": {},
   "outputs": [],
   "source": [
    "# Random values between 0 and 50 as a matrix with 4 rows & 3 columns\n",
    "mat3 = np.random.randint(0, 50, (4, 3))\n",
    "mat3"
   ]
  },
  {
   "cell_type": "markdown",
   "metadata": {},
   "source": [
    "## Generate Defined Number of Values in Range\n"
   ]
  },
  {
   "cell_type": "code",
   "execution_count": null,
   "metadata": {},
   "outputs": [],
   "source": [
    "# Generate 10 equally distanced values between 1 and 10\n",
    "mat4 = np.linspace(1, 10, 10)\n",
    "mat4"
   ]
  },
  {
   "cell_type": "markdown",
   "metadata": {},
   "source": [
    "## Reshape Arrays\n"
   ]
  },
  {
   "cell_type": "code",
   "execution_count": null,
   "metadata": {},
   "outputs": [],
   "source": [
    "# Create array with 12 values\n",
    "mat6 = np.random.randint(0, 50, 12)\n",
    "mat6"
   ]
  },
  {
   "cell_type": "code",
   "execution_count": null,
   "metadata": {},
   "outputs": [],
   "source": [
    "# Reshape to a 3 row 4 column array\n",
    "mat6 = mat6.reshape(3, 4)\n",
    "mat6"
   ]
  },
  {
   "cell_type": "code",
   "execution_count": null,
   "metadata": {},
   "outputs": [],
   "source": [
    "# Reshape into a 3D array with 3 blocks, 2 rows, 2 columns\n",
    "mat7 = mat6.reshape(3, 2, 2)\n",
    "mat7"
   ]
  },
  {
   "cell_type": "code",
   "execution_count": null,
   "metadata": {},
   "outputs": [],
   "source": [
    "# Reshape into a 3D array with 2 blocks, 3 rows, 2 columns\n",
    "mat8 = mat6.reshape(2, 3, 2)\n",
    "mat8"
   ]
  },
  {
   "cell_type": "code",
   "execution_count": null,
   "metadata": {},
   "outputs": [],
   "source": [
    "# Get the value in the 2nd block, 3rd row and 1st column\n",
    "mat8[1, 2, 0]\n"
   ]
  },
  {
   "cell_type": "markdown",
   "metadata": {},
   "source": [
    "## Filter Array\n"
   ]
  },
  {
   "cell_type": "code",
   "execution_count": null,
   "metadata": {},
   "outputs": [],
   "source": [
    "# Provide a boolean array where values are above 20\n",
    "print(mat6)\n",
    "mat6 > 20"
   ]
  },
  {
   "cell_type": "code",
   "execution_count": null,
   "metadata": {},
   "outputs": [],
   "source": [
    "# Return an array with just values over 20\n",
    "mat6[mat6 > 20]\n"
   ]
  },
  {
   "cell_type": "markdown",
   "metadata": {},
   "source": [
    "## Statistics Operations\n"
   ]
  },
  {
   "cell_type": "code",
   "execution_count": null,
   "metadata": {},
   "outputs": [],
   "source": [
    "# Generate 50 random values between 0 and 100\n",
    "mat5 = np.random.randint(0, 100, 50)\n",
    "mat5"
   ]
  },
  {
   "cell_type": "code",
   "execution_count": null,
   "metadata": {},
   "outputs": [],
   "source": [
    "print('Mean :', mat5.mean())\n",
    "print('Standard Deviation :', mat5.std())\n",
    "print('Variance :', mat5.var())\n",
    "print('Min :', mat5.min())\n",
    "print('Max :', mat5.max())"
   ]
  },
  {
   "cell_type": "markdown",
   "metadata": {},
   "source": [
    "## The Seed Function\n"
   ]
  },
  {
   "cell_type": "code",
   "execution_count": null,
   "metadata": {},
   "outputs": [],
   "source": [
    "# Used when you want to replicate randomization\n",
    "np.random.seed(500)\n",
    "mat9 = np.random.randint(0, 50, 10)\n",
    "mat9"
   ]
  },
  {
   "cell_type": "code",
   "execution_count": null,
   "metadata": {},
   "outputs": [],
   "source": [
    "# Everything goes back to random on the next call\n",
    "mat10 = np.random.randint(0, 50, 10)\n",
    "mat10"
   ]
  },
  {
   "cell_type": "markdown",
   "metadata": {},
   "source": [
    "# Pandas\n"
   ]
  },
  {
   "cell_type": "markdown",
   "metadata": {},
   "source": [
    "Pandas provides numerous tools to work with tabular data like you'd find in spreadsheets or databases. It is widely used for data preparation, cleaning, and analysis. It can work with a wide variety of data and provides many visualization options. It is built on top of NumPy.\n"
   ]
  },
  {
   "cell_type": "markdown",
   "metadata": {},
   "source": [
    "## Read Data from a CSV\n"
   ]
  },
  {
   "cell_type": "code",
   "execution_count": null,
   "metadata": {},
   "outputs": [],
   "source": [
    "def get_df_from_csv(ticker):\n",
    "    try:\n",
    "        df = pd.read_csv(\n",
    "            PATH + ticker + '.csv', index_col='Date', parse_dates=True\n",
    "        )\n",
    "    except FileNotFoundError:\n",
    "        print('File Doesn\\'t Exist')\n",
    "        pass\n",
    "    else:\n",
    "        return df"
   ]
  },
  {
   "cell_type": "code",
   "execution_count": null,
   "metadata": {},
   "outputs": [],
   "source": [
    "msft_df = get_df_from_csv('MSFT')\n",
    "msft_df"
   ]
  },
  {
   "cell_type": "markdown",
   "metadata": {},
   "source": [
    "## Read Data from Excel\n"
   ]
  },
  {
   "cell_type": "code",
   "execution_count": null,
   "metadata": {},
   "outputs": [],
   "source": [
    "def get_df_from_excel(file):\n",
    "    try:\n",
    "        df = pd.read_excel(file)\n",
    "    except FileNotFoundError:\n",
    "        pass\n",
    "        print('File Doesn\\'t Exist')\n",
    "    else:\n",
    "        return df"
   ]
  },
  {
   "cell_type": "code",
   "execution_count": null,
   "metadata": {},
   "outputs": [],
   "source": [
    "# You may have to run this in the Qt Console : pip install openpyxl\n",
    "file = PATH + 'stock_sectors.xlsx'\n",
    "# file = PATH + 'Wilshire-5000-Stocks.xlsx'\n",
    "w_stocks = get_df_from_excel(file)\n",
    "w_stocks"
   ]
  },
  {
   "cell_type": "markdown",
   "metadata": {},
   "source": [
    "## Read Data from HTML\n"
   ]
  },
  {
   "cell_type": "code",
   "execution_count": null,
   "metadata": {},
   "outputs": [],
   "source": [
    "g_data = pd.read_html(\n",
    "    'https://en.wikipedia.org/wiki/List_of_current_United_States_governors'\n",
    ")\n",
    "g_data"
   ]
  },
  {
   "cell_type": "code",
   "execution_count": null,
   "metadata": {},
   "outputs": [],
   "source": [
    "# We can define that we want the 2nd table on the page\n",
    "g_data = pd.read_html(\n",
    "    'https://en.wikipedia.org/wiki/List_of_current_United_States_governors'\n",
    ")[1]\n",
    "g_data"
   ]
  },
  {
   "cell_type": "markdown",
   "metadata": {},
   "source": [
    "## US Demographics\n"
   ]
  },
  {
   "cell_type": "code",
   "execution_count": null,
   "metadata": {},
   "outputs": [],
   "source": [
    "# You can also search for phrases in the table\n",
    "d_data = pd.read_html(\n",
    "    'https://en.wikipedia.org/wiki/Demographics_of_the_United_States',\n",
    "    match='Average population'\n",
    ")[0]\n",
    "d_data"
   ]
  },
  {
   "cell_type": "markdown",
   "metadata": {},
   "source": [
    "## Replace Spaces in Column Names\n"
   ]
  },
  {
   "cell_type": "code",
   "execution_count": null,
   "metadata": {
    "scrolled": true
   },
   "outputs": [],
   "source": [
    "d_data.columns = [x.replace(' ', '_') for x in d_data.columns]\n",
    "d_data"
   ]
  },
  {
   "cell_type": "markdown",
   "metadata": {},
   "source": [
    "## Remove Characters in Columns\n"
   ]
  },
  {
   "cell_type": "code",
   "execution_count": null,
   "metadata": {},
   "outputs": [],
   "source": [
    "# Remove parentheses and whats inside them\n",
    "d_data.columns = d_data.columns.str.replace(r'\\(.*\\)', '')\n",
    "# Remove brackets and whats inside them\n",
    "d_data.columns = d_data.columns.str.replace(r'\\[.*\\]', '')\n",
    "d_data"
   ]
  },
  {
   "cell_type": "markdown",
   "metadata": {},
   "source": [
    "## Rename Columns\n"
   ]
  },
  {
   "cell_type": "code",
   "execution_count": null,
   "metadata": {},
   "outputs": [],
   "source": [
    "# You could add additional with commas between {}\n",
    "d_data = d_data.rename(columns={'Unnamed:_0': 'Year'})\n",
    "d_data"
   ]
  },
  {
   "cell_type": "markdown",
   "metadata": {},
   "source": [
    "## Remove Characters in Columns\n"
   ]
  },
  {
   "cell_type": "code",
   "execution_count": null,
   "metadata": {},
   "outputs": [],
   "source": [
    "# Removes brackets and what is inside for whole column\n",
    "d_data.Year = d_data.Year.str.replace(r'\\[.*\\]', '')\n",
    "d_data"
   ]
  },
  {
   "cell_type": "markdown",
   "metadata": {},
   "source": [
    "## Select Columns\n"
   ]
  },
  {
   "cell_type": "code",
   "execution_count": null,
   "metadata": {},
   "outputs": [],
   "source": [
    "d_data.Live_births"
   ]
  },
  {
   "cell_type": "code",
   "execution_count": null,
   "metadata": {},
   "outputs": [],
   "source": [
    "d_data['Deaths']"
   ]
  },
  {
   "cell_type": "markdown",
   "metadata": {},
   "source": [
    "## Make a Column an Index\n"
   ]
  },
  {
   "cell_type": "code",
   "execution_count": null,
   "metadata": {},
   "outputs": [],
   "source": [
    "d_data.set_index('Year', inplace=True)\n",
    "d_data"
   ]
  },
  {
   "cell_type": "markdown",
   "metadata": {},
   "source": [
    "## Grab Data from Multiple Columns\n"
   ]
  },
  {
   "cell_type": "code",
   "execution_count": null,
   "metadata": {},
   "outputs": [],
   "source": [
    "d_data[['Live_births', 'Deaths']]"
   ]
  },
  {
   "cell_type": "markdown",
   "metadata": {},
   "source": [
    "## Grab a Row\n"
   ]
  },
  {
   "cell_type": "code",
   "execution_count": null,
   "metadata": {},
   "outputs": [],
   "source": [
    "d_data.loc['2020']"
   ]
  },
  {
   "cell_type": "code",
   "execution_count": null,
   "metadata": {},
   "outputs": [],
   "source": [
    "d_data.iloc[85]"
   ]
  },
  {
   "cell_type": "markdown",
   "metadata": {},
   "source": [
    "## Add a Column\n"
   ]
  },
  {
   "cell_type": "code",
   "execution_count": null,
   "metadata": {},
   "outputs": [],
   "source": [
    "# Create a column showing population growth for each year\n",
    "d_data['Pop_Growth'] = d_data['Live_births'] - d_data['Deaths']\n",
    "d_data"
   ]
  },
  {
   "cell_type": "markdown",
   "metadata": {},
   "source": [
    "## Delete Column\n"
   ]
  },
  {
   "cell_type": "code",
   "execution_count": null,
   "metadata": {},
   "outputs": [],
   "source": [
    "d_data.drop('Pop_Growth', axis=1, inplace=True)\n",
    "d_data"
   ]
  },
  {
   "cell_type": "markdown",
   "metadata": {},
   "source": [
    "## Delete a Row\n"
   ]
  },
  {
   "cell_type": "code",
   "execution_count": null,
   "metadata": {},
   "outputs": [],
   "source": [
    "d_data.drop('1935', axis=0, inplace=True)\n",
    "d_data"
   ]
  },
  {
   "cell_type": "markdown",
   "metadata": {},
   "source": [
    "## Manipulating Data\n"
   ]
  },
  {
   "cell_type": "code",
   "execution_count": null,
   "metadata": {},
   "outputs": [],
   "source": [
    "c_data = pd.read_html(\n",
    "    'https://en.wikipedia.org/wiki/List_of_countries_by_GDP_(nominal)'\n",
    ")[2]\n",
    "c_data"
   ]
  },
  {
   "cell_type": "code",
   "execution_count": null,
   "metadata": {},
   "outputs": [],
   "source": [
    "for col in c_data.columns:\n",
    "    print(col)"
   ]
  },
  {
   "cell_type": "code",
   "execution_count": null,
   "metadata": {},
   "outputs": [],
   "source": [
    "# Delete a level of a multilevel column name\n",
    "c_data.columns = c_data.columns.droplevel()\n",
    "c_data\n"
   ]
  },
  {
   "cell_type": "code",
   "execution_count": null,
   "metadata": {},
   "outputs": [],
   "source": [
    "# Keep only columns if they haven't used the same name prior\n",
    "c_data = c_data.loc[:, ~c_data.columns.duplicated()]\n",
    "c_data"
   ]
  },
  {
   "cell_type": "code",
   "execution_count": null,
   "metadata": {},
   "outputs": [],
   "source": [
    "# Delete any rows with NaN values by taking only rows that don't contain NaNs\n",
    "c_data = c_data[c_data['Estimate'].notna()]\n",
    "c_data\n"
   ]
  },
  {
   "cell_type": "code",
   "execution_count": null,
   "metadata": {},
   "outputs": [],
   "source": [
    "# Remove []s and what is in them in Year column\n",
    "# Removes brackets and what is inside for whole column\n",
    "c_data.Year = c_data.Year.str.replace(r'\\[.*\\]', '')\n",
    "c_data"
   ]
  },
  {
   "cell_type": "code",
   "execution_count": null,
   "metadata": {},
   "outputs": [],
   "source": [
    "# Rename country column\n",
    "c_data.rename(\n",
    "    columns={\n",
    "        'Country/Territory': 'Country',\n",
    "        'Estimate': 'GDP'\n",
    "    }, inplace=True\n",
    ")\n",
    "c_data"
   ]
  },
  {
   "cell_type": "code",
   "execution_count": null,
   "metadata": {},
   "outputs": [],
   "source": [
    "# Remove * in Country column\n",
    "c_data.Country = c_data.Country.str.replace('*', '')\n",
    "c_data"
   ]
  },
  {
   "cell_type": "code",
   "execution_count": null,
   "metadata": {},
   "outputs": [],
   "source": [
    "# Groupby allows you to group rows based on a column and perform a function\n",
    "# Mean GDP by region\n",
    "c_data.groupby('Region').mean()"
   ]
  },
  {
   "cell_type": "code",
   "execution_count": null,
   "metadata": {},
   "outputs": [],
   "source": [
    "# Median GDP by region\n",
    "c_data.groupby('Region').median()"
   ]
  },
  {
   "cell_type": "markdown",
   "metadata": {},
   "source": [
    "## More Ways of Messing with Data\n"
   ]
  },
  {
   "cell_type": "code",
   "execution_count": null,
   "metadata": {},
   "outputs": [],
   "source": [
    "# Dictionary with ice cream sales data\n",
    "dict1 = {\n",
    "    'Store': [1, 2, 1, 2],\n",
    "    'Flavor': ['Choc', 'Van', 'Straw', 'Choc'],\n",
    "    'Sales': [26, 12, 18, 22]\n",
    "}\n",
    "\n",
    "# Convert to Dataframe\n",
    "ic_data = pd.DataFrame(dict1)\n",
    "print(ic_data)\n",
    "\n",
    "# Group data by the store number\n",
    "by_store = ic_data.groupby('Store')\n",
    "\n",
    "# Get mean sales by store\n",
    "print(by_store.mean())\n",
    "\n",
    "# Get sales total just for store 1\n",
    "print(by_store.sum().loc[1])\n",
    "\n",
    "# You can use multiple functions of get a bunch\n",
    "by_store.describe()"
   ]
  },
  {
   "cell_type": "markdown",
   "metadata": {},
   "source": [
    "## Plotly\n"
   ]
  },
  {
   "cell_type": "markdown",
   "metadata": {},
   "source": [
    "Plotly allows you to create over 40 beautiful interactive web-based visualizations that can be displayed in Jupyter notebooks or saved to HTML files. It is widely used to plot scientific, statistical and financial data.\n"
   ]
  },
  {
   "cell_type": "markdown",
   "metadata": {},
   "source": [
    "You can install using Anaconda under the environment tab by searching for Plotly. You'll also need Cufflinks and a few other packages that you can install by running : conda install -c conda-forge cufflinks-py in your command line or terminal. Also you can use the commands pip install plotly and pip install cufflinks. Cufflinks connects Plotly to Pandas.\n"
   ]
  },
  {
   "cell_type": "code",
   "execution_count": null,
   "metadata": {},
   "outputs": [],
   "source": [
    "import cufflinks as cf\n",
    "import plotly.express as px\n",
    "import plotly.graph_objects as go\n",
    "\n",
    "# Make Plotly work in your Jupyter Notebook\n",
    "from plotly.offline import download_plotlyjs, init_notebook_mode, plot, iplot\n",
    "\n",
    "init_notebook_mode(connected=True)\n",
    "# Use Plotly locally\n",
    "cf.go_offline()"
   ]
  },
  {
   "cell_type": "markdown",
   "metadata": {},
   "source": [
    "## Line Plot\n"
   ]
  },
  {
   "cell_type": "code",
   "execution_count": null,
   "metadata": {},
   "outputs": [],
   "source": [
    "# Plot the value of a dollar invested over time\n",
    "# Use included Google price data to make one plot\n",
    "df_stocks = px.data.stocks()\n",
    "px.line(\n",
    "    df_stocks,\n",
    "    x='date',\n",
    "    y='GOOG',\n",
    "    labels={\n",
    "        'x': 'Date',\n",
    "        'y': 'Value of Dollar'\n",
    "    }\n",
    ")\n"
   ]
  },
  {
   "cell_type": "code",
   "execution_count": null,
   "metadata": {},
   "outputs": [],
   "source": [
    "# Make multiple line plots\n",
    "px.line(\n",
    "    df_stocks,\n",
    "    x='date',\n",
    "    y=['GOOG', 'AAPL'],\n",
    "    labels={\n",
    "        'x': 'Date',\n",
    "        'y': 'Value of Dollar'\n",
    "    },\n",
    "    title='Apple vs. Google'\n",
    ")"
   ]
  },
  {
   "cell_type": "code",
   "execution_count": null,
   "metadata": {
    "scrolled": false
   },
   "outputs": [],
   "source": [
    "# Multiple plots\n",
    "r_x1 = np.linspace(0, 1, 100)\n",
    "r_y0 = np.random.randn(100) + 5\n",
    "r_y1 = np.random.randn(100) - 5\n",
    "r_y2 = np.random.randn(100)\n",
    "\n",
    "fig = go.Figure()\n",
    "# There are many line styles\n",
    "fig.add_trace(go.Scatter(x=r_x1, y=r_y0, mode='lines', name='Rand 1'))\n",
    "fig.add_trace(go.Scatter(x=r_x1, y=r_y1, mode='lines+markers', name='Rand 2'))\n",
    "fig.add_trace(go.Scatter(x=r_x1, y=r_y2, mode='markers', name='Rand 3'))\n",
    "\n",
    "fig.show()"
   ]
  },
  {
   "cell_type": "markdown",
   "metadata": {},
   "source": [
    "## Add Details to Plot\n"
   ]
  },
  {
   "cell_type": "code",
   "execution_count": null,
   "metadata": {
    "scrolled": false
   },
   "outputs": [],
   "source": [
    "aapl_df = pd.read_csv('data/AAPL.csv')\n",
    "x = aapl_df['Date']\n",
    "y = aapl_df['Adj Close']\n",
    "aapl_df"
   ]
  },
  {
   "cell_type": "code",
   "execution_count": null,
   "metadata": {},
   "outputs": [],
   "source": [
    "fig = go.Figure()\n",
    "fig.add_trace(go.Scatter(x=x, y=y))\n",
    "fig.update_xaxes(rangeslider_visible=True, title='Zoom on Dates Using Slider')\n",
    "fig.update_yaxes(title='Stock Price (USD)')"
   ]
  },
  {
   "cell_type": "markdown",
   "metadata": {},
   "source": [
    "## More Details\n"
   ]
  },
  {
   "cell_type": "code",
   "execution_count": null,
   "metadata": {
    "scrolled": false
   },
   "outputs": [],
   "source": [
    "msft_df = pd.read_csv('data/MSFT.csv')\n",
    "x = msft_df['Date']\n",
    "y = msft_df['Adj Close']\n",
    "msft_df\n",
    "fig = go.Figure()\n",
    "fig.add_trace(go.Scatter(x=x, y=y))\n",
    "\n",
    "# Add a range slider with buttons for dates\n",
    "fig.update_layout(\n",
    "    xaxis=dict(\n",
    "        rangeselector=dict(\n",
    "            buttons=list(\n",
    "                [\n",
    "                    dict(\n",
    "                        count=10, label='10D', step='day', stepmode='backward'\n",
    "                    ),\n",
    "                    dict(\n",
    "                        count=1, label='1M', step='month', stepmode='backward'\n",
    "                    ),\n",
    "                    dict(count=6, label='6M', step='month', stepmode='todate'),\n",
    "                    dict(count=1, label='YTD', step='year', stepmode='todate'),\n",
    "                    dict(\n",
    "                        count=1, label='1Y', step='year', stepmode='backward'\n",
    "                    ),\n",
    "                    dict(label='All', step='all')\n",
    "                ]\n",
    "            )\n",
    "        ),\n",
    "        rangeslider=dict(visible=True),\n",
    "        type='date'\n",
    "    )\n",
    ")\n",
    "fig.update_yaxes(title='Stock Price (USD)')"
   ]
  },
  {
   "cell_type": "markdown",
   "metadata": {},
   "source": [
    "## Candlestick Plots\n"
   ]
  },
  {
   "cell_type": "code",
   "execution_count": null,
   "metadata": {},
   "outputs": [],
   "source": [
    "# Candlestick charts are useful because they show the open and close in the\n",
    "# wide part 'Real Body' and the high and low using the Shadows or Wicks.\n",
    "# They can be used to sense emotion in a stock in the near term.\n",
    "x = aapl_df['Date']\n",
    "close = aapl_df['Adj Close']\n",
    "high = aapl_df['High']\n",
    "low = aapl_df['Low']\n",
    "openp = aapl_df['Open']\n",
    "\n",
    "fig = go.Figure()\n",
    "\n",
    "fig.add_trace(go.Candlestick(x=x, high=high, low=low, open=openp, close=close))\n",
    "\n",
    "fig.update_layout(\n",
    "    xaxis=dict(\n",
    "        rangeselector=dict(\n",
    "            buttons=list(\n",
    "                [\n",
    "                    dict(\n",
    "                        count=10, label='10D', step='day', stepmode='backward'\n",
    "                    ),\n",
    "                    dict(\n",
    "                        count=1, label='1M', step='month', stepmode='backward'\n",
    "                    ),\n",
    "                    dict(count=6, label='6M', step='month', stepmode='todate'),\n",
    "                    dict(count=1, label='YTD', step='year', stepmode='todate'),\n",
    "                    dict(\n",
    "                        count=1, label='1Y', step='year', stepmode='backward'\n",
    "                    ),\n",
    "                    dict(label='All', step='all')\n",
    "                ]\n",
    "            )\n",
    "        ),\n",
    "        rangeslider=dict(visible=True),\n",
    "        type='date'\n",
    "    )\n",
    ")\n",
    "fig.update_layout(\n",
    "    xaxis_title='Dates',\n",
    "    yaxis_title='Stock Price (USD)',\n",
    "    title='Apple Candlestick Chart'\n",
    ")\n",
    "\n",
    "# Add an annotation\n",
    "fig.update_layout(\n",
    "    annotations=[\n",
    "        dict(\n",
    "            x='2020-02-21',\n",
    "            y=85,\n",
    "            text='Pandemic Effects Market',\n",
    "            xanchor='right'\n",
    "        )\n",
    "    ]\n",
    ")\n",
    "# Add line defining an area\n",
    "fig.update_layout(shapes=[dict(x0='2020-02-21', x1='2020-04-06', y0=0, y1=1)])\n",
    "# Add a rectangle\n",
    "# fig.add_shape(type='rect',\n",
    "#     x0='2020-02-21', y0=0, x1='2020-04-06', y1=145,\n",
    "#     line=dict(\n",
    "#         color='RoyalBlue',\n",
    "#         width=2,\n",
    "#     ),\n",
    "#     fillcolor='LightSkyBlue',\n",
    "# )\n",
    "\n",
    "# Add a vertical rectangle with opacity\n",
    "fig.add_vrect(\n",
    "    x0='2020-02-21',\n",
    "    x1='2020-04-06',\n",
    "    fillcolor='LightSalmon',\n",
    "    opacity=0.5,\n",
    "    layer='below',\n",
    "    line_width=0,\n",
    ")\n",
    "\n",
    "fig.show()"
   ]
  },
  {
   "cell_type": "markdown",
   "metadata": {},
   "source": [
    "## Open-High-Low-Close (OHLC) Chart\n"
   ]
  },
  {
   "cell_type": "code",
   "execution_count": null,
   "metadata": {
    "scrolled": true
   },
   "outputs": [],
   "source": [
    "# While a candlestick chart has a rectangle representing the open and close\n",
    "# An OHLC chart shows all 4 data points using ticks and when the opening\n",
    "# and closing prices are fall apart that shows momentum up or down\n",
    "# The tick on the left is the opening price and the left is the close\n",
    "fig = go.Figure()\n",
    "\n",
    "fig.add_trace(go.Ohlc(x=x, high=high, low=low, open=openp, close=close))\n",
    "\n",
    "fig.show()"
   ]
  },
  {
   "cell_type": "markdown",
   "metadata": {},
   "source": [
    "## Multiple Plots\n"
   ]
  },
  {
   "cell_type": "code",
   "execution_count": null,
   "metadata": {},
   "outputs": [],
   "source": [
    "fig = go.Figure()\n",
    "\n",
    "fig.add_trace(go.Ohlc(x=x, high=high, low=low, open=openp, close=close))\n",
    "\n",
    "a_x = aapl_df['Date']\n",
    "a_y = aapl_df['Adj Close']\n",
    "fig.add_trace(\n",
    "    go.Scatter(x=a_x, y=a_y, line=dict(color='blue', width=1.5, dash='dot'))\n",
    ")\n",
    "\n",
    "fig.show()"
   ]
  },
  {
   "cell_type": "markdown",
   "metadata": {},
   "source": [
    "## Scatter Plots\n"
   ]
  },
  {
   "cell_type": "code",
   "execution_count": null,
   "metadata": {},
   "outputs": [],
   "source": [
    "x = np.arange(0, 50, 2)\n",
    "y = np.arange(0, 50, 2)\n",
    "\n",
    "# Create a figure to which I'll add plots\n",
    "fig = go.Figure()\n",
    "\n",
    "# Markers just shows the dots\n",
    "fig.add_trace(go.Scatter(x=x, y=y, mode='markers'))\n",
    "\n",
    "fig.show()"
   ]
  },
  {
   "cell_type": "code",
   "execution_count": null,
   "metadata": {},
   "outputs": [],
   "source": [
    "# Use included Iris data set\n",
    "df_iris = px.data.iris()\n",
    "# Create a scatter plot by defining x, y, different color for count of provided\n",
    "# column, size based on supplied column and additional data to display on hover\n",
    "px.scatter(\n",
    "    df_iris,\n",
    "    x='sepal_width',\n",
    "    y='sepal_length',\n",
    "    color='species',\n",
    "    size='petal_length',\n",
    "    hover_data=['petal_width']\n",
    ")\n",
    "\n",
    "# Create a customized scatter with black marker edges with line width 2, opaque\n",
    "# and colored based on width. Also show a scale on the right\n",
    "fig = go.Figure()\n",
    "fig.add_trace(\n",
    "    go.Scatter(\n",
    "        x=df_iris.sepal_width,\n",
    "        y=df_iris.sepal_length,\n",
    "        mode='markers',\n",
    "        marker_color=df_iris.sepal_width,\n",
    "        text=df_iris.species,\n",
    "        marker=dict(showscale=True)\n",
    "    )\n",
    ")\n",
    "fig.update_traces(marker_line_width=2, marker_size=10)\n",
    "\n",
    "# Working with a lot of data use Scattergl\n",
    "fig = go.Figure(\n",
    "    data=go.Scattergl(\n",
    "        x=np.random.randn(100000),\n",
    "        y=np.random.randn(100000),\n",
    "        mode='markers',\n",
    "        marker=dict(\n",
    "            color=np.random.randn(100000), colorscale='Viridis', line_width=1\n",
    "        )\n",
    "    )\n",
    ")\n",
    "fig"
   ]
  },
  {
   "cell_type": "markdown",
   "metadata": {},
   "source": [
    "## Histogram\n"
   ]
  },
  {
   "cell_type": "code",
   "execution_count": null,
   "metadata": {},
   "outputs": [],
   "source": [
    "# Plot histogram based on rolling 2 dice\n",
    "dice_1 = np.random.randint(1, 7, 5000)\n",
    "dice_2 = np.random.randint(1, 7, 5000)\n",
    "dice_sum = dice_1 + dice_2\n",
    "# bins represent the number of bars to make\n",
    "# Can define x label, color, title\n",
    "# marginal creates another plot (violin, box, rug)\n",
    "fig = px.histogram(\n",
    "    dice_sum,\n",
    "    nbins=11,\n",
    "    labels={'value': 'Dice Roll'},\n",
    "    title='5000 Dice Roll Histogram',\n",
    "    marginal='violin',\n",
    "    color_discrete_sequence=['green']\n",
    ")\n",
    "\n",
    "fig.update_layout(\n",
    "    xaxis_title_text='Dice Roll',\n",
    "    yaxis_title_text='Dice Sum',\n",
    "    bargap=0.2,\n",
    "    showlegend=False\n",
    ")\n",
    "\n",
    "# Stack histograms based on different column data\n",
    "df_tips = px.data.tips()\n",
    "px.histogram(df_tips, x='total_bill', color='sex')"
   ]
  },
  {
   "cell_type": "code",
   "execution_count": null,
   "metadata": {},
   "outputs": [],
   "source": []
  }
 ],
 "metadata": {
  "interpreter": {
   "hash": "170d76527af6bb928a789dc7d6821516e71a979b7f8112ecc205a562846d3426"
  },
  "kernelspec": {
   "display_name": "Python 3.8.11 64-bit ('base': conda)",
   "name": "python3"
  },
  "language_info": {
   "codemirror_mode": {
    "name": "ipython",
    "version": 3
   },
   "file_extension": ".py",
   "mimetype": "text/x-python",
   "name": "python",
   "nbconvert_exporter": "python",
   "pygments_lexer": "ipython3",
   "version": "3.8.11"
  }
 },
 "nbformat": 4,
 "nbformat_minor": 5
}
