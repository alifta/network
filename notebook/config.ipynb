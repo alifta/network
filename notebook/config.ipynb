{
 "cells": [
  {
   "cell_type": "markdown",
   "metadata": {},
   "source": [
    "# Setup"
   ]
  },
  {
   "cell_type": "markdown",
   "metadata": {
    "heading_collapsed": true
   },
   "source": [
    "## Pip"
   ]
  },
  {
   "cell_type": "code",
   "execution_count": null,
   "metadata": {
    "hidden": true
   },
   "outputs": [],
   "source": [
    "# Upgrade pip\n",
    "# !pip install --upgrade pip"
   ]
  },
  {
   "cell_type": "code",
   "execution_count": null,
   "metadata": {
    "hidden": true
   },
   "outputs": [],
   "source": [
    "# Install a pip package in the current Jupyter kernel\n",
    "# Safer to use python -m pip install <package> instead of pip install <package>\n",
    "# import sys\n",
    "# !{sys.executable} -m pip install numpy"
   ]
  },
  {
   "cell_type": "markdown",
   "metadata": {},
   "source": [
    "## Theme"
   ]
  },
  {
   "cell_type": "code",
   "execution_count": null,
   "metadata": {},
   "outputs": [],
   "source": [
    "# Install & upgrade juypter themes\n",
    "# ! pip install jupyterthemes\n",
    "# ! pip install --upgrade jupyterthemes"
   ]
  },
  {
   "cell_type": "code",
   "execution_count": null,
   "metadata": {},
   "outputs": [],
   "source": [
    "# Themes list\n",
    "# ! jt -l"
   ]
  },
  {
   "cell_type": "code",
   "execution_count": null,
   "metadata": {},
   "outputs": [],
   "source": [
    "# ! jt -t onedork -T -N\n",
    "# ! jt -t onedork -T -N -altp -f firacode -fs 11 -nfs 11 -tfs 11\n",
    "# ! jt -t onedork -T -N -altp -f firacode -fs 11 -nfs 11 -tfs 11 -cursc o\n",
    "# ! jt -t onedork -T -N -altp -f firacode -fs 11 -nfs 11 -tfs 11 -ofs 11 -cursc o\n",
    "# ! jt -t onedork -T -N -altp -f firacode -fs 11 -nfs 11 -tfs 11 -ofs 11 -cursc o -cellw 50%\n",
    "# ! jt -t onedork -T -N -altp -f firacode -fs 11 -nfs 11 -tfs 11 -ofs 11 -cursc o -cellw 1180"
   ]
  },
  {
   "cell_type": "code",
   "execution_count": null,
   "metadata": {},
   "outputs": [],
   "source": [
    "# ! jt -t onedork -T -N -altp -f cousine\n",
    "# ! jt -t onedork -T -N -altp -f cousine -cursc o\n",
    "# ! jt -t onedork -T -N -altp -f cousine -fs 11 -nfs 11 -tfs 11 -ofs 11 -cursc o"
   ]
  },
  {
   "cell_type": "code",
   "execution_count": null,
   "metadata": {},
   "outputs": [],
   "source": [
    "# Restore default theme\n",
    "# ! jt -r"
   ]
  },
  {
   "cell_type": "markdown",
   "metadata": {
    "heading_collapsed": true
   },
   "source": [
    "## Type Checker"
   ]
  },
  {
   "cell_type": "code",
   "execution_count": null,
   "metadata": {
    "hidden": true
   },
   "outputs": [],
   "source": [
    "# !pip install mypy-lang "
   ]
  },
  {
   "cell_type": "markdown",
   "metadata": {
    "heading_collapsed": true
   },
   "source": [
    "## YAPF Formatter Configuration File (.style.yapf)"
   ]
  },
  {
   "cell_type": "markdown",
   "metadata": {
    "ExecuteTime": {
     "end_time": "2021-02-18T01:59:50.255893Z",
     "start_time": "2021-02-18T01:59:49.979461Z"
    },
    "hidden": true
   },
   "source": [
    "`[style]\n",
    "based_on_style = pep8\n",
    "dedent_closing_brackets = true\n",
    "each_dict_entry_on_separate_line = true`"
   ]
  },
  {
   "cell_type": "markdown",
   "metadata": {},
   "source": [
    "# Snippet"
   ]
  },
  {
   "cell_type": "markdown",
   "metadata": {},
   "source": [
    "## Flag"
   ]
  },
  {
   "cell_type": "code",
   "execution_count": null,
   "metadata": {},
   "outputs": [],
   "source": [
    "# Different ways to test multiple flags at once\n",
    "x, y, z = 0, 1, 0\n",
    "\n",
    "if x == 1 or y == 1 or z == 1:\n",
    "    print('passed')\n",
    "\n",
    "if 1 in (x, y, z):\n",
    "    print('passed')\n",
    "\n",
    "# These only test for truthiness:\n",
    "if x or y or z:\n",
    "    print('passed')\n",
    "\n",
    "if any((x, y, z)):\n",
    "    print('passed')\n",
    "\n",
    "if not all((x, y, z)):\n",
    "    print('passed')"
   ]
  },
  {
   "cell_type": "markdown",
   "metadata": {},
   "source": [
    "## Dictionary"
   ]
  },
  {
   "cell_type": "code",
   "execution_count": null,
   "metadata": {},
   "outputs": [],
   "source": [
    "# The get() method on dicts and its \"default\" argument\n",
    "name_for_userid = {\n",
    "    382: \"Alice\",\n",
    "    590: \"Bob\",\n",
    "    951: \"Dilbert\",\n",
    "}\n",
    "\n",
    "\n",
    "def greeting(userid):\n",
    "    return \"Hi %s!\" % name_for_userid.get(userid, \"there\")\n",
    "\n",
    "\n",
    "print(greeting(382))\n",
    "print(greeting(333333))"
   ]
  },
  {
   "cell_type": "code",
   "execution_count": null,
   "metadata": {},
   "outputs": [],
   "source": [
    "# Merging two dicts\n",
    "x = {'a': 1, 'b': 2}\n",
    "y = {'b': 3, 'c': 4}\n",
    "z = {**x, **y}\n",
    "z"
   ]
  },
  {
   "cell_type": "code",
   "execution_count": null,
   "metadata": {},
   "outputs": [],
   "source": [
    "# Sort a dict by value (== get a representation sorted by value)\n",
    "xs = {'a': 4, 'b': 3, 'c': 2, 'd': 1}\n",
    "sorted(xs.items(), key=lambda x: x[1])"
   ]
  },
  {
   "cell_type": "code",
   "execution_count": null,
   "metadata": {},
   "outputs": [],
   "source": [
    "# Sort a dict by value using operator\n",
    "import operator\n",
    "xs = {'a': 4, 'b': 3, 'c': 2, 'd': 1}\n",
    "sorted(xs.items(), key=operator.itemgetter(1))"
   ]
  },
  {
   "cell_type": "markdown",
   "metadata": {},
   "source": [
    "# My Package"
   ]
  },
  {
   "cell_type": "markdown",
   "metadata": {
    "heading_collapsed": true
   },
   "source": [
    "## Dictionary"
   ]
  },
  {
   "cell_type": "code",
   "execution_count": null,
   "metadata": {
    "hidden": true
   },
   "outputs": [],
   "source": [
    "def dict_merge(d1: dict, d2: dict) -> dict:\n",
    "    \"\"\"\n",
    "    Function to merges two dictionary keys in the order listed in the expression,\n",
    "    overwriting duplicates from left to right.\n",
    "    \n",
    "    Parameters\n",
    "    ----------\n",
    "    d1 : dict\n",
    "        The first input dictionary\n",
    "    d2 : dict\n",
    "        The second input dictionary\n",
    "    \n",
    "    Returns\n",
    "    -------\n",
    "    dict\n",
    "        A dictionary merged from two input dictionaries\n",
    "    \"\"\"\n",
    "    return {**d1, **d2}"
   ]
  },
  {
   "cell_type": "code",
   "execution_count": null,
   "metadata": {
    "hidden": true
   },
   "outputs": [],
   "source": [
    "x = {'a': 1, 'b': 2}\n",
    "y = {'b': 3, 'c': 4}\n",
    "dict_merge(x, y)"
   ]
  }
 ],
 "metadata": {
  "kernelspec": {
   "display_name": "Python 3.7.4 64-bit ('venv': venv)",
   "language": "python",
   "name": "python37464bitvenvvenv985279a5dd004a4e960074365c659553"
  },
  "language_info": {
   "codemirror_mode": {
    "name": "ipython",
    "version": 3
   },
   "file_extension": ".py",
   "mimetype": "text/x-python",
   "name": "python",
   "nbconvert_exporter": "python",
   "pygments_lexer": "ipython3",
   "version": "3.7.4"
  }
 },
 "nbformat": 4,
 "nbformat_minor": 4
}
