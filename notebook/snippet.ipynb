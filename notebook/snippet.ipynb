{
 "metadata": {
  "language_info": {
   "codemirror_mode": {
    "name": "ipython",
    "version": 3
   },
   "file_extension": ".py",
   "mimetype": "text/x-python",
   "name": "python",
   "nbconvert_exporter": "python",
   "pygments_lexer": "ipython3",
   "version": "3.8.8"
  },
  "orig_nbformat": 2,
  "kernelspec": {
   "name": "python388jvsc74a57bd05aed86d787bde9146cb9d863f573fa1ac00eeb010ce60a85a43a296541db3d6a",
   "display_name": "Python 3.8.8 64-bit ('base': conda)"
  },
  "metadata": {
   "interpreter": {
    "hash": "1fb7b506ebc3278d414a9cb99032ea74abe5bd5354639d5975aa94eabd1f0026"
   }
  }
 },
 "nbformat": 4,
 "nbformat_minor": 2,
 "cells": [
  {
   "source": [
    "# List"
   ],
   "cell_type": "markdown",
   "metadata": {}
  },
  {
   "source": [
    "## Save list into file"
   ],
   "cell_type": "markdown",
   "metadata": {}
  },
  {
   "source": [
    "### (1) CSV file and using numpy"
   ],
   "cell_type": "markdown",
   "metadata": {}
  },
  {
   "cell_type": "code",
   "execution_count": null,
   "metadata": {},
   "outputs": [],
   "source": [
    "import numpy as np\n",
    "\n",
    "x = np.arange(0.0, 5.0, 1.0)\n",
    "\n",
    "np.savetxt('test.csv', x, delimiter=',', fmt='%s')"
   ]
  },
  {
   "source": [
    "## Remove consecutive duplicates items from list\n",
    "Input = 1, 2, 4, 7, 3, 7, 8, 4, 4, 9    \n",
    "Output = 1, 2, 4, 7, 3, 7, 8, 4, 9"
   ],
   "cell_type": "markdown",
   "metadata": {}
  },
  {
   "source": [
    "### (1) Loop"
   ],
   "cell_type": "markdown",
   "metadata": {}
  },
  {
   "cell_type": "code",
   "execution_count": 1,
   "metadata": {},
   "outputs": [
    {
     "output_type": "stream",
     "name": "stdout",
     "text": [
      "[1, 2, 4, 7, 3, 7, 8, 4, 9]\n"
     ]
    }
   ],
   "source": [
    "x = [1,2,4,7,3,7,8,4,4,9]\n",
    "\n",
    "previous_value = None\n",
    "new_lst = []\n",
    "\n",
    "for elem in x:\n",
    "   if elem != previous_value:\n",
    "       new_lst.append(elem)\n",
    "       previous_value = elem\n",
    "\n",
    "print(new_lst)"
   ]
  },
  {
   "source": [
    "### (2) Enumerate"
   ],
   "cell_type": "markdown",
   "metadata": {}
  },
  {
   "cell_type": "code",
   "execution_count": 2,
   "metadata": {},
   "outputs": [
    {
     "output_type": "stream",
     "name": "stdout",
     "text": [
      "[1, 2, 4, 7, 3, 7, 8, 4, 9]\n"
     ]
    }
   ],
   "source": [
    "x = [1,2,4,7,3,7,8,4,4,9]\n",
    "\n",
    "print([v for i, v in enumerate(x) if i == 0 or v != x[i-1]])"
   ]
  },
  {
   "source": [
    "### (3) Groupby"
   ],
   "cell_type": "markdown",
   "metadata": {}
  },
  {
   "cell_type": "code",
   "execution_count": 3,
   "metadata": {},
   "outputs": [
    {
     "output_type": "stream",
     "name": "stdout",
     "text": [
      "[1, 2, 4, 7, 3, 7, 8, 4, 9]\n"
     ]
    }
   ],
   "source": [
    "from itertools import groupby\n",
    "\n",
    "x = [1,2,4,7,3,7,8,4,4,9]\n",
    "print([i[0] for i in groupby(x)])"
   ]
  },
  {
   "source": [
    "# Class"
   ],
   "cell_type": "markdown",
   "metadata": {}
  },
  {
   "source": [
    "## Check for class inheritance relationships"
   ],
   "cell_type": "markdown",
   "metadata": {}
  },
  {
   "cell_type": "code",
   "execution_count": 1,
   "metadata": {},
   "outputs": [],
   "source": [
    "class BaseClass:\n",
    "    pass\n",
    "\n",
    "class SubClass(BaseClass):\n",
    "    pass\n",
    "\n",
    "print(issubclass(SubClass, BaseClass))  # True"
   ]
  },
  {
   "source": [
    "# Figure"
   ],
   "cell_type": "markdown",
   "metadata": {}
  },
  {
   "source": [
    "## Save figure with good layout and quality"
   ],
   "cell_type": "markdown",
   "metadata": {}
  },
  {
   "cell_type": "code",
   "execution_count": null,
   "metadata": {},
   "outputs": [],
   "source": [
    "import matplotlib.pyplot as plt\n",
    "\n",
    "plt.tight_layout()\n",
    "plt.savefig(fname='figure.pdf', dpi=300, transparent=True, bbox_inches='tight')"
   ]
  },
  {
   "source": [
    "# Network"
   ],
   "cell_type": "markdown",
   "metadata": {}
  },
  {
   "source": [
    "## Visualize a graph while setting timestamp as edge labels"
   ],
   "cell_type": "markdown",
   "metadata": {}
  },
  {
   "cell_type": "code",
   "execution_count": null,
   "metadata": {},
   "outputs": [],
   "source": [
    "import networkx as nx\n",
    "import matplotlib.pyplot as plt\n",
    "\n",
    "# Select a layout\n",
    "# pos = nx.random_layout(G)\n",
    "# pos = nx.spring_layout(G)\n",
    "# pos = nx.shell_layout(G)\n",
    "pos = nx.kamada_kawai_layout(G)\n",
    "\n",
    "# Create canvas\n",
    "plt.figure()\n",
    "\n",
    "# Turn off axis\n",
    "plt.axis('off')\n",
    "\n",
    "# Draw graph\n",
    "nx.draw(G,\n",
    "        pos,\n",
    "        edge_color='grey',\n",
    "        width=1,\n",
    "        linewidths=1,\n",
    "        node_size=300,\n",
    "        node_color='pink',\n",
    "        alpha=0.9,\n",
    "        labels={node: node for node in G.nodes()})\n",
    "\n",
    "# Add edge labels\n",
    "edge_labels = {(e[0], e[1]): str(e[2]['t']) for e in G.edges.data()}\n",
    "nx.draw_networkx_edge_labels(\n",
    "    G,\n",
    "    pos,\n",
    "    edge_labels=edge_labels,\n",
    "    font_color='black')\n",
    "\n",
    "# Show or save\n",
    "plt.show()"
   ]
  }
 ]
}