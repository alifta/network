{
 "metadata": {
  "language_info": {
   "codemirror_mode": {
    "name": "ipython",
    "version": 3
   },
   "file_extension": ".py",
   "mimetype": "text/x-python",
   "name": "python",
   "nbconvert_exporter": "python",
   "pygments_lexer": "ipython3",
   "version": "3.7.4"
  },
  "orig_nbformat": 2,
  "kernelspec": {
   "name": "python37464bitvenvvenv985279a5dd004a4e960074365c659553",
   "display_name": "Python 3.7.4 64-bit ('venv': venv)"
  },
  "metadata": {
   "interpreter": {
    "hash": "1fb7b506ebc3278d414a9cb99032ea74abe5bd5354639d5975aa94eabd1f0026"
   }
  }
 },
 "nbformat": 4,
 "nbformat_minor": 2,
 "cells": [
  {
   "source": [
    "# List"
   ],
   "cell_type": "markdown",
   "metadata": {}
  },
  {
   "source": [
    "### Remove consecutive duplicates\n",
    "Input = 1, 2, 4, 7, 3, 7, 8, 4, 4, 9    \n",
    "Output = 1, 2, 4, 7, 3, 7, 8, 4, 9"
   ],
   "cell_type": "markdown",
   "metadata": {}
  },
  {
   "source": [
    "(1) Loop"
   ],
   "cell_type": "markdown",
   "metadata": {}
  },
  {
   "cell_type": "code",
   "execution_count": 1,
   "metadata": {},
   "outputs": [
    {
     "output_type": "stream",
     "name": "stdout",
     "text": [
      "[1, 2, 4, 7, 3, 7, 8, 4, 9]\n"
     ]
    }
   ],
   "source": [
    "x = [1,2,4,7,3,7,8,4,4,9]\n",
    "\n",
    "previous_value = None\n",
    "new_lst = []\n",
    "\n",
    "for elem in x:\n",
    "   if elem != previous_value:\n",
    "       new_lst.append(elem)\n",
    "       previous_value = elem\n",
    "\n",
    "print(new_lst)"
   ]
  },
  {
   "source": [
    "(2) Enumerate"
   ],
   "cell_type": "markdown",
   "metadata": {}
  },
  {
   "cell_type": "code",
   "execution_count": 2,
   "metadata": {},
   "outputs": [
    {
     "output_type": "stream",
     "name": "stdout",
     "text": [
      "[1, 2, 4, 7, 3, 7, 8, 4, 9]\n"
     ]
    }
   ],
   "source": [
    "x = [1,2,4,7,3,7,8,4,4,9]\n",
    "\n",
    "print([v for i, v in enumerate(x) if i == 0 or v != x[i-1]])"
   ]
  },
  {
   "source": [
    "(3) Groupby"
   ],
   "cell_type": "markdown",
   "metadata": {}
  },
  {
   "cell_type": "code",
   "execution_count": 3,
   "metadata": {},
   "outputs": [
    {
     "output_type": "stream",
     "name": "stdout",
     "text": [
      "[1, 2, 4, 7, 3, 7, 8, 4, 9]\n"
     ]
    }
   ],
   "source": [
    "from itertools import groupby\n",
    "\n",
    "x = [1,2,4,7,3,7,8,4,4,9]\n",
    "print([i[0] for i in groupby(x)])"
   ]
  },
  {
   "cell_type": "code",
   "execution_count": null,
   "metadata": {},
   "outputs": [],
   "source": []
  }
 ]
}