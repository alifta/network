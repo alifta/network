{
 "cells": [
  {
   "cell_type": "markdown",
   "source": [
    "# Setup"
   ],
   "metadata": {}
  },
  {
   "cell_type": "code",
   "execution_count": 28,
   "source": [
    "import numpy as np\n",
    "import pandas as pd\n",
    "import networkx as nx\n",
    "\n",
    "import seaborn as sns\n",
    "sns.set_style(\"ticks\")\n",
    "sns.set_context('notebook')\n",
    "sns.set(rc={\"figure.dpi\":300, 'savefig.dpi':300})\n",
    "\n",
    "import matplotlib.pyplot as plt\n",
    "plt.rcParams['figure.dpi'] = 300\n",
    "plt.rcParams['savefig.dpi'] = 300\n",
    "\n",
    "# import graph.data\n",
    "# import graph.network\n",
    "# import graph.temporal\n",
    "# import graph.utils\n",
    "\n",
    "from graph.data import *\n",
    "from graph.network import *\n",
    "from graph.temporal import *\n",
    "from graph.utils import *"
   ],
   "outputs": [],
   "metadata": {}
  },
  {
   "cell_type": "code",
   "execution_count": 29,
   "source": [
    "# import importlib\n",
    "\n",
    "# importlib.reload(graph.data)\n",
    "# importlib.reload(graph.network)\n",
    "# importlib.reload(graph.temporal)\n",
    "# importlib.reload(graph.utils)"
   ],
   "outputs": [],
   "metadata": {}
  },
  {
   "cell_type": "code",
   "execution_count": 30,
   "source": [
    "%load_ext autoreload\n",
    "%autoreload 2"
   ],
   "outputs": [
    {
     "output_type": "stream",
     "name": "stdout",
     "text": [
      "The autoreload extension is already loaded. To reload it, use:\n",
      "  %reload_ext autoreload\n"
     ]
    }
   ],
   "metadata": {}
  },
  {
   "cell_type": "code",
   "execution_count": 65,
   "source": [
    "phonelab_to_db()"
   ],
   "outputs": [
    {
     "output_type": "stream",
     "name": "stdout",
     "text": [
      "0 : 0031e78c899fbc79f2d44a0db30f30a8acdf8767\n",
      "1 : 0191c805a5f1ef0e10b046658fdbe026e33ca2b1\n",
      "2 : 023735506ab66eac2e18a14f2f391447d70c6e5b\n",
      "3 : 05bf808c71cabb62c7f436cbee1860f980683b1a\n",
      "4 : 067fd335de0e2336d9172e0438e688e67f7c822e\n",
      "5 : 087d92ff25c1a6a29a99a53cbb335b65d7ce9dbc\n",
      "6 : 094e84e4907cbd1a9889f5d5bd2588538daae853\n",
      "7 : 09db1f59f45bfdb182f1ea4b3e947b86e5773d0e\n",
      "8 : 09f9a05e8775d4df75cfe9bd546257272f7ec66e\n",
      "9 : 0b94bcb4cfea1bc9598c9510110f10bf18cd260e\n",
      "10 : 0bc6c38a5f46059fa6035732bb2e03f8800d28e8\n",
      "11 : 0c037a6e55da4e024d9e64d97114c642695c5434\n",
      "12 : 0c913e6f38937b895d3c25a79fc09aff9f9f407a\n",
      "13 : 0d96b3d6c0a4fabd3dcd31cdf2513b60a4616556\n",
      "14 : 0ee9cead2e2a3a58a316dc27571476e8973ff944\n",
      "15 : 0f73f649f1e0bb371f1fdcadf86f02567670315a\n",
      "16 : 1452809c9c0f670bd138f47961cb6814b3891848\n",
      "17 : 16279792b28ca97c9c224d27cef263d55b97f8ae\n",
      "18 : 1691ee6e8576a4015b86e27b3e608522c4e0d47d\n",
      "19 : 178e5ffd59070a23760ce38cd8c051f3fd569d97\n",
      "20 : 17ed4022f242778280c10362077816b61fd37d42\n",
      "21 : 1924a6a39f09d992514925466c8844462377205d\n",
      "22 : 1b0676e5fb2d7ab82a2b76887c53e94cf0410826\n",
      "23 : 1c56a3d0472d378e76732e7992e9a510183f443e\n",
      "24 : 1c992830a011e074091705bde5afb51137c7b9d3\n",
      "25 : 1d3c82d3b24b0d525ca33479b96fb66396ba338b\n",
      "26 : 1ddca8e2daffdca1172f75bd424c6c27d66ec107\n",
      "27 : 1edcb744802fd380d8bb9dd5899132a1eb7f3056\n",
      "28 : 1effad9f9a920fa4bc7e14ab1ab1b51755f920a6\n",
      "29 : 202d474b215c54fa2a8b92bc6b61e490b1a3b1be\n",
      "30 : 20d8b36d685640a4a1e50807b6ae4ce004d5f220\n",
      "31 : 2198ebbdece50f4c7d5d853363dbd31ae834b20c\n",
      "32 : 22bbf1e5a3a5819c5a704fd1f79ef59018362f38\n",
      "33 : 264ed95078f33a85b5d746a3e76cddc531c6d7ca\n",
      "34 : 2747d54967a32fc95945671b930d57c1d5a9ac02\n",
      "35 : 2927a38a4daa0872371e822effc1499098f5fd9b\n",
      "36 : 29318a2e7af0eaad05bb0f24266260494f4d16c0\n",
      "37 : 29bc166a1caa51011d4a3d16e5a7ccbed645763a\n",
      "38 : 29f99e61cb769a3cf46f1af2645ed84bbd538faa\n",
      "39 : 2a62efa10667147f3963f10750c5a73a0f3d11e1\n",
      "40 : 2af4f8041d152c809204598f32141e7b8aa20488\n"
     ]
    }
   ],
   "metadata": {}
  },
  {
   "cell_type": "code",
   "execution_count": null,
   "source": [],
   "outputs": [],
   "metadata": {}
  }
 ],
 "metadata": {
  "orig_nbformat": 4,
  "language_info": {
   "name": "python",
   "version": "3.8.11",
   "mimetype": "text/x-python",
   "codemirror_mode": {
    "name": "ipython",
    "version": 3
   },
   "pygments_lexer": "ipython3",
   "nbconvert_exporter": "python",
   "file_extension": ".py"
  },
  "kernelspec": {
   "name": "python3",
   "display_name": "Python 3.8.11 64-bit ('base': conda)"
  },
  "interpreter": {
   "hash": "300a6bce62a075de9e5f50bdbe16e7b90d64ffdff8b2e24130522ebabb3fa681"
  }
 },
 "nbformat": 4,
 "nbformat_minor": 2
}