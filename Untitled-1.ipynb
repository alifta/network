{
 "cells": [
  {
   "cell_type": "code",
   "execution_count": null,
   "source": [
    "c = 4"
   ],
   "outputs": [],
   "metadata": {}
  }
 ],
 "metadata": {
  "orig_nbformat": 4,
  "language_info": {
   "name": "python",
   "version": "3.8.11",
   "mimetype": "text/x-python",
   "codemirror_mode": {
    "name": "ipython",
    "version": 3
   },
   "pygments_lexer": "ipython3",
   "nbconvert_exporter": "python",
   "file_extension": ".py"
  },
  "kernelspec": {
   "name": "python3",
   "display_name": "Python 3.8.11 64-bit ('base': conda)"
  },
  "interpreter": {
   "hash": "300a6bce62a075de9e5f50bdbe16e7b90d64ffdff8b2e24130522ebabb3fa681"
  }
 },
 "nbformat": 4,
 "nbformat_minor": 2
}