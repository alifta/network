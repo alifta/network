{
 "cells": [
  {
   "cell_type": "markdown",
   "metadata": {},
   "source": [
    "### pyflakes\n",
    "A simple program which checks Python source files for errors."
   ]
  },
  {
   "cell_type": "code",
   "execution_count": 1,
   "metadata": {},
   "outputs": [
    {
     "name": "stdout",
     "output_type": "stream",
     "text": [
      "Collecting pyflakes\n",
      "  Downloading pyflakes-2.2.0-py2.py3-none-any.whl (66 kB)\n",
      "\u001b[K     |████████████████████████████████| 66 kB 1.1 MB/s eta 0:00:011\n",
      "\u001b[31mERROR: flake8 3.7.9 has requirement pyflakes<2.2.0,>=2.1.0, but you'll have pyflakes 2.2.0 which is incompatible.\u001b[0m\n",
      "\u001b[?25hInstalling collected packages: pyflakes\n",
      "  Attempting uninstall: pyflakes\n",
      "    Found existing installation: pyflakes 2.1.1\n",
      "    Uninstalling pyflakes-2.1.1:\n",
      "      Successfully uninstalled pyflakes-2.1.1\n",
      "Successfully installed pyflakes-2.2.0\n"
     ]
    }
   ],
   "source": [
    "! pip install --upgrade pyflakes"
   ]
  }
 ],
 "metadata": {
  "kernelspec": {
   "display_name": "Python 3",
   "language": "python",
   "name": "python3"
  },
  "language_info": {
   "codemirror_mode": {
    "name": "ipython",
    "version": 3
   },
   "file_extension": ".py",
   "mimetype": "text/x-python",
   "name": "python",
   "nbconvert_exporter": "python",
   "pygments_lexer": "ipython3",
   "version": "3.7.7"
  }
 },
 "nbformat": 4,
 "nbformat_minor": 4
}
