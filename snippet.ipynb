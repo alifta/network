{
 "cells": [
  {
   "cell_type": "markdown",
   "metadata": {},
   "source": [
    "# Loop"
   ]
  },
  {
   "cell_type": "markdown",
   "metadata": {},
   "source": [
    "## Membership test"
   ]
  },
  {
   "cell_type": "markdown",
   "metadata": {},
   "source": [
    "To do a Pythonic membership test for an element in a list"
   ]
  },
  {
   "cell_type": "code",
   "execution_count": null,
   "metadata": {},
   "outputs": [],
   "source": [
    "haystack = [23, 'needle', 0xbadc0ffee]\n",
    "needle = 'needle'\n",
    "\n",
    "if needle not in haystack:\n",
    "    raise ValueError('Needle not found')"
   ]
  },
  {
   "cell_type": "markdown",
   "metadata": {},
   "source": [
    "We can use **else** clause in the **for** and **while** loop to execute only if loops terminates without hitting a **break** statement"
   ]
  },
  {
   "cell_type": "code",
   "execution_count": null,
   "metadata": {},
   "outputs": [],
   "source": [
    "def contains(haystack, needle):\n",
    "    \"\"\"\n",
    "    Throw a ValueError if `needle` not in `haystack`.\n",
    "    \"\"\"\n",
    "    for item in haystack:\n",
    "        if item == needle:\n",
    "            break\n",
    "    else:\n",
    "        # The `else` here is a \"completion clause\" that runs\n",
    "        # Only if the loop ran to completion without hitting a `break` statement.\n",
    "        raise ValueError('Needle not found')"
   ]
  },
  {
   "cell_type": "code",
   "execution_count": null,
   "metadata": {},
   "outputs": [],
   "source": [
    "contains([23, 'needle', 0xbadc0ffee], 'needle')  # Return None"
   ]
  },
  {
   "cell_type": "code",
   "execution_count": null,
   "metadata": {},
   "outputs": [],
   "source": [
    "# contains([23, 42, 0xbadc0ffee], 'needle')  # Return ValueError: Needle not found"
   ]
  },
  {
   "cell_type": "markdown",
   "metadata": {},
   "source": [
    "We can also use **function** and **return** to perform the same task less confusing"
   ]
  },
  {
   "cell_type": "code",
   "execution_count": null,
   "metadata": {},
   "outputs": [],
   "source": [
    "def better_contains(haystack, needle):\n",
    "    for item in haystack:\n",
    "        if item == needle:\n",
    "            return\n",
    "    raise ValueError('Needle not found')"
   ]
  },
  {
   "cell_type": "code",
   "execution_count": null,
   "metadata": {},
   "outputs": [],
   "source": [
    "better_contains([23, 'needle', 0xbadc0ffee], 'needle')  # Return None"
   ]
  },
  {
   "cell_type": "markdown",
   "metadata": {},
   "source": [
    "# List"
   ]
  },
  {
   "cell_type": "markdown",
   "metadata": {},
   "source": [
    "## Save list into file"
   ]
  },
  {
   "cell_type": "markdown",
   "metadata": {},
   "source": [
    "### (1) CSV file and using numpy"
   ]
  },
  {
   "cell_type": "code",
   "execution_count": null,
   "metadata": {},
   "outputs": [],
   "source": [
    "import numpy as np\n",
    "\n",
    "x = np.arange(0.0, 5.0, 1.0)\n",
    "\n",
    "np.savetxt('test.csv', x, delimiter=',', fmt='%s')"
   ]
  },
  {
   "cell_type": "markdown",
   "metadata": {},
   "source": [
    "## Remove consecutive duplicates items from list\n",
    "Input = 1, 2, 4, 7, 3, 7, 8, 4, 4, 9    \n",
    "Output = 1, 2, 4, 7, 3, 7, 8, 4, 9"
   ]
  },
  {
   "cell_type": "markdown",
   "metadata": {},
   "source": [
    "### (1) Loop"
   ]
  },
  {
   "cell_type": "code",
   "execution_count": null,
   "metadata": {},
   "outputs": [],
   "source": [
    "x = [1,2,4,7,3,7,8,4,4,9]\n",
    "\n",
    "previous_value = None\n",
    "new_lst = []\n",
    "\n",
    "for elem in x:\n",
    "   if elem != previous_value:\n",
    "       new_lst.append(elem)\n",
    "       previous_value = elem\n",
    "\n",
    "print(new_lst)"
   ]
  },
  {
   "cell_type": "markdown",
   "metadata": {},
   "source": [
    "### (2) Enumerate"
   ]
  },
  {
   "cell_type": "code",
   "execution_count": null,
   "metadata": {},
   "outputs": [],
   "source": [
    "x = [1,2,4,7,3,7,8,4,4,9]\n",
    "\n",
    "print([v for i, v in enumerate(x) if i == 0 or v != x[i-1]])"
   ]
  },
  {
   "cell_type": "markdown",
   "metadata": {},
   "source": [
    "### (3) Groupby"
   ]
  },
  {
   "cell_type": "code",
   "execution_count": null,
   "metadata": {},
   "outputs": [],
   "source": [
    "from itertools import groupby\n",
    "\n",
    "x = [1,2,4,7,3,7,8,4,4,9]\n",
    "print([i[0] for i in groupby(x)])"
   ]
  },
  {
   "cell_type": "markdown",
   "metadata": {},
   "source": [
    "# Class"
   ]
  },
  {
   "cell_type": "markdown",
   "metadata": {},
   "source": [
    "## Check for class inheritance relationships"
   ]
  },
  {
   "cell_type": "code",
   "execution_count": null,
   "metadata": {},
   "outputs": [],
   "source": [
    "class BaseClass:\n",
    "    pass\n",
    "\n",
    "class SubClass(BaseClass):\n",
    "    pass\n",
    "\n",
    "print(issubclass(SubClass, BaseClass))  # True"
   ]
  },
  {
   "cell_type": "markdown",
   "metadata": {},
   "source": [
    "# Figure"
   ]
  },
  {
   "cell_type": "markdown",
   "metadata": {},
   "source": [
    "## Save figure with good layout and quality"
   ]
  },
  {
   "cell_type": "code",
   "execution_count": null,
   "metadata": {},
   "outputs": [],
   "source": [
    "import matplotlib.pyplot as plt\n",
    "\n",
    "plt.tight_layout()\n",
    "plt.savefig(fname='figure.pdf', dpi=300, transparent=True, bbox_inches='tight')"
   ]
  },
  {
   "cell_type": "markdown",
   "metadata": {},
   "source": [
    "# Network"
   ]
  },
  {
   "cell_type": "markdown",
   "metadata": {},
   "source": [
    "## Visualize a graph while setting timestamp as edge labels"
   ]
  },
  {
   "cell_type": "code",
   "execution_count": null,
   "metadata": {},
   "outputs": [],
   "source": [
    "import networkx as nx\n",
    "import matplotlib.pyplot as plt\n",
    "\n",
    "# Select a layout\n",
    "# pos = nx.random_layout(G)\n",
    "# pos = nx.spring_layout(G)\n",
    "# pos = nx.shell_layout(G)\n",
    "pos = nx.kamada_kawai_layout(G)\n",
    "\n",
    "# Create canvas\n",
    "plt.figure()\n",
    "\n",
    "# Turn off axis\n",
    "plt.axis('off')\n",
    "\n",
    "# Draw graph\n",
    "nx.draw(G,\n",
    "        pos,\n",
    "        edge_color='grey',\n",
    "        width=1,\n",
    "        linewidths=1,\n",
    "        node_size=300,\n",
    "        node_color='pink',\n",
    "        alpha=0.9,\n",
    "        labels={node: node for node in G.nodes()})\n",
    "\n",
    "# Add edge labels\n",
    "edge_labels = {(e[0], e[1]): str(e[2]['t']) for e in G.edges.data()}\n",
    "nx.draw_networkx_edge_labels(\n",
    "    G,\n",
    "    pos,\n",
    "    edge_labels=edge_labels,\n",
    "    font_color='black')\n",
    "\n",
    "# Show or save\n",
    "plt.show()"
   ]
  }
 ],
 "metadata": {
  "kernelspec": {
   "display_name": "Python 3",
   "language": "python",
   "name": "python3"
  },
  "language_info": {
   "codemirror_mode": {
    "name": "ipython",
    "version": 3
   },
   "file_extension": ".py",
   "mimetype": "text/x-python",
   "name": "python",
   "nbconvert_exporter": "python",
   "pygments_lexer": "ipython3",
   "version": "3.8.8"
  },
  "metadata": {
   "interpreter": {
    "hash": "1fb7b506ebc3278d414a9cb99032ea74abe5bd5354639d5975aa94eabd1f0026"
   }
  }
 },
 "nbformat": 4,
 "nbformat_minor": 2
}
