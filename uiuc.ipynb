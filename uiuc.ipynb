{
 "cells": [
  {
   "cell_type": "markdown",
   "source": [
    "# Setup"
   ],
   "metadata": {}
  },
  {
   "cell_type": "markdown",
   "source": [
    "## Import"
   ],
   "metadata": {}
  },
  {
   "cell_type": "markdown",
   "source": [
    "### Standard python libraries"
   ],
   "metadata": {}
  },
  {
   "cell_type": "code",
   "execution_count": 1,
   "source": [
    "import numpy as np\n",
    "import pandas as pd\n",
    "import networkx as nx\n",
    "\n",
    "import seaborn as sns\n",
    "sns.set_style(\"ticks\")\n",
    "sns.set_context('notebook')\n",
    "sns.set(rc={\"figure.dpi\":300, 'savefig.dpi':300})\n",
    "\n",
    "import matplotlib.pyplot as plt\n",
    "plt.rcParams['figure.dpi'] = 300\n",
    "plt.rcParams['savefig.dpi'] = 300"
   ],
   "outputs": [],
   "metadata": {
    "ExecuteTime": {
     "end_time": "2021-06-04T01:30:05.789966Z",
     "start_time": "2021-06-04T01:30:05.785407Z"
    }
   }
  },
  {
   "cell_type": "markdown",
   "source": [
    "### Project modules"
   ],
   "metadata": {}
  },
  {
   "cell_type": "code",
   "execution_count": 2,
   "source": [
    "from graph.utils import *\n",
    "from graph.network import *\n",
    "from graph.temporal import *"
   ],
   "outputs": [],
   "metadata": {
    "ExecuteTime": {
     "end_time": "2021-06-04T01:30:06.008774Z",
     "start_time": "2021-06-04T01:30:06.004226Z"
    }
   }
  },
  {
   "cell_type": "markdown",
   "source": [
    "### Reload modules"
   ],
   "metadata": {}
  },
  {
   "cell_type": "markdown",
   "source": [
    "1) Manual method"
   ],
   "metadata": {}
  },
  {
   "cell_type": "code",
   "execution_count": 3,
   "source": [
    "# import importlib\n",
    "\n",
    "# importlib.reload(graph.utils)\n",
    "# importlib.reload(graph.network)"
   ],
   "outputs": [],
   "metadata": {
    "ExecuteTime": {
     "end_time": "2021-06-04T01:30:06.482153Z",
     "start_time": "2021-06-04T01:30:06.478725Z"
    }
   }
  },
  {
   "cell_type": "markdown",
   "source": [
    "2) Automatic method"
   ],
   "metadata": {}
  },
  {
   "cell_type": "code",
   "execution_count": 4,
   "source": [
    "%load_ext autoreload\n",
    "\n",
    "# Auto-reload all modules\n",
    "%autoreload 2\n",
    "\n",
    "# Disable auto-reloading\n",
    "# %autoreload 0\n",
    "\n",
    "# Only reload imported modules with aimport\n",
    "# %autoreload 1\n",
    "# %aimport graph.utils\n",
    "# %aimport graph.network"
   ],
   "outputs": [],
   "metadata": {
    "ExecuteTime": {
     "end_time": "2021-06-04T01:30:06.966779Z",
     "start_time": "2021-06-04T01:30:06.913915Z"
    }
   }
  },
  {
   "cell_type": "markdown",
   "source": [
    "# UIUC"
   ],
   "metadata": {}
  },
  {
   "cell_type": "markdown",
   "source": [
    "## Data"
   ],
   "metadata": {}
  },
  {
   "cell_type": "code",
   "execution_count": null,
   "source": [],
   "outputs": [],
   "metadata": {}
  },
  {
   "cell_type": "markdown",
   "source": [
    "## Temporal network"
   ],
   "metadata": {}
  },
  {
   "cell_type": "code",
   "execution_count": 5,
   "source": [
    "# G = temporal_bt()"
   ],
   "outputs": [],
   "metadata": {
    "ExecuteTime": {
     "end_time": "2021-06-04T01:30:07.753340Z",
     "start_time": "2021-06-04T01:30:07.731232Z"
    },
    "tags": []
   }
  },
  {
   "cell_type": "code",
   "execution_count": 6,
   "source": [
    "# G = temporal_bt_read(output=True)"
   ],
   "outputs": [],
   "metadata": {
    "ExecuteTime": {
     "end_time": "2021-06-04T01:30:07.958356Z",
     "start_time": "2021-06-04T01:30:07.935862Z"
    }
   }
  },
  {
   "cell_type": "markdown",
   "source": [
    "## Static network"
   ],
   "metadata": {}
  },
  {
   "cell_type": "code",
   "execution_count": 7,
   "source": [
    "# S = static_bt()"
   ],
   "outputs": [],
   "metadata": {
    "ExecuteTime": {
     "end_time": "2021-06-04T01:30:08.357926Z",
     "start_time": "2021-06-04T01:30:08.331142Z"
    }
   }
  },
  {
   "cell_type": "code",
   "execution_count": 8,
   "source": [
    "# S = static_bt_read(output=True, stat=True)"
   ],
   "outputs": [],
   "metadata": {
    "ExecuteTime": {
     "end_time": "2021-06-04T01:30:08.435798Z",
     "start_time": "2021-06-04T01:30:08.409136Z"
    }
   }
  },
  {
   "cell_type": "markdown",
   "source": [
    "## Time-Ordered network"
   ],
   "metadata": {}
  },
  {
   "cell_type": "code",
   "execution_count": 9,
   "source": [
    "# T = ton_bt()"
   ],
   "outputs": [],
   "metadata": {
    "ExecuteTime": {
     "end_time": "2021-06-04T01:30:08.810542Z",
     "start_time": "2021-06-04T01:30:08.779358Z"
    },
    "tags": []
   }
  },
  {
   "cell_type": "code",
   "execution_count": 10,
   "source": [
    "# T = ton_bt_full()"
   ],
   "outputs": [],
   "metadata": {
    "ExecuteTime": {
     "end_time": "2021-06-04T01:30:08.990181Z",
     "start_time": "2021-06-04T01:30:08.971531Z"
    }
   }
  },
  {
   "cell_type": "code",
   "execution_count": 11,
   "source": [
    "# T = ton_bt_read(output=True)"
   ],
   "outputs": [],
   "metadata": {
    "ExecuteTime": {
     "end_time": "2021-06-04T01:30:09.201253Z",
     "start_time": "2021-06-04T01:30:09.178383Z"
    }
   }
  },
  {
   "cell_type": "code",
   "execution_count": 12,
   "source": [
    "# ton_bt_analyze()"
   ],
   "outputs": [],
   "metadata": {
    "ExecuteTime": {
     "end_time": "2021-06-04T01:30:09.397518Z",
     "start_time": "2021-06-04T01:30:09.372716Z"
    }
   }
  },
  {
   "cell_type": "code",
   "execution_count": 13,
   "source": [
    "# G_new = ton_bt_to_temporal(save_times=False, save_nodes=False, save_network_file=False)"
   ],
   "outputs": [],
   "metadata": {
    "ExecuteTime": {
     "end_time": "2021-06-04T01:30:09.603407Z",
     "start_time": "2021-06-04T01:30:09.574705Z"
    }
   }
  },
  {
   "cell_type": "markdown",
   "source": [
    "## Edge weight"
   ],
   "metadata": {}
  },
  {
   "cell_type": "code",
   "execution_count": 14,
   "source": [
    "# ew = edge_weight(\n",
    "#     version=0,\n",
    "#     omega=0.5,\n",
    "#     epsilon=1,\n",
    "#     gamma=0.0001,\n",
    "#     distance=1,\n",
    "#     alpha=0.5,\n",
    "#     save_weights=False,\n",
    "#     output_weights=False,\n",
    "#     plot_weights=False\n",
    "# )"
   ],
   "outputs": [],
   "metadata": {
    "ExecuteTime": {
     "end_time": "2021-06-04T01:30:09.945284Z",
     "start_time": "2021-06-04T01:30:09.916482Z"
    },
    "tags": []
   }
  },
  {
   "cell_type": "code",
   "execution_count": 15,
   "source": [
    "# ew = edge_weight(\n",
    "#     version=3,\n",
    "#     omega=1,\n",
    "#     epsilon=1,\n",
    "#     gamma=0.0001,\n",
    "#     distance=0.1,\n",
    "#     alpha=0.5,\n",
    "#     save_weights=True,\n",
    "#     output_weights=False,\n",
    "#     plot_weights=False\n",
    "# )"
   ],
   "outputs": [],
   "metadata": {
    "ExecuteTime": {
     "end_time": "2021-06-04T01:30:10.123574Z",
     "start_time": "2021-06-04T01:30:10.098053Z"
    }
   }
  },
  {
   "cell_type": "code",
   "execution_count": 16,
   "source": [
    "# ew = edge_weight(\n",
    "#     version=3,\n",
    "#     omega=1.1,\n",
    "#     epsilon=1,\n",
    "#     gamma=0.0001,\n",
    "#     distance=0.1,\n",
    "#     alpha=0.5,\n",
    "#     save_weights=False,\n",
    "#     output_weights=True,\n",
    "#     plot_weights=False\n",
    "# )"
   ],
   "outputs": [],
   "metadata": {
    "ExecuteTime": {
     "end_time": "2021-06-04T01:30:10.317782Z",
     "start_time": "2021-06-04T01:30:10.289450Z"
    }
   }
  },
  {
   "cell_type": "code",
   "execution_count": 17,
   "source": [
    "# ew = ew_read()"
   ],
   "outputs": [],
   "metadata": {
    "ExecuteTime": {
     "end_time": "2021-06-04T01:30:10.490560Z",
     "start_time": "2021-06-04T01:30:10.463523Z"
    }
   }
  },
  {
   "cell_type": "markdown",
   "source": [
    "## HITS"
   ],
   "metadata": {}
  },
  {
   "cell_type": "code",
   "execution_count": 18,
   "source": [
    "# HITS test different variations\n",
    "# a,h = hits(\n",
    "#     version=5,\n",
    "#     sigma=0.85,\n",
    "#     max_iter=200,\n",
    "#     output=True,\n",
    "#     plot=True,\n",
    "#     save=False\n",
    "# )"
   ],
   "outputs": [],
   "metadata": {
    "ExecuteTime": {
     "end_time": "2021-06-04T01:30:10.837661Z",
     "start_time": "2021-06-04T01:30:10.811317Z"
    }
   }
  },
  {
   "cell_type": "code",
   "execution_count": 19,
   "source": [
    "# HITS\n",
    "# a,h = hits(\n",
    "#     version=3,\n",
    "#     sigma=0.85,\n",
    "#     max_iter=100,\n",
    "#     output=False,\n",
    "#     plot=True,\n",
    "#     save=True\n",
    "# )"
   ],
   "outputs": [],
   "metadata": {
    "ExecuteTime": {
     "end_time": "2021-06-04T01:30:11.006478Z",
     "start_time": "2021-06-04T01:30:10.981039Z"
    }
   }
  },
  {
   "cell_type": "code",
   "execution_count": 20,
   "source": [
    "# a, h = hits_read()"
   ],
   "outputs": [],
   "metadata": {
    "ExecuteTime": {
     "end_time": "2021-06-04T01:30:11.185277Z",
     "start_time": "2021-06-04T01:30:11.157892Z"
    }
   }
  },
  {
   "cell_type": "code",
   "execution_count": 21,
   "source": [
    "# hits_conditional()"
   ],
   "outputs": [],
   "metadata": {
    "ExecuteTime": {
     "end_time": "2021-06-04T01:30:11.385918Z",
     "start_time": "2021-06-04T01:30:11.357975Z"
    }
   }
  },
  {
   "cell_type": "code",
   "execution_count": 22,
   "source": [
    "# hitsc = hits_conditional_read(return_all=True)"
   ],
   "outputs": [],
   "metadata": {
    "ExecuteTime": {
     "end_time": "2021-06-04T01:30:11.609724Z",
     "start_time": "2021-06-04T01:30:11.583007Z"
    }
   }
  },
  {
   "cell_type": "code",
   "execution_count": 23,
   "source": [
    "# hits_analyze()"
   ],
   "outputs": [],
   "metadata": {
    "ExecuteTime": {
     "end_time": "2021-06-04T01:30:11.789577Z",
     "start_time": "2021-06-04T01:30:11.761950Z"
    }
   }
  },
  {
   "cell_type": "code",
   "execution_count": 24,
   "source": [
    "# hits_group()"
   ],
   "outputs": [],
   "metadata": {
    "ExecuteTime": {
     "end_time": "2021-06-04T01:30:11.962354Z",
     "start_time": "2021-06-04T01:30:11.936773Z"
    }
   }
  },
  {
   "cell_type": "code",
   "execution_count": 25,
   "source": [
    "# hg = hits_group(versions=[1,2])"
   ],
   "outputs": [],
   "metadata": {
    "ExecuteTime": {
     "end_time": "2021-06-04T01:30:12.142634Z",
     "start_time": "2021-06-04T01:30:12.116275Z"
    }
   }
  },
  {
   "cell_type": "markdown",
   "source": [
    "## Node removal"
   ],
   "metadata": {}
  },
  {
   "cell_type": "code",
   "execution_count": 26,
   "source": [
    "# hr = hits_remove(\n",
    "#     epoch=24, # 24\n",
    "#     remove=0.5,\n",
    "#     step=100,  # 10\n",
    "#     strategy_a='a',\n",
    "#     strategy_b='t',\n",
    "#     strategy_c='n',  # 'r'\n",
    "#     strategy_d=1,  # Score-based removal\n",
    "#     # actions=[0, 2],\n",
    "#     actions=[0, 2, 4, 5],\n",
    "#     output=True,\n",
    "#     plot_times=True,\n",
    "#     save_networks=True,\n",
    "#     return_graphs=True,\n",
    "#     return_scores=True,\n",
    "# )"
   ],
   "outputs": [],
   "metadata": {
    "ExecuteTime": {
     "end_time": "2021-06-04T01:30:12.498563Z",
     "start_time": "2021-06-04T01:30:12.473272Z"
    },
    "tags": []
   }
  },
  {
   "cell_type": "markdown",
   "source": [
    "## Reachability"
   ],
   "metadata": {}
  },
  {
   "cell_type": "code",
   "execution_count": 27,
   "source": [
    "# Original reachability\n",
    "# reachability(output=True, save=True)"
   ],
   "outputs": [],
   "metadata": {
    "ExecuteTime": {
     "end_time": "2021-06-04T01:30:12.868287Z",
     "start_time": "2021-06-04T01:30:12.842285Z"
    }
   }
  },
  {
   "cell_type": "code",
   "execution_count": null,
   "source": [
    "# Modified reachability\n",
    "reachability_create(output=True, save=True)"
   ],
   "outputs": [],
   "metadata": {
    "ExecuteTime": {
     "start_time": "2021-06-04T01:30:13.334Z"
    }
   }
  },
  {
   "cell_type": "code",
   "execution_count": null,
   "source": [
    "print()"
   ],
   "outputs": [],
   "metadata": {
    "ExecuteTime": {
     "start_time": "2021-06-04T09:42:59.326Z"
    }
   }
  }
 ],
 "metadata": {
  "kernelspec": {
   "name": "python3",
   "display_name": "Python 3.8.11 64-bit ('base': conda)"
  },
  "language_info": {
   "codemirror_mode": {
    "name": "ipython",
    "version": 3
   },
   "file_extension": ".py",
   "mimetype": "text/x-python",
   "name": "python",
   "nbconvert_exporter": "python",
   "pygments_lexer": "ipython3",
   "version": "3.8.11"
  },
  "interpreter": {
   "hash": "300a6bce62a075de9e5f50bdbe16e7b90d64ffdff8b2e24130522ebabb3fa681"
  }
 },
 "nbformat": 4,
 "nbformat_minor": 2
}