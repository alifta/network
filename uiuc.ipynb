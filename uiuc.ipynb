{
 "cells": [
  {
   "cell_type": "markdown",
   "metadata": {},
   "source": [
    "# Setup"
   ]
  },
  {
   "cell_type": "markdown",
   "metadata": {},
   "source": [
    "## Import"
   ]
  },
  {
   "cell_type": "markdown",
   "metadata": {},
   "source": [
    "### Standard python libraries"
   ]
  },
  {
   "cell_type": "code",
   "execution_count": 1,
   "metadata": {
    "ExecuteTime": {
     "end_time": "2021-06-04T01:30:05.789966Z",
     "start_time": "2021-06-04T01:30:05.785407Z"
    }
   },
   "outputs": [],
   "source": [
    "import numpy as np\n",
    "import pandas as pd\n",
    "import networkx as nx\n",
    "\n",
    "import seaborn as sns\n",
    "sns.set_style(\"ticks\")\n",
    "sns.set_context('notebook')\n",
    "sns.set(rc={\"figure.dpi\":300, 'savefig.dpi':300})\n",
    "\n",
    "import matplotlib.pyplot as plt\n",
    "plt.rcParams['figure.dpi'] = 300\n",
    "plt.rcParams['savefig.dpi'] = 300"
   ]
  },
  {
   "cell_type": "markdown",
   "metadata": {},
   "source": [
    "### Project modules"
   ]
  },
  {
   "cell_type": "code",
   "execution_count": 2,
   "metadata": {
    "ExecuteTime": {
     "end_time": "2021-06-04T01:30:06.008774Z",
     "start_time": "2021-06-04T01:30:06.004226Z"
    }
   },
   "outputs": [],
   "source": [
    "from graph.utils import *\n",
    "from graph.network import *\n",
    "from graph.temporal import *"
   ]
  },
  {
   "cell_type": "markdown",
   "metadata": {},
   "source": [
    "### Reload modules"
   ]
  },
  {
   "cell_type": "markdown",
   "metadata": {},
   "source": [
    "1) Manual method"
   ]
  },
  {
   "cell_type": "code",
   "execution_count": 3,
   "metadata": {
    "ExecuteTime": {
     "end_time": "2021-06-04T01:30:06.482153Z",
     "start_time": "2021-06-04T01:30:06.478725Z"
    }
   },
   "outputs": [],
   "source": [
    "# import importlib\n",
    "\n",
    "# importlib.reload(graph.utils)\n",
    "# importlib.reload(graph.network)"
   ]
  },
  {
   "cell_type": "markdown",
   "metadata": {},
   "source": [
    "2) Automatic method"
   ]
  },
  {
   "cell_type": "code",
   "execution_count": 4,
   "metadata": {
    "ExecuteTime": {
     "end_time": "2021-06-04T01:30:06.966779Z",
     "start_time": "2021-06-04T01:30:06.913915Z"
    }
   },
   "outputs": [],
   "source": [
    "%load_ext autoreload\n",
    "\n",
    "# Auto-reload all modules\n",
    "%autoreload 2\n",
    "\n",
    "# Disable auto-reloading\n",
    "# %autoreload 0\n",
    "\n",
    "# Only reload imported modules with aimport\n",
    "# %autoreload 1\n",
    "# %aimport graph.utils\n",
    "# %aimport graph.network"
   ]
  },
  {
   "cell_type": "markdown",
   "metadata": {},
   "source": [
    "# UIUC"
   ]
  },
  {
   "cell_type": "markdown",
   "metadata": {},
   "source": [
    "## Data"
   ]
  },
  {
   "cell_type": "code",
   "execution_count": null,
   "metadata": {},
   "outputs": [],
   "source": []
  },
  {
   "cell_type": "markdown",
   "metadata": {},
   "source": [
    "## Temporal network"
   ]
  },
  {
   "cell_type": "code",
   "execution_count": 5,
   "metadata": {
    "ExecuteTime": {
     "end_time": "2021-06-04T01:30:07.753340Z",
     "start_time": "2021-06-04T01:30:07.731232Z"
    },
    "tags": []
   },
   "outputs": [],
   "source": [
    "# G = temporal_bt()"
   ]
  },
  {
   "cell_type": "code",
   "execution_count": 6,
   "metadata": {
    "ExecuteTime": {
     "end_time": "2021-06-04T01:30:07.958356Z",
     "start_time": "2021-06-04T01:30:07.935862Z"
    }
   },
   "outputs": [],
   "source": [
    "# G = temporal_bt_read(output=True)"
   ]
  },
  {
   "cell_type": "markdown",
   "metadata": {},
   "source": [
    "## Static network"
   ]
  },
  {
   "cell_type": "code",
   "execution_count": 7,
   "metadata": {
    "ExecuteTime": {
     "end_time": "2021-06-04T01:30:08.357926Z",
     "start_time": "2021-06-04T01:30:08.331142Z"
    }
   },
   "outputs": [],
   "source": [
    "# S = static_bt()"
   ]
  },
  {
   "cell_type": "code",
   "execution_count": 8,
   "metadata": {
    "ExecuteTime": {
     "end_time": "2021-06-04T01:30:08.435798Z",
     "start_time": "2021-06-04T01:30:08.409136Z"
    }
   },
   "outputs": [],
   "source": [
    "# S = static_bt_read(output=True, stat=True)"
   ]
  },
  {
   "cell_type": "markdown",
   "metadata": {},
   "source": [
    "## Time-Ordered network"
   ]
  },
  {
   "cell_type": "code",
   "execution_count": 9,
   "metadata": {
    "ExecuteTime": {
     "end_time": "2021-06-04T01:30:08.810542Z",
     "start_time": "2021-06-04T01:30:08.779358Z"
    },
    "tags": []
   },
   "outputs": [],
   "source": [
    "# T = ton_bt()"
   ]
  },
  {
   "cell_type": "code",
   "execution_count": 10,
   "metadata": {
    "ExecuteTime": {
     "end_time": "2021-06-04T01:30:08.990181Z",
     "start_time": "2021-06-04T01:30:08.971531Z"
    }
   },
   "outputs": [],
   "source": [
    "# T = ton_bt_full()"
   ]
  },
  {
   "cell_type": "code",
   "execution_count": 11,
   "metadata": {
    "ExecuteTime": {
     "end_time": "2021-06-04T01:30:09.201253Z",
     "start_time": "2021-06-04T01:30:09.178383Z"
    }
   },
   "outputs": [],
   "source": [
    "# T = ton_bt_read(output=True)"
   ]
  },
  {
   "cell_type": "code",
   "execution_count": 12,
   "metadata": {
    "ExecuteTime": {
     "end_time": "2021-06-04T01:30:09.397518Z",
     "start_time": "2021-06-04T01:30:09.372716Z"
    }
   },
   "outputs": [],
   "source": [
    "# ton_bt_analyze()"
   ]
  },
  {
   "cell_type": "code",
   "execution_count": 13,
   "metadata": {
    "ExecuteTime": {
     "end_time": "2021-06-04T01:30:09.603407Z",
     "start_time": "2021-06-04T01:30:09.574705Z"
    }
   },
   "outputs": [],
   "source": [
    "# G_new = ton_bt_to_temporal(save_times=False, save_nodes=False, save_network_file=False)"
   ]
  },
  {
   "cell_type": "markdown",
   "metadata": {},
   "source": [
    "## Edge weight"
   ]
  },
  {
   "cell_type": "code",
   "execution_count": 14,
   "metadata": {
    "ExecuteTime": {
     "end_time": "2021-06-04T01:30:09.945284Z",
     "start_time": "2021-06-04T01:30:09.916482Z"
    },
    "tags": []
   },
   "outputs": [],
   "source": [
    "# ew = edge_weight(\n",
    "#     version=0,\n",
    "#     omega=0.5,\n",
    "#     epsilon=1,\n",
    "#     gamma=0.0001,\n",
    "#     distance=1,\n",
    "#     alpha=0.5,\n",
    "#     save_weights=False,\n",
    "#     output_weights=False,\n",
    "#     plot_weights=False\n",
    "# )"
   ]
  },
  {
   "cell_type": "code",
   "execution_count": 15,
   "metadata": {
    "ExecuteTime": {
     "end_time": "2021-06-04T01:30:10.123574Z",
     "start_time": "2021-06-04T01:30:10.098053Z"
    }
   },
   "outputs": [],
   "source": [
    "# ew = edge_weight(\n",
    "#     version=3,\n",
    "#     omega=1,\n",
    "#     epsilon=1,\n",
    "#     gamma=0.0001,\n",
    "#     distance=0.1,\n",
    "#     alpha=0.5,\n",
    "#     save_weights=True,\n",
    "#     output_weights=False,\n",
    "#     plot_weights=False\n",
    "# )"
   ]
  },
  {
   "cell_type": "code",
   "execution_count": 16,
   "metadata": {
    "ExecuteTime": {
     "end_time": "2021-06-04T01:30:10.317782Z",
     "start_time": "2021-06-04T01:30:10.289450Z"
    }
   },
   "outputs": [],
   "source": [
    "# ew = edge_weight(\n",
    "#     version=3,\n",
    "#     omega=1.1,\n",
    "#     epsilon=1,\n",
    "#     gamma=0.0001,\n",
    "#     distance=0.1,\n",
    "#     alpha=0.5,\n",
    "#     save_weights=False,\n",
    "#     output_weights=True,\n",
    "#     plot_weights=False\n",
    "# )"
   ]
  },
  {
   "cell_type": "code",
   "execution_count": 17,
   "metadata": {
    "ExecuteTime": {
     "end_time": "2021-06-04T01:30:10.490560Z",
     "start_time": "2021-06-04T01:30:10.463523Z"
    }
   },
   "outputs": [],
   "source": [
    "# ew = ew_read()"
   ]
  },
  {
   "cell_type": "markdown",
   "metadata": {},
   "source": [
    "## HITS"
   ]
  },
  {
   "cell_type": "code",
   "execution_count": 18,
   "metadata": {
    "ExecuteTime": {
     "end_time": "2021-06-04T01:30:10.837661Z",
     "start_time": "2021-06-04T01:30:10.811317Z"
    }
   },
   "outputs": [],
   "source": [
    "# HITS test different variations\n",
    "# a,h = hits(\n",
    "#     version=5,\n",
    "#     sigma=0.85,\n",
    "#     max_iter=200,\n",
    "#     output=True,\n",
    "#     plot=True,\n",
    "#     save=False\n",
    "# )"
   ]
  },
  {
   "cell_type": "code",
   "execution_count": 19,
   "metadata": {
    "ExecuteTime": {
     "end_time": "2021-06-04T01:30:11.006478Z",
     "start_time": "2021-06-04T01:30:10.981039Z"
    }
   },
   "outputs": [],
   "source": [
    "# HITS\n",
    "# a,h = hits(\n",
    "#     version=3,\n",
    "#     sigma=0.85,\n",
    "#     max_iter=100,\n",
    "#     output=False,\n",
    "#     plot=True,\n",
    "#     save=True\n",
    "# )"
   ]
  },
  {
   "cell_type": "code",
   "execution_count": 20,
   "metadata": {
    "ExecuteTime": {
     "end_time": "2021-06-04T01:30:11.185277Z",
     "start_time": "2021-06-04T01:30:11.157892Z"
    }
   },
   "outputs": [],
   "source": [
    "# a, h = hits_read()"
   ]
  },
  {
   "cell_type": "code",
   "execution_count": 21,
   "metadata": {
    "ExecuteTime": {
     "end_time": "2021-06-04T01:30:11.385918Z",
     "start_time": "2021-06-04T01:30:11.357975Z"
    }
   },
   "outputs": [],
   "source": [
    "# hits_conditional()"
   ]
  },
  {
   "cell_type": "code",
   "execution_count": 22,
   "metadata": {
    "ExecuteTime": {
     "end_time": "2021-06-04T01:30:11.609724Z",
     "start_time": "2021-06-04T01:30:11.583007Z"
    }
   },
   "outputs": [],
   "source": [
    "# hitsc = hits_conditional_read(return_all=True)"
   ]
  },
  {
   "cell_type": "code",
   "execution_count": 23,
   "metadata": {
    "ExecuteTime": {
     "end_time": "2021-06-04T01:30:11.789577Z",
     "start_time": "2021-06-04T01:30:11.761950Z"
    }
   },
   "outputs": [],
   "source": [
    "# hits_analyze()"
   ]
  },
  {
   "cell_type": "code",
   "execution_count": 24,
   "metadata": {
    "ExecuteTime": {
     "end_time": "2021-06-04T01:30:11.962354Z",
     "start_time": "2021-06-04T01:30:11.936773Z"
    }
   },
   "outputs": [],
   "source": [
    "# hits_group()"
   ]
  },
  {
   "cell_type": "code",
   "execution_count": 25,
   "metadata": {
    "ExecuteTime": {
     "end_time": "2021-06-04T01:30:12.142634Z",
     "start_time": "2021-06-04T01:30:12.116275Z"
    }
   },
   "outputs": [],
   "source": [
    "# hg = hits_group(versions=[1,2])"
   ]
  },
  {
   "cell_type": "markdown",
   "metadata": {},
   "source": [
    "## Node removal"
   ]
  },
  {
   "cell_type": "code",
   "execution_count": 26,
   "metadata": {
    "ExecuteTime": {
     "end_time": "2021-06-04T01:30:12.498563Z",
     "start_time": "2021-06-04T01:30:12.473272Z"
    },
    "tags": []
   },
   "outputs": [],
   "source": [
    "# hr = hits_remove(\n",
    "#     epoch=24, # 24\n",
    "#     remove=0.5,\n",
    "#     step=100,  # 10\n",
    "#     strategy_a='a',\n",
    "#     strategy_b='t',\n",
    "#     strategy_c='n',  # 'r'\n",
    "#     strategy_d=1,  # Score-based removal\n",
    "#     # actions=[0, 2],\n",
    "#     actions=[0, 2, 4, 5],\n",
    "#     output=True,\n",
    "#     plot_times=True,\n",
    "#     save_networks=True,\n",
    "#     return_graphs=True,\n",
    "#     return_scores=True,\n",
    "# )"
   ]
  },
  {
   "cell_type": "markdown",
   "metadata": {},
   "source": [
    "## Reachability"
   ]
  },
  {
   "cell_type": "code",
   "execution_count": 27,
   "metadata": {
    "ExecuteTime": {
     "end_time": "2021-06-04T01:30:12.868287Z",
     "start_time": "2021-06-04T01:30:12.842285Z"
    }
   },
   "outputs": [],
   "source": [
    "# Original reachability\n",
    "# reachability(output=True, save=True)"
   ]
  },
  {
   "cell_type": "code",
   "execution_count": null,
   "metadata": {
    "ExecuteTime": {
     "start_time": "2021-06-04T01:30:13.334Z"
    }
   },
   "outputs": [],
   "source": [
    "# Modified reachability\n",
    "reachability_create(output=True, save=True)"
   ]
  },
  {
   "cell_type": "code",
   "execution_count": null,
   "metadata": {
    "ExecuteTime": {
     "start_time": "2021-06-04T09:42:59.326Z"
    }
   },
   "outputs": [],
   "source": [
    "print()"
   ]
  }
 ],
 "metadata": {
  "kernelspec": {
   "display_name": "Python 3.7.4 64-bit ('venv': venv)",
   "language": "python",
   "name": "python37464bitvenvvenv985279a5dd004a4e960074365c659553"
  },
  "language_info": {
   "codemirror_mode": {
    "name": "ipython",
    "version": 3
   },
   "file_extension": ".py",
   "mimetype": "text/x-python",
   "name": "python",
   "nbconvert_exporter": "python",
   "pygments_lexer": "ipython3",
   "version": "3.7.4"
  }
 },
 "nbformat": 4,
 "nbformat_minor": 2
}
