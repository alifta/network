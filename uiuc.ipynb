{
 "metadata": {
  "language_info": {
   "codemirror_mode": {
    "name": "ipython",
    "version": 3
   },
   "file_extension": ".py",
   "mimetype": "text/x-python",
   "name": "python",
   "nbconvert_exporter": "python",
   "pygments_lexer": "ipython3",
   "version": "3.8.8"
  },
  "orig_nbformat": 2,
  "kernelspec": {
   "name": "python388jvsc74a57bd05aed86d787bde9146cb9d863f573fa1ac00eeb010ce60a85a43a296541db3d6a",
   "display_name": "Python 3.8.8 64-bit ('base': conda)"
  }
 },
 "nbformat": 4,
 "nbformat_minor": 2,
 "cells": [
  {
   "source": [
    "# Setup"
   ],
   "cell_type": "markdown",
   "metadata": {}
  },
  {
   "source": [
    "## Import"
   ],
   "cell_type": "markdown",
   "metadata": {}
  },
  {
   "source": [
    "### Standard python libraries"
   ],
   "cell_type": "markdown",
   "metadata": {}
  },
  {
   "cell_type": "code",
   "execution_count": 1,
   "metadata": {},
   "outputs": [],
   "source": [
    "import numpy as np\n",
    "import pandas as pd\n",
    "import networkx as nx\n",
    "\n",
    "import seaborn as sns\n",
    "sns.set_style(\"ticks\")\n",
    "sns.set_context('notebook')\n",
    "sns.set(rc={\"figure.dpi\":300, 'savefig.dpi':300})\n",
    "\n",
    "import matplotlib.pyplot as plt\n",
    "plt.rcParams['figure.dpi'] = 300\n",
    "plt.rcParams['savefig.dpi'] = 300"
   ]
  },
  {
   "source": [
    "### Project modules"
   ],
   "cell_type": "markdown",
   "metadata": {}
  },
  {
   "cell_type": "code",
   "execution_count": 2,
   "metadata": {},
   "outputs": [],
   "source": [
    "from graph.utils import *\n",
    "from graph.network import *\n",
    "from graph.temporal import *"
   ]
  },
  {
   "source": [
    "### Reload modules"
   ],
   "cell_type": "markdown",
   "metadata": {}
  },
  {
   "source": [
    "1) Manual method"
   ],
   "cell_type": "markdown",
   "metadata": {}
  },
  {
   "cell_type": "code",
   "execution_count": 3,
   "metadata": {},
   "outputs": [],
   "source": [
    "# import importlib\n",
    "\n",
    "# importlib.reload(graph.utils)\n",
    "# importlib.reload(graph.network)"
   ]
  },
  {
   "source": [
    "2) Automatic method"
   ],
   "cell_type": "markdown",
   "metadata": {}
  },
  {
   "cell_type": "code",
   "execution_count": 4,
   "metadata": {},
   "outputs": [],
   "source": [
    "%load_ext autoreload\n",
    "\n",
    "# Auto-reload all modules\n",
    "%autoreload 2\n",
    "\n",
    "# Disable auto-reloading\n",
    "# %autoreload 0\n",
    "\n",
    "# Only reload imported modules with aimport\n",
    "# %autoreload 1\n",
    "# %aimport graph.utils\n",
    "# %aimport graph.network"
   ]
  },
  {
   "source": [
    "## Config"
   ],
   "cell_type": "markdown",
   "metadata": {}
  },
  {
   "source": [
    "### Matplotlib"
   ],
   "cell_type": "markdown",
   "metadata": {}
  },
  {
   "cell_type": "code",
   "execution_count": 5,
   "metadata": {},
   "outputs": [],
   "source": [
    "plt.rcParams['figure.dpi'] = 300\n",
    "plt.rcParams['savefig.dpi'] = 300"
   ]
  },
  {
   "source": [
    "Simple plot configuration"
   ],
   "cell_type": "markdown",
   "metadata": {}
  },
  {
   "cell_type": "code",
   "execution_count": 6,
   "metadata": {},
   "outputs": [],
   "source": [
    "# mpl.rc('axes', labelsize=14)\n",
    "# mpl.rc('xtick', labelsize=12)\n",
    "# mpl.rc('ytick', labelsize=12)"
   ]
  },
  {
   "source": [
    "A more complex plot configuration\n",
    "- Sans serif fonts\n",
    "- Color 222222 is dark grey"
   ],
   "cell_type": "markdown",
   "metadata": {}
  },
  {
   "cell_type": "code",
   "execution_count": 7,
   "metadata": {},
   "outputs": [],
   "source": [
    "# mpl.rc('font', **{'family': 'sans-serif', 'sans-serif': ['Arial']})\n",
    "# mpl.rc('font', size=16)\n",
    "# mpl.rc('text', usetex=False, color='#222222')\n",
    "\n",
    "# mpl.rc('xtick', labelsize=14, color='#222222')\n",
    "# mpl.rc('ytick', labelsize=14, color='#222222')\n",
    "\n",
    "# mpl.rc('xtick.major', size=6, width=1)\n",
    "# mpl.rc('xtick.minor', size=3, width=1)\n",
    "# mpl.rc('ytick.major', size=6, width=1)\n",
    "# mpl.rc('ytick.minor', size=3, width=1)\n",
    "\n",
    "# mpl.rc('axes', linewidth=1, edgecolor='#222222', labelcolor='#222222')"
   ]
  },
  {
   "source": [
    "# UIUC"
   ],
   "cell_type": "markdown",
   "metadata": {}
  },
  {
   "source": [
    "## Data"
   ],
   "cell_type": "markdown",
   "metadata": {}
  },
  {
   "cell_type": "code",
   "execution_count": 8,
   "metadata": {},
   "outputs": [],
   "source": [
    "# TODO"
   ]
  },
  {
   "source": [
    "## Temporal network"
   ],
   "cell_type": "markdown",
   "metadata": {}
  },
  {
   "cell_type": "code",
   "execution_count": 9,
   "metadata": {
    "tags": []
   },
   "outputs": [],
   "source": [
    "# Create\n",
    "# G = temporal_bt()\n",
    "\n",
    "# Read\n",
    "# G = temporal_bt_read(output=True)"
   ]
  },
  {
   "source": [
    "## Static network"
   ],
   "cell_type": "markdown",
   "metadata": {}
  },
  {
   "cell_type": "code",
   "execution_count": 10,
   "metadata": {},
   "outputs": [],
   "source": [
    "# Create\n",
    "# S = static_bt()\n",
    "\n",
    "# Read\n",
    "# S = static_bt_read(output=True, stat=True)"
   ]
  },
  {
   "cell_type": "code",
   "execution_count": null,
   "metadata": {},
   "outputs": [],
   "source": []
  },
  {
   "source": [
    "## Time-Ordered network"
   ],
   "cell_type": "markdown",
   "metadata": {}
  },
  {
   "cell_type": "code",
   "execution_count": 11,
   "metadata": {
    "tags": []
   },
   "outputs": [],
   "source": [
    "# Create\n",
    "# T = ton_bt()\n",
    "\n",
    "# Create full version\n",
    "# T = ton_bt_full()\n",
    "\n",
    "# Read\n",
    "# T = ton_bt_read(output=True)\n",
    "\n",
    "# Analize\n",
    "# ton_bt_analyze()\n",
    "\n",
    "# G_new = ton_bt_to_temporal(save_times=False, save_nodes=False, save_network_file=False)"
   ]
  },
  {
   "source": [
    "## Edge weight"
   ],
   "cell_type": "markdown",
   "metadata": {}
  },
  {
   "cell_type": "code",
   "execution_count": 12,
   "metadata": {
    "tags": []
   },
   "outputs": [],
   "source": [
    "# Fixed panalize 0.5\n",
    "# ew = edge_weight(\n",
    "#     version=0,\n",
    "#     omega=0.5,\n",
    "#     epsilon=1,\n",
    "#     gamma=0.0001,\n",
    "#     distance=1,\n",
    "#     alpha=0.5,\n",
    "#     save_weights=False,\n",
    "#     output_weights=False,\n",
    "#     plot_weights=False\n",
    "# )\n",
    "\n",
    "# Dynamic panalize - current config\n",
    "# ew = edge_weight(\n",
    "#     version=3,\n",
    "#     omega=1,\n",
    "#     epsilon=1,\n",
    "#     gamma=0.0001,\n",
    "#     distance=0.1,\n",
    "#     alpha=0.5,\n",
    "#     save_weights=True,\n",
    "#     output_weights=False,\n",
    "#     plot_weights=False\n",
    "# )\n",
    "\n",
    "# Dynamic panalize - new config\n",
    "# ew = edge_weight(\n",
    "#     version=3,\n",
    "#     omega=1.1,\n",
    "#     epsilon=1,\n",
    "#     gamma=0.0001,\n",
    "#     distance=0.1,\n",
    "#     alpha=0.5,\n",
    "#     save_weights=False,\n",
    "#     output_weights=True,\n",
    "#     plot_weights=False\n",
    "# )\n",
    "\n",
    "# Read\n",
    "# ew = ew_read()"
   ]
  },
  {
   "source": [
    "## HITS"
   ],
   "cell_type": "markdown",
   "metadata": {}
  },
  {
   "cell_type": "code",
   "execution_count": 10,
   "metadata": {},
   "outputs": [],
   "source": [
    "# HITS test different variations\n",
    "# a,h = hits(\n",
    "#     version=5,\n",
    "#     sigma=0.85,\n",
    "#     max_iter=200,\n",
    "#     output=True,\n",
    "#     plot=True,\n",
    "#     save=False\n",
    "# )"
   ]
  },
  {
   "cell_type": "code",
   "execution_count": 14,
   "metadata": {},
   "outputs": [],
   "source": [
    "# HITS\n",
    "# a,h = hits(\n",
    "#     version=3,\n",
    "#     sigma=0.85,\n",
    "#     max_iter=100,\n",
    "#     output=False,\n",
    "#     plot=True,\n",
    "#     save=True\n",
    "# )\n",
    "\n",
    "# Read\n",
    "# a, h = hits_read()\n",
    "\n",
    "# Conditional\n",
    "# hits_conditional()\n",
    "\n",
    "# Read\n",
    "# hitsc = hits_conditional_read(return_all=True)\n",
    "\n",
    "# Analize\n",
    "# hits_analyze()\n",
    "\n",
    "# Group\n",
    "# hits_group()"
   ]
  },
  {
   "cell_type": "code",
   "execution_count": 15,
   "metadata": {},
   "outputs": [],
   "source": [
    "# hg = hits_group(versions=[1,2])"
   ]
  },
  {
   "source": [
    "## Node removal"
   ],
   "cell_type": "markdown",
   "metadata": {}
  },
  {
   "cell_type": "code",
   "execution_count": 12,
   "metadata": {
    "tags": []
   },
   "outputs": [],
   "source": [
    "# hr = hits_remove(\n",
    "#     epoch=24, # 24\n",
    "#     remove=0.5,\n",
    "#     step=100,  # 10\n",
    "#     strategy_a='a',\n",
    "#     strategy_b='t',\n",
    "#     strategy_c='n',  # 'r'\n",
    "#     strategy_d=1,  # Score-based removal\n",
    "#     # actions=[0, 2],\n",
    "#     actions=[0, 2, 4, 5],\n",
    "#     output=True,\n",
    "#     plot_times=True,\n",
    "#     save_networks=True,\n",
    "#     return_graphs=True,\n",
    "#     return_scores=True,\n",
    "# )"
   ]
  },
  {
   "source": [
    "## Reachability"
   ],
   "cell_type": "markdown",
   "metadata": {}
  },
  {
   "cell_type": "code",
   "execution_count": null,
   "metadata": {},
   "outputs": [],
   "source": [
    "# reachability(\n",
    "#     # graph=T,\n",
    "#     output=True,\n",
    "#     save=True,\n",
    "# )"
   ]
  },
  {
   "cell_type": "code",
   "execution_count": null,
   "metadata": {},
   "outputs": [],
   "source": [
    "# reachability_create(\n",
    "#     # graph=T,\n",
    "#     output=True,\n",
    "#     save=True,\n",
    "# )"
   ]
  }
 ]
}